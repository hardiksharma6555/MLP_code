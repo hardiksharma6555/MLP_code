{
  "cells": [
    {
      "cell_type": "markdown",
      "metadata": {
        "id": "view-in-github",
        "colab_type": "text"
      },
      "source": [
        "<a href=\"https://colab.research.google.com/github/hardiksharma6555/MLP_code/blob/main/MLP_Week7.ipynb\" target=\"_parent\"><img src=\"https://colab.research.google.com/assets/colab-badge.svg\" alt=\"Open In Colab\"/></a>"
      ]
    },
    {
      "cell_type": "code",
      "execution_count": null,
      "metadata": {
        "id": "0SPfsWKmOW4W"
      },
      "outputs": [],
      "source": [
        "# Common imports \n",
        "import numpy as np\n",
        "from pprint import pprint  \n",
        "\n",
        "# to make this notebook's output stable across runs\n",
        "np.random.seed(42) \n",
        "\n",
        "# sklearn specific imports \n",
        "from sklearn.preprocessing import MinMaxScaler ,StandardScaler\n",
        "from sklearn.pipeline import make_pipeline ,Pipeline\n",
        "from sklearn.dummy import DummyClassifier \n",
        "from sklearn.linear_model  import SGDClassifier, RidgeClassifier, LogisticRegression ,LogisticRegressionCV\n",
        "from sklearn.model_selection import cross_validate, RandomizedSearchCV,GridSearchCV, cross_val_predict ,learning_curve\n",
        "\n",
        "from sklearn.neighbors import KNeighborsClassifier\n",
        "\n",
        "# log loss is also known as cross entropy loss\n",
        "from sklearn.metrics import log_loss \n",
        "from sklearn.metrics import ConfusionMatrixDisplay \n",
        "from sklearn.metrics import precision_score, recall_score, classification_report \n",
        "from sklearn.metrics import precision_recall_curve ,make_scorer ,f1_score\n",
        "from sklearn.metrics import roc_curve, roc_auc_score \n",
        "\n",
        "#scipy \n",
        "from scipy.stats import loguniform \n",
        "\n",
        "# To plot pretty figures \n",
        "%matplotlib inline \n",
        "import matplotlib as mpl \n",
        "import matplotlib.colors\n",
        "import matplotlib.pyplot as plt \n",
        "import seaborn as sns;sns.set()\n",
        "\n",
        "# global settings \n",
        "mpl.rc('axes',labelsize=14) \n",
        "mpl.rc('xtick',labelsize=12) \n",
        "mpl.rc('ytick',labelsize=12) \n",
        "mpl.rc('figure',figsize=(8,6))\n",
        "\n",
        "import warnings \n",
        "warnings.filterwarnings('ignore')"
      ]
    },
    {
      "cell_type": "code",
      "execution_count": null,
      "metadata": {
        "id": "IyPtos-yg2FN"
      },
      "outputs": [],
      "source": [
        "from sklearn.datasets import fetch_openml\n",
        "X, y = fetch_openml('mnist_784', version=1, return_X_y=True)\n"
      ]
    }
  ],
  "metadata": {
    "colab": {
      "provenance": [],
      "collapsed_sections": [],
      "authorship_tag": "ABX9TyPVg0uZy6KVVyZcJR0diWcI",
      "include_colab_link": true
    },
    "kernelspec": {
      "display_name": "Python 3",
      "name": "python3"
    },
    "language_info": {
      "name": "python"
    }
  },
  "nbformat": 4,
  "nbformat_minor": 0
}