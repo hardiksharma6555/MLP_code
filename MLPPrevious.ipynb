{
  "nbformat": 4,
  "nbformat_minor": 0,
  "metadata": {
    "colab": {
      "provenance": [],
      "authorship_tag": "ABX9TyPePKxzbaJTEabO/ByGPS/w",
      "include_colab_link": true
    },
    "kernelspec": {
      "name": "python3",
      "display_name": "Python 3"
    },
    "language_info": {
      "name": "python"
    }
  },
  "cells": [
    {
      "cell_type": "markdown",
      "metadata": {
        "id": "view-in-github",
        "colab_type": "text"
      },
      "source": [
        "<a href=\"https://colab.research.google.com/github/hardiksharma6555/MLP_code/blob/main/MLPPrevious.ipynb\" target=\"_parent\"><img src=\"https://colab.research.google.com/assets/colab-badge.svg\" alt=\"Open In Colab\"/></a>"
      ]
    },
    {
      "cell_type": "code",
      "execution_count": 1,
      "metadata": {
        "id": "qzSOEX3ExS2I"
      },
      "outputs": [],
      "source": [
        "import numpy as np\n",
        "import pandas as pd\n",
        "import matplotlib.pyplot as plt\n",
        "import seaborn as sns"
      ]
    },
    {
      "cell_type": "code",
      "source": [
        "from google.colab import files\n",
        "files.upload()"
      ],
      "metadata": {
        "colab": {
          "base_uri": "https://localhost:8080/",
          "height": 1000
        },
        "id": "lOI7XMGpxvuj",
        "outputId": "67fccc89-e899-4328-f4b2-49cdbd83dbfb"
      },
      "execution_count": 2,
      "outputs": [
        {
          "output_type": "display_data",
          "data": {
            "text/plain": [
              "<IPython.core.display.HTML object>"
            ],
            "text/html": [
              "\n",
              "     <input type=\"file\" id=\"files-10a196cb-9458-4313-9881-ffa564f34d3b\" name=\"files[]\" multiple disabled\n",
              "        style=\"border:none\" />\n",
              "     <output id=\"result-10a196cb-9458-4313-9881-ffa564f34d3b\">\n",
              "      Upload widget is only available when the cell has been executed in the\n",
              "      current browser session. Please rerun this cell to enable.\n",
              "      </output>\n",
              "      <script>// Copyright 2017 Google LLC\n",
              "//\n",
              "// Licensed under the Apache License, Version 2.0 (the \"License\");\n",
              "// you may not use this file except in compliance with the License.\n",
              "// You may obtain a copy of the License at\n",
              "//\n",
              "//      http://www.apache.org/licenses/LICENSE-2.0\n",
              "//\n",
              "// Unless required by applicable law or agreed to in writing, software\n",
              "// distributed under the License is distributed on an \"AS IS\" BASIS,\n",
              "// WITHOUT WARRANTIES OR CONDITIONS OF ANY KIND, either express or implied.\n",
              "// See the License for the specific language governing permissions and\n",
              "// limitations under the License.\n",
              "\n",
              "/**\n",
              " * @fileoverview Helpers for google.colab Python module.\n",
              " */\n",
              "(function(scope) {\n",
              "function span(text, styleAttributes = {}) {\n",
              "  const element = document.createElement('span');\n",
              "  element.textContent = text;\n",
              "  for (const key of Object.keys(styleAttributes)) {\n",
              "    element.style[key] = styleAttributes[key];\n",
              "  }\n",
              "  return element;\n",
              "}\n",
              "\n",
              "// Max number of bytes which will be uploaded at a time.\n",
              "const MAX_PAYLOAD_SIZE = 100 * 1024;\n",
              "\n",
              "function _uploadFiles(inputId, outputId) {\n",
              "  const steps = uploadFilesStep(inputId, outputId);\n",
              "  const outputElement = document.getElementById(outputId);\n",
              "  // Cache steps on the outputElement to make it available for the next call\n",
              "  // to uploadFilesContinue from Python.\n",
              "  outputElement.steps = steps;\n",
              "\n",
              "  return _uploadFilesContinue(outputId);\n",
              "}\n",
              "\n",
              "// This is roughly an async generator (not supported in the browser yet),\n",
              "// where there are multiple asynchronous steps and the Python side is going\n",
              "// to poll for completion of each step.\n",
              "// This uses a Promise to block the python side on completion of each step,\n",
              "// then passes the result of the previous step as the input to the next step.\n",
              "function _uploadFilesContinue(outputId) {\n",
              "  const outputElement = document.getElementById(outputId);\n",
              "  const steps = outputElement.steps;\n",
              "\n",
              "  const next = steps.next(outputElement.lastPromiseValue);\n",
              "  return Promise.resolve(next.value.promise).then((value) => {\n",
              "    // Cache the last promise value to make it available to the next\n",
              "    // step of the generator.\n",
              "    outputElement.lastPromiseValue = value;\n",
              "    return next.value.response;\n",
              "  });\n",
              "}\n",
              "\n",
              "/**\n",
              " * Generator function which is called between each async step of the upload\n",
              " * process.\n",
              " * @param {string} inputId Element ID of the input file picker element.\n",
              " * @param {string} outputId Element ID of the output display.\n",
              " * @return {!Iterable<!Object>} Iterable of next steps.\n",
              " */\n",
              "function* uploadFilesStep(inputId, outputId) {\n",
              "  const inputElement = document.getElementById(inputId);\n",
              "  inputElement.disabled = false;\n",
              "\n",
              "  const outputElement = document.getElementById(outputId);\n",
              "  outputElement.innerHTML = '';\n",
              "\n",
              "  const pickedPromise = new Promise((resolve) => {\n",
              "    inputElement.addEventListener('change', (e) => {\n",
              "      resolve(e.target.files);\n",
              "    });\n",
              "  });\n",
              "\n",
              "  const cancel = document.createElement('button');\n",
              "  inputElement.parentElement.appendChild(cancel);\n",
              "  cancel.textContent = 'Cancel upload';\n",
              "  const cancelPromise = new Promise((resolve) => {\n",
              "    cancel.onclick = () => {\n",
              "      resolve(null);\n",
              "    };\n",
              "  });\n",
              "\n",
              "  // Wait for the user to pick the files.\n",
              "  const files = yield {\n",
              "    promise: Promise.race([pickedPromise, cancelPromise]),\n",
              "    response: {\n",
              "      action: 'starting',\n",
              "    }\n",
              "  };\n",
              "\n",
              "  cancel.remove();\n",
              "\n",
              "  // Disable the input element since further picks are not allowed.\n",
              "  inputElement.disabled = true;\n",
              "\n",
              "  if (!files) {\n",
              "    return {\n",
              "      response: {\n",
              "        action: 'complete',\n",
              "      }\n",
              "    };\n",
              "  }\n",
              "\n",
              "  for (const file of files) {\n",
              "    const li = document.createElement('li');\n",
              "    li.append(span(file.name, {fontWeight: 'bold'}));\n",
              "    li.append(span(\n",
              "        `(${file.type || 'n/a'}) - ${file.size} bytes, ` +\n",
              "        `last modified: ${\n",
              "            file.lastModifiedDate ? file.lastModifiedDate.toLocaleDateString() :\n",
              "                                    'n/a'} - `));\n",
              "    const percent = span('0% done');\n",
              "    li.appendChild(percent);\n",
              "\n",
              "    outputElement.appendChild(li);\n",
              "\n",
              "    const fileDataPromise = new Promise((resolve) => {\n",
              "      const reader = new FileReader();\n",
              "      reader.onload = (e) => {\n",
              "        resolve(e.target.result);\n",
              "      };\n",
              "      reader.readAsArrayBuffer(file);\n",
              "    });\n",
              "    // Wait for the data to be ready.\n",
              "    let fileData = yield {\n",
              "      promise: fileDataPromise,\n",
              "      response: {\n",
              "        action: 'continue',\n",
              "      }\n",
              "    };\n",
              "\n",
              "    // Use a chunked sending to avoid message size limits. See b/62115660.\n",
              "    let position = 0;\n",
              "    do {\n",
              "      const length = Math.min(fileData.byteLength - position, MAX_PAYLOAD_SIZE);\n",
              "      const chunk = new Uint8Array(fileData, position, length);\n",
              "      position += length;\n",
              "\n",
              "      const base64 = btoa(String.fromCharCode.apply(null, chunk));\n",
              "      yield {\n",
              "        response: {\n",
              "          action: 'append',\n",
              "          file: file.name,\n",
              "          data: base64,\n",
              "        },\n",
              "      };\n",
              "\n",
              "      let percentDone = fileData.byteLength === 0 ?\n",
              "          100 :\n",
              "          Math.round((position / fileData.byteLength) * 100);\n",
              "      percent.textContent = `${percentDone}% done`;\n",
              "\n",
              "    } while (position < fileData.byteLength);\n",
              "  }\n",
              "\n",
              "  // All done.\n",
              "  yield {\n",
              "    response: {\n",
              "      action: 'complete',\n",
              "    }\n",
              "  };\n",
              "}\n",
              "\n",
              "scope.google = scope.google || {};\n",
              "scope.google.colab = scope.google.colab || {};\n",
              "scope.google.colab._files = {\n",
              "  _uploadFiles,\n",
              "  _uploadFilesContinue,\n",
              "};\n",
              "})(self);\n",
              "</script> "
            ]
          },
          "metadata": {}
        },
        {
          "output_type": "stream",
          "name": "stdout",
          "text": [
            "Saving v4.csv to v4.csv\n"
          ]
        },
        {
          "output_type": "execute_result",
          "data": {
            "text/plain": [
              "{'v4.csv': b\"Country,Status,Life_expectancy,Adult_Mortality,infant_deaths,Alcohol,percentage_expenditure,Hepatitis_B,Measles,BMI,under-five_deaths,Polio,Total_expenditure,Diphtheria,HIV_AIDS,GDP,Population,Income_composition_of_resources,Schooling\\r\\nSaint Vincent and the Grenadines,Developing,73.2,156,0,,0,98,0,54.1,0,97,,98,0.1,,,0.72,13.3\\r\\nChile,Developing,77.3,13,2,6.24,74.14842946,,0,54,3,91,6.4,91,0.1,511.368479,15262754,0.755,13.5\\r\\nEgypt,Developing,69,176,57,0.16,0,97,80,52.9,70,97,5.21,97,0.1,,,0.623,11.2\\r\\nRepublic of Korea,Developing,81.2,69,1,9.56,0,99,2,3.4,2,99,7.1,99,0.1,,,,\\r\\nCosta Rica,Developing,78.1,16,1,3.58,2377.010299,89,0,55.5,1,93,9.66,88,0.1,8199.414621,454528,0.749,13.3\\r\\nLebanon,Developing,74.9,94,1,1.58,805.3956346,81,12,63.5,1,75,7.19,81,0.1,8763.826274,4337141,0.752,13.3\\r\\nIndonesia,Developing,66.5,188,182,0.06,33.95837125,62,3825,16,229,77,2.23,76,0.1,747.9817455,2145652,0.604,10.6\\r\\nQatar,Developing,76.7,83,0,1.24,44.18506273,94,361,65.1,0,97,2.31,94,0.1,675.61258,,0.83,12.6\\r\\nPeru,Developing,71.4,154,18,4.59,297.5112337,,1,45.4,24,93,4.83,98,0.5,1996.719689,25914879,0.674,13.5\\r\\nCosta Rica,Developing,79.4,96,1,3.42,386.1379123,94,0,58.5,1,95,9.47,95,0.1,1569.66631,47641,0.762,13.7\\r\\nIceland,Developed,81.4,58,0,8.49,7613.814999,,0,58.1,0,98,8.8,98,0.1,55575.29196,317414,0.892,18.2\\r\\nHonduras,Developing,74.1,151,4,3.11,363.5721644,97,0,48.4,4,97,9.78,97,0.4,2178.38325,855646,0.614,11.6\\r\\nBurundi,Developing,54.8,355,24,4.54,1.72659515,99,43,14.8,36,93,1.3,99,3.4,17.79995,7939573,0.309,7.2\\r\\nBolivia (Plurinational State of),Developing,68,27,10,3.87,0,93,0,48.6,12,92,5.76,93,0.2,,,0.636,13.8\\r\\nEcuador,Developing,75.3,131,7,3.99,344.7412164,88,257,51.4,8,85,5.92,88,0.1,5223.351763,15177355,0.71,13.2\\r\\nSlovenia,Developed,79.5,87,0,10.32,3187.496219,,2,57,0,96,9.7,96,0.1,23437.4722,248583,0.872,16.9\\r\\nBrazil,Developing,72.7,163,75,6.97,23.76370075,98,6,47.8,85,99,8.27,99,0.1,477.182746,186917361,0.694,13.8\\r\\nZimbabwe,Developing,48.2,632,30,3.56,20.84342867,75,0,28.6,46,75,4.96,75,20.5,325.678573,13558469,0.421,9.7\\r\\nAngola,Developing,45.7,44,97,2.58,30.35993647,,9046,15.8,159,41,5.38,38,2.1,526.168743,16983266,0.391,5.1\\r\\nPoland,Developed,74.5,145,3,8.02,516.0554391,98,34,54,3,98,6.32,99,0.1,5196.932921,3823364,0.79,15\\r\\nBrunei Darussalam,Developing,77.7,78,0,,0,99,4,41.2,0,99,,99,0.1,3967.8951,,0.864,14.9\\r\\nHungary,Developed,75,146,0,11.27,164.2793407,,2,63,1,99,7.74,99,0.1,12834.32349,992362,0.823,15.4\\r\\nUnited Arab Emirates,Developing,75.1,95,1,1.77,2972.448675,92,22,57,1,94,2.46,94,0.1,36161.1761,,0.813,12.4\\r\\nSerbia,Developing,74.1,131,1,9.85,820.8109098,93,1,56.4,1,97,9.9,95,0.1,5821.35397,73287,0.754,13.6\\r\\nCabo Verde,Developing,72.7,121,0,0.01,33.55888998,94,0,29,0,94,4.61,94,0.3,348.482762,513979,0.636,13.2\\r\\nBahamas,Developing,73.2,189,0,10.68,0,88,0,56.7,0,93,5.62,92,0.1,,,0.783,12.2\\r\\nDemocratic Republic of the Congo,Developing,52.8,332,231,1.83,0,,21956,16.1,331,47,3.2,41,2.2,,,,\\r\\nVanuatu,Developing,69,18,0,1.21,21.90075232,7,9,41.1,0,67,3.28,71,0.1,1469.849149,18563,0,9.6\\r\\nNicaragua,Developing,72.5,169,3,3.64,275.064434,97,0,48.6,3,97,6.98,97,0.2,1518.85386,559456,0.607,11.1\\r\\nBhutan,Developing,67.4,232,1,0.17,27.48907048,93,6,19.5,1,93,6.3,93,0.4,177.234497,714458,0,10.9\\r\\nUzbekistan,Developing,67.9,184,22,2.36,13.89021225,91,2,39.3,25,98,5.92,98,0.3,182.28625,27328,0.644,11.9\\r\\nLibya,Developing,71.9,138,2,0.01,472.3047034,97,292,56,3,98,2.71,98,0.1,8171.361651,,0.748,15.7\\r\\nSyrian Arab Republic,Developing,64.5,293,6,,0,41,45,57.1,8,5,,41,0.1,,18734987,0.553,9\\r\\nKiribati,Developing,65.2,28,0,0.54,162.2903711,86,0,74.6,0,84,12.24,86,0.1,1297.285141,1568,0.576,11.9\\r\\nTogo,Developing,59.9,287,13,,0,88,20,24.3,20,88,,88,1,551.138346,741682,0.484,12\\r\\nFinland,Developing,89,78,0,8.8,6164.455402,,0,61.7,0,98,9.68,98,0.1,49914.61864,5461512,0.89,17\\r\\nSingapore,Developed,81.1,65,0,1.6,3082.973535,96,15,3.9,0,97,3.46,97,0.1,39223.58187,,0.873,14.1\\r\\nNiger,Developing,69,227,49,0.01,31.50243237,67,1224,18.5,89,56,5.9,67,0.6,416.14838,18426372,0.341,5.3\\r\\nNetherlands,Developed,81.9,57,1,,0,94,7,62.1,1,95,,95,0.1,44292.88473,16939923,0.923,18.1\\r\\nGrenada,Developing,72.4,158,0,8.42,146.4384488,99,0,43.1,0,99,6.24,99,0.1,7395.88125,,0,15.6\\r\\nSri Lanka,Developing,73.7,146,4,2.29,127.6377505,98,44,17.9,5,98,3.76,98,0.1,1644.816372,19668,0.725,13.2\\r\\nTurkey,Developing,74.8,112,19,1.54,20.75120211,97,349,63.7,22,97,5.24,97,0.1,1172.3843,74569867,0.75,14.3\\r\\nTogo,Developing,56.7,336,14,1.24,77.09551224,78,425,2.9,22,78,6.64,78,4.3,499.6468713,633472,0.442,10.6\\r\\nUnited Republic of Tanzania,Developing,57.5,36,89,4.19,0,91,167,2.7,131,94,5.3,91,4.6,,,,\\r\\nSouth Africa,Developing,58,428,43,7.28,1038.885632,71,12499,47.2,62,72,8.5,72,11,7362.76139,5979432.36,0.63,12.8\\r\\nGeorgia,Developing,73.2,133,1,6.66,18.5314303,54,23,51.3,1,93,1.19,88,0.1,276.588512,3978,0.734,12.8\\r\\nGuatemala,Developing,79,19,13,2.21,472.2234994,95,0,45.9,15,96,6.65,95,0.4,2794.22189,146366,0.589,10.4\\r\\nIran (Islamic Republic of),Developing,73.3,122,23,0.03,0,99,262,52.5,27,99,7.63,99,0.1,,,0.728,12.8\\r\\nGeorgia,Developing,73.9,128,1,4.7,9.444875415,79,1356,48.6,1,82,8.6,82,0.1,153.57521,419,0.703,12.2\\r\\nSudan,Developing,63.2,235,61,0.01,220.522192,92,8523,,89,92,8.2,92,0.3,1892.894352,3599192,0.468,6.8\\r\\nMauritania,Developing,61,229,7,0.01,28.782245,,1398,21.7,12,75,4.34,75,1.2,464.229758,279729,0.444,6.5\\r\\nIreland,Developed,77,89,0,14.27,4264.579203,,241,52.2,0,84,6.6,84,0.1,28223.55528,3866243,0.857,16.4\\r\\nLebanon,Developing,74.8,99,1,1.32,140.3771361,81,112,65.4,1,75,6.39,81,0.1,8161.4614,563279,0.763,13.3\\r\\nCanada,Developing,82,65,2,8.1,102.1902168,55,418,66.4,2,91,1.45,91,0.1,544.43376,35544564,0.912,15.9\\r\\nLatvia,Developed,69.9,228,0,6.68,332.2751709,96,1,55.7,0,97,6.17,97,0.1,3572.8513,233717,0.728,14.2\\r\\nChad,Developing,48.6,46,45,0.42,8.936064632,,2,15.4,79,37,3.91,25,5.2,66.2421396,1679,0.306,5.6\\r\\nRepublic of Moldova,Developing,67.1,235,1,9.89,0,92,687,46.5,2,97,6.65,95,0.1,,,,\\r\\nSingapore,Developed,79,74,0,2.16,142.0989818,95,211,29.2,0,94,2.84,94,0.1,2216.83279,,0.818,12.6\\r\\nSwitzerland,Developed,81.1,66,0,10.15,10055.34981,,60,53.2,0,94,1.86,94,0.1,54797.54663,7437115,0.899,15.2\\r\\nKazakhstan,Developing,63.9,292,9,6,112.541157,99,245,43.9,10,96,4.16,97,0.1,1229.958,14883626,0.676,12.1\\r\\nEthiopia,Developing,57.2,328,196,1.22,22.18952246,,1451,14.2,304,59,4.47,46,3.3,193.794956,7885689,0.346,6.6\\r\\nLesotho,Developing,51.1,527,4,2.71,154.8705998,93,2488,29.7,6,92,1.87,93,13.4,1173.26212,24551,0.464,10.9\\r\\nGuinea,Developing,55.6,317,31,0.16,10.3839337,,4,19,49,53,3.2,57,2.6,296.68382,9881428,0.356,7.1\\r\\nMaldives,Developing,75,88,0,1.62,659.8499118,98,47,18.7,0,98,7.37,98,0.1,4428.522898,333,0.622,12\\r\\nLibya,Developing,72.8,132,2,0.01,52.50394196,98,0,59.9,2,98,3.5,98,0.1,1212.56217,,0.755,14.3\\r\\nGuatemala,Developing,69.2,28,14,2.35,41.50845637,87,0,43.8,18,87,6.79,87,0.4,277.83438,139628,0.567,9.6\\r\\nPapua New Guinea,Developing,62.7,278,10,0.01,208.2311603,67,2299,47.9,13,64,4.26,73,0.7,2182.716565,7755785,0.511,10\\r\\nUnited States of America,Developed,78.7,16,25,8.67,0,91,220,67.5,29,94,17.6,96,0.1,,,,\\r\\nGabon,Developing,61.6,291,2,9.02,545.4389573,75,0,31.9,3,78,2.86,81,10,8352.81711,1489193,0.645,12.4\\r\\nSomalia,Developing,57,352,46,0.01,0,,3571,18.2,75,33,,33,0.8,,,,\\r\\nMauritius,Developing,73.3,163,0,2.95,0.108055973,99,12,3.7,0,99,5.29,99,0.2,8.376432,1254,0.74,14\\r\\nSierra Leone,Developing,43.3,48,30,3.83,42.08892911,,29,19.2,47,67,12.25,65,2.2,287.6891942,5658379,0.341,7.8\\r\\nCuba,Developing,77.9,12,1,4.26,708.6157966,95,0,56.2,1,99,1.79,95,0.1,5376.447622,,0.771,17.1\\r\\nIraq,Developing,74,148,32,0.2,185.6366983,75,30328,55.2,39,78,4.65,78,0.1,3735.144836,29894652,0.643,10.3\\r\\nKuwait,Developing,74.3,84,1,0.01,2957.973963,98,27,69.5,1,98,2.57,98,0.1,51264.7134,,0.794,13.2\\r\\nMadagascar,Developing,63.3,248,32,1.03,76.60442169,7,1,18,45,7,4.86,7,0.5,412.739341,2115164,0.503,10.2\\r\\nLebanon,Developing,74.1,1,1,1.82,534.5795695,78,956,61.4,1,75,8.83,78,0.1,5372.65899,45735,0.733,13.2\\r\\nBurkina Faso,Developing,52.4,323,49,4.54,56.96108089,,77,13.7,91,83,6.45,79,2.5,371.323865,133569,0,3.9\\r\\nBelarus,Developing,70,226,0,14.09,434.7985025,98,0,58.7,1,98,6.9,96,0.1,5176.172649,956765,0.771,15.4\\r\\nPhilippines,Developing,66.8,221,68,4.42,0.09987219,42,7003,18.7,89,77,2.79,79,0.1,1.68135,813526,0.625,11.4\\r\\nMalaysia,Developing,73.8,132,3,0.47,438.4519214,97,334,33.4,4,97,3.47,97,0.1,8513.629541,2711169,0.747,12.5\\r\\nPakistan,Developing,62.8,19,385,0.02,18.84534312,,2064,16.4,495,65,2.79,62,0.1,533.8624114,138523285,0.445,5.3\\r\\nCambodia,Developing,68.3,179,11,0.01,12.17952064,88,0,18.9,12,87,5.68,88,0.2,198.687123,152779,0.553,10.9\\r\\nTunisia,Developing,74.4,12,3,1.46,420.1153538,99,3,53.1,4,99,5.64,99,0.1,3371.71231,1196136,0.689,14.2\\r\\nMauritania,Developing,61.4,217,8,0.02,61.76263795,74,4,26.1,12,73,3.23,74,1.3,1167.535689,347541,0.475,7.2\\r\\nNepal,Developing,67,189,27,0.21,70.27113179,82,2089,15.4,35,82,6.44,82,0.2,473.844449,26475859,0.492,10.1\\r\\nGreece,Developing,78.7,83,1,8.62,1403.022211,9,12,58,1,9,8.47,91,0.1,12538.17883,1862132,0.801,14.2\\r\\nLuxembourg,Developed,78.6,92,0,12.61,10111.38928,95,1,55.8,0,99,7.67,98,0.1,65445.8853,45163,0.865,13.6\\r\\nSweden,Developed,83,7,0,6.6,5793.363644,,5,54.9,0,99,9.9,99,0.1,42442.2245,8993531,0.888,16\\r\\nTunisia,Developing,74.8,13,3,1.29,623.2120325,98,11,57.4,3,98,7.15,98,0.1,4256.91279,1761467,0.714,14.5\\r\\nMicronesia (Federated States of),Developing,68.2,175,0,1.64,0,9,0,64.7,0,79,11.99,79,0.1,,,0.625,11\\r\\nTimor-Leste,Developing,67.7,158,2,0.01,3.379874844,82,4,16.6,2,82,1.29,82,0.1,117.765674,1184366,0.62,12.5\\r\\nUkraine,Developing,77,25,5,8.44,453.7830847,46,12746,59.6,5,72,7.47,76,0.2,3855.42128,455933,0.739,15.1\\r\\nNetherlands,Developed,79.8,71,1,9.79,8344.010392,,1,56.5,1,96,9.36,96,0.1,44453.97119,1634611,0.893,16.5\\r\\nDjibouti,Developing,69,279,1,0.49,177.2671607,89,48,31.7,2,89,8.37,89,3.2,1253.657431,83684,0.436,5.3\\r\\nBelize,Developing,69.6,181,0,7.22,51.25232422,94,0,45.7,0,94,5.9,94,0.1,447.22796,36165,0.699,12.8\\r\\nHonduras,Developing,72.5,163,5,3.23,203.7134882,97,0,42.8,6,98,7.81,98,0.9,1311.741714,737343,0.577,10.6\\r\\nCosta Rica,Developing,79.6,95,1,,0,92,0,6.5,1,92,,92,0.1,1146.36273,487852,0.775,14.2\\r\\nBrazil,Developing,73.4,158,61,7.21,526.3780636,96,0,5.3,68,99,8.24,99,0.1,8787.61375,19297929,0.704,13.3\\r\\nAfghanistan,Developing,59.9,268,66,0.01,73.21924272,64,430,18.1,89,62,8.13,64,0.1,631.744976,31731688,0.47,9.9\\r\\nGreece,Developing,88,73,0,7.53,2163.043414,96,1,66,0,99,8.8,99,0.1,21673.7817,1892413,0.862,17.2\\r\\nSyrian Arab Republic,Developing,72.6,136,10,1.41,81.7274712,79,146,43.9,12,86,4.92,84,0.1,1177.629268,1641848,0.588,10\\r\\nSweden,Developed,79.9,71,0,6.9,3998.09987,,9,53.9,0,99,9.23,99,0.1,29571.7446,8924958,0.88,15.9\\r\\nIndia,Developing,64.4,211,1500,1.27,3.5096369,8,36711,13.5,2000,65,4.28,65,0.3,77.819,1144118674,0.526,9.4\\r\\nGrenada,Developing,79,176,0,10.71,513.3465408,98,0,38.8,0,98,6.67,98,0.1,5292.232379,,0,14.4\\r\\nAustria,Developed,84,75,0,12.1,7423.228774,86,52,55.2,0,86,11.17,86,0.1,46657.629,836344,0.872,15.4\\r\\nTogo,Developing,55.7,345,15,1.37,6.226048785,,26,19.3,22,85,5.56,84,5,377.33629,5837792,0.436,10.2\\r\\nNigeria,Developing,48.5,47,563,9.76,57.22555815,,31521,18.8,907,43,4.33,33,5.4,648.815852,135393616,0.445,8.5\\r\\nBurkina Faso,Developing,58.6,271,41,4.75,78.76987363,9,7362,17.7,68,9,5.33,9,0.8,673.8227,16571216,0.384,7.2\\r\\nNepal,Developing,67.5,183,25,0.22,6.19357029,89,189,15.9,32,93,6.41,89,0.2,48.7299,2674113,0.502,10.5\\r\\nSerbia,Developing,73,135,1,9.6,503.1115947,65,2,53.9,1,98,8.7,98,0.1,3528.1318,744769,0.73,13.2\\r\\nAustria,Developed,82,77,0,11.3,8053.557638,83,49,54.7,0,83,11.19,83,0.1,47654.18721,8343323,0.87,15.3\\r\\nLithuania,Developed,71.2,21,0,10.2,42.87208671,95,7,57.2,0,97,6.26,95,0.1,353.147337,347818,0.757,14.7\\r\\nKuwait,Developing,74,86,1,0.01,2009.575605,99,13,68.4,1,98,2.76,98,0.1,38497.61696,,0.79,13.5\\r\\nAntigua and Barbuda,Developing,75.2,142,0,8.27,180.7762695,98,0,43.2,0,99,4.69,99,0.1,1473.31923,,0.786,14.4\\r\\nBarbados,Developing,74.1,115,0,8.39,181.5000856,84,0,47.7,0,85,5.27,84,0.1,15646.5591,,0.766,14.8\\r\\nMontenegro,Developing,75.8,19,0,0.01,707.144691,9,0,6.7,0,94,6.43,94,0.1,7186.429787,62127,0.799,15.1\\r\\nSomalia,Developing,51.5,34,52,0.01,0,,1149,2.7,84,4,,4,0.9,,,,\\r\\nYemen,Developing,64.4,233,35,0.06,0,76,510,37.2,45,77,5.17,76,0.1,,,0.488,8.5\\r\\nSeychelles,Developing,73,17,0,0.01,151.1045552,99,0,36.2,0,99,3.37,99,0.1,1557.77892,91359,0.766,13.2\\r\\nViet Nam,Developing,74,137,30,2.19,0,78,2297,1.4,37,96,4.84,99,0.2,,,0.592,10.9\\r\\nTuvalu,Developing,,,0,0.01,78.28120317,9,0,79.3,0,9,16.61,9,0.1,3542.13589,1819,,0\\r\\nJapan,Developed,83.3,58,2,7.39,121.5869163,,228,27.8,3,99,1.17,97,0.1,4863.47665,127629,0.889,15.3\\r\\nArgentina,Developing,76.2,118,8,7.93,847.3717463,94,1,62.2,9,92,4.79,94,0.1,12245.25645,42981515,0.825,17.3\\r\\nCabo Verde,Developing,73.3,114,0,,0,96,0,31.3,0,93,,93,0.2,2954.119467,532913,0.646,13.5\\r\\nBahrain,Developing,74.5,92,0,2.15,167.7270642,97,6,54.5,0,97,3.51,97,0.1,13636.34668,,0.786,13.2\\r\\nSouth Sudan,Developing,48.9,38,31,,0,,0,,50,,,,2.7,,67656,0,0\\r\\nMalaysia,Developing,72.7,144,4,0.53,210.2417002,95,2198,27,5,95,3.4,96,0.1,3915.11546,2369897,0.725,11.9\\r\\nRussian Federation,Developing,69.6,237,14,10.99,178.8225911,97,2123,58.7,16,98,6.88,97,0.3,15154.45687,14321676,0.792,14.3\\r\\nSweden,Developed,81.5,58,0,7.2,778.2477467,,6,57.3,0,98,9.47,98,0.1,5276.25591,9378126,0.895,15.8\\r\\nLatvia,Developed,75,229,0,10.4,1099.248837,94,7,57.4,0,96,6.8,96,0.1,9667.9757,2218357,0.807,16.2\\r\\nCosta Rica,Developing,78.9,99,1,4.22,1859.095621,89,0,53.4,1,89,9.1,9,0.1,6911.136136,442958,0.74,12.9\\r\\nSudan,Developing,61,26,66,1.9,60.3368571,6,228,,99,77,3.93,78,0.2,893.8793645,316764,0.43,6.2\\r\\nNigeria,Developing,48.1,41,567,9.75,30.19550849,,141258,18.3,918,42,4.5,29,5.4,512.65719,131972533,0,8.1\\r\\nCanada,Developing,80,77,2,7.8,5513.329924,14,7,6.6,2,91,9.56,91,0.1,31979.87195,31995,0.881,15.8\\r\\nDemocratic People's Republic of Korea,Developing,69.4,153,8,3.39,0,94,0,3.8,10,99,,94,0.1,,,,\\r\\nEcuador,Developing,74.4,148,8,3.65,16.37920405,88,0,46.5,9,9,6.22,88,0.3,278.557892,1359647,0.682,12.7\\r\\nEstonia,Developing,76.9,127,0,0.01,261.2914808,93,2,59,0,94,6.48,94,0.1,1929.7746,1317997,0.856,16.5\\r\\nBelize,Developing,69.6,181,0,7.24,69.63051047,96,0,45,0,97,4.76,96,0.6,4324.876427,29847,0.7,12.8\\r\\nBenin,Developing,58.7,254,25,1.33,94.25737917,76,392,23,39,77,4.95,76,1.4,757.695974,9199259,0.451,9.5\\r\\nMicronesia (Federated States of),Developing,68,176,0,1.73,0,84,0,64.1,0,81,11.92,67,0.1,,,0.622,10.9\\r\\nGambia,Developing,58.7,287,3,2.79,0,98,0,22.8,6,96,5.95,96,3,,,0.426,8.6\\r\\nBelize,Developing,69.5,184,0,6.85,549.8096097,97,0,46.3,0,98,5.81,97,0.3,4258.788611,313929,0.7,12.7\\r\\nMexico,Developing,75.8,125,40,5.11,980.2537444,98,23,57.2,47,98,5.83,98,0.1,8767.92258,1192378,0.723,12.2\\r\\nAntigua and Barbuda,Developing,74.6,147,0,8.15,1455.608186,99,0,41.4,0,98,4.41,99,0.1,11371.93895,,0,0\\r\\nLiberia,Developing,54,329,12,4.24,17.85870796,,4,21.5,17,47,8.77,31,3.2,149.4452549,3176414,0.335,10.2\\r\\nMali,Developing,56.8,271,54,0.61,101.8113996,66,24,21.3,90,72,6.59,66,1.5,835.88998,1554989,0.404,7.5\\r\\nThe former Yugoslav republic of Macedonia,Developing,74.9,17,0,1.16,0,96,701,57.9,0,97,6.61,96,0.1,,,0.735,12.9\\r\\nAlgeria,Developing,75.1,113,21,0.66,555.9260834,95,18,56.1,24,95,6.14,95,0.1,5564.82566,37565847,0.732,14.4\\r\\nDenmark,Developed,86,71,0,,0,,9,58.8,0,93,,93,0.1,5314.64416,5683483,0.923,19.2\\r\\nDemocratic Republic of the Congo,Developing,51.3,346,226,1.98,0,,8282,14.9,332,42,1.45,4,2.5,,,,\\r\\nSlovenia,Developed,79.8,84,0,10.61,3343.026219,,22,57.6,0,96,9.8,96,0.1,24985.24827,252843,0.876,17\\r\\nTurkey,Developing,73.5,121,25,1.39,22.67271848,92,0,6.2,29,96,6.7,96,0.1,185.68975,74432,0.705,12.5\\r\\nBrazil,Developing,73.8,154,54,7.52,1111.191325,96,68,52,61,99,8.27,99,0.1,11224.1548,196796269,0.716,13.8\\r\\nCroatia,Developed,74.7,122,0,13.78,93.67706503,,19,56.3,0,95,6.35,94,0.1,785.881418,444,0.765,12.9\\r\\nSierra Leone,Developing,49.7,411,25,0.01,54.56033696,91,678,22.7,35,91,11.24,91,0.9,561.8984239,676613,0.401,9.1\\r\\nBenin,Developing,59.3,251,25,0.01,9.80407467,8,288,24.1,39,8,4.86,8,1.3,837.9551,972916,0.458,10\\r\\nSolomon Islands,Developing,68.8,182,0,0.01,24.73328608,94,0,48.9,0,99,5.42,94,0.1,188.5159,563513,0.509,9.5\\r\\nMarshall Islands,Developing,,,0,0.01,871.8783173,8,0,81.6,0,79,17.24,79,0.1,3617.752354,,,0\\r\\nSyrian Arab Republic,Developing,64.4,294,7,0.01,0,47,594,56.2,8,52,3.25,43,0.1,,19239,0.575,9\\r\\nMontenegro,Developing,75.6,11,0,0.01,648.1331781,9,0,6.2,0,94,7.25,94,0.1,6586.71929,6261,0.797,15.1\\r\\nLebanon,Developing,74.5,98,1,1.67,69.13924862,81,24,62.5,1,75,8.7,81,0.1,712.775759,411147,0.74,13.1\\r\\nNepal,Developing,66.6,194,29,0.2,52.22906505,82,1415,14.9,38,82,5.84,82,0.2,393.8843518,26214847,0.486,10\\r\\nSwitzerland,Developed,81,69,0,10.55,9495.540576,,39,52.8,0,95,1.96,93,0.1,53255.97631,7389625,0.895,15.1\\r\\nNiger,Developing,57.1,263,51,0.11,5.665405066,71,801,16.9,99,71,6.98,71,1.1,341.2894618,15813913,0.307,4.2\\r\\nRwanda,Developing,55.3,37,24,7.01,39.44666715,95,129,15.4,38,95,6.83,95,7.1,287.931877,8991735,0.388,8.8\\r\\nCuba,Developing,78.1,11,1,4.01,818.8771016,96,0,56.9,1,99,11.78,96,0.1,5484.7763,,0.782,17.7\\r\\nTimor-Leste,Developing,66.9,163,2,0.1,38.58376645,72,50,15.5,3,72,0.92,72,0.1,849.8626972,119591,0.599,12.4\\r\\nDenmark,Developed,79.2,84,0,10.28,954.4865933,,5,57,0,9,11.8,9,0.1,5841.41122,5547683,0.906,16.8\\r\\nSpain,Developed,79.1,86,2,11.12,1934.398154,77,152,57.6,2,95,7.21,95,0.1,14676.769,4567864,0.82,15.7\\r\\nGambia,Developing,61.1,262,3,,0,97,71,27.3,5,96,,97,1.7,,,0.45,8.9\\r\\nSamoa,Developing,76,172,0,2.88,42.12368374,44,0,72,0,45,5.4,49,0.1,335.112838,184826,0.691,12.9\\r\\nUzbekistan,Developing,67.1,189,30,1.6,48.50941741,,80,34.8,36,99,5.29,99,0.1,558.221144,24654,0,10.6\\r\\nIreland,Developed,76.4,94,0,14.07,3794.581463,,0,51.5,0,86,6.3,86,0.1,26241.91883,385174,0.848,16.2\\r\\nArmenia,Developing,72.7,134,1,3.03,7.341493148,93,4,48.1,1,96,5.56,94,0.1,93.1661567,31786,0.657,10.8\\r\\nGuyana,Developing,65.8,22,0,7.57,497.4719464,97,0,44.1,1,97,6.57,97,0.3,3785.935665,75391,0.63,10.6\\r\\nUnited Republic of Tanzania,Developing,51.5,454,100,3.81,0,95,1419,17.7,154,95,4.1,95,10.8,,,,\\r\\nAlgeria,Developing,72.3,14,19,0.45,220.393699,81,3289,47.9,23,86,3.54,86,0.1,2598.9823,3283196,0.673,11.7\\r\\nNetherlands,Developed,82,68,1,9.53,9689.732784,,10,57.3,1,97,9.36,97,0.1,51241.31562,16381696,0.899,16.6\\r\\nKazakhstan,Developing,64.7,276,8,5.99,145.1022528,95,18,44.8,9,95,3.61,95,0.1,1658.31146,14858948,0.7,12.7\\r\\nSouth Sudan,Developing,52,382,30,,0,,0,,48,,,,3.3,,7237276,0,0\\r\\nMexico,Developing,75.7,13,36,5.27,881.7364327,95,0,59.4,42,95,6.6,95,0.1,7748.12331,11555228,0.738,12.5\\r\\nMorocco,Developing,72.8,11,20,0.56,183.6592186,98,633,53.6,23,99,5.86,99,0.1,2834.2472,3249639,0.603,10.7\\r\\nSaudi Arabia,Developing,72.6,11,10,0.05,782.1799815,93,0,56.2,12,95,4.24,95,0.1,9126.954277,,0.737,11.8\\r\\nThailand,Developing,73.3,165,12,6.2,520.7639087,96,3893,24.6,14,98,3.56,98,0.4,3972.26475,66195615,0.687,12.3\\r\\nAfghanistan,Developing,59.2,275,71,0.01,7.097108703,68,3013,17.2,97,68,7.87,68,0.1,63.537231,2978599,0.454,9.5\\r\\nMozambique,Developing,53.8,4,70,1.18,39.75216936,74,60,2.1,101,74,5.43,74,11.3,463.852618,2352463,0.382,9.2\\r\\nIsrael,Developing,80,71,1,2.41,250.9343317,96,2,6.6,1,95,7.44,93,0.1,2611.17931,6931,0.866,15.8\\r\\nBosnia and Herzegovina,Developing,75.7,1,0,4.82,38.25414065,9,17,51,0,91,8.28,87,0.1,344.321698,3779468,0.697,12.7\\r\\nIsrael,Developing,82.5,58,0,,0,96,80,64.9,1,95,,95,0.1,35729.37253,8381,0.898,16\\r\\nRepublic of Korea,Developing,86,75,2,8.97,0,94,17,29.1,2,95,6.66,94,0.1,,,,\\r\\nKuwait,Developing,73.3,94,0,0.01,1209.680547,99,0,65,1,99,3.56,99,0.1,17789.41981,,0.785,13.9\\r\\nIreland,Developed,85,69,0,11.49,6616.695125,95,107,6.5,0,95,8.32,95,0.1,49231.36254,4586897,0.895,18.5\\r\\nPeru,Developing,72.8,148,13,4.44,411.5645653,94,0,48.8,16,66,4.72,77,0.4,2754.7829,276141,0.692,13\\r\\nPakistan,Developing,65.1,172,372,0.04,0.66751505,82,4321,21.9,461,82,3.2,82,0.1,14.142268,1756182,0.521,7.5\\r\\nHaiti,Developing,63.1,245,14,0.01,5.103249438,48,0,48.8,19,55,7.56,48,0.5,83.1148117,1572466,0.487,9.1\\r\\nBrazil,Developing,74.7,146,46,7.24,916.270845,96,220,54.5,52,96,8.48,97,0.1,12216.9446,2248632,0.734,14.2\\r\\nGreece,Developing,79.2,81,0,9.56,287.6124519,92,1,59.9,1,95,8.3,95,0.1,21955.149,1955141,0.83,15.3\\r\\nSomalia,Developing,54.3,321,51,0.01,0,42,10229,23.8,80,47,,42,0.8,417.89143,,,\\r\\nGuinea,Developing,53.3,338,34,0.18,2.39524067,,2497,17.7,55,61,3.45,57,2.9,37.1931781,939848,0.338,5.9\\r\\nAustralia,Developed,81.3,66,1,10.76,8547.292357,94,65,62.9,1,92,8.78,92,0.1,49664.6854,212492,0.921,19.1\\r\\nGermany,Developed,79.8,82,3,11.5,7777.556353,86,567,58.5,3,95,1.18,96,0.1,41814.8191,82266372,0.898,16.6\\r\\nGeorgia,Developing,74.5,125,1,6.13,221.482875,91,3188,55.3,1,91,7.42,91,0.1,4429.6575,3727,0.759,13.5\\r\\nAfghanistan,Developing,57,293,87,0.02,15.29606643,67,466,13.8,120,5,8.79,5,0.1,219.1413528,24118979,0.381,6.8\\r\\nEritrea,Developing,58.5,343,7,0.83,0.703132179,86,460,13.1,10,92,4.2,9,1.9,21.7687981,3614639,0,4.4\\r\\nMozambique,Developing,54,47,69,0.96,5.743393664,74,2321,2.5,98,73,5.38,74,10.8,419.2258149,2422145,0.39,9.3\\r\\nIndonesia,Developing,65.3,213,174,0.06,55.36107207,64,29171,18.2,237,79,2.37,71,0.1,1148.56996,223614649,0.624,11\\r\\nKiribati,Developing,66.1,2,0,0.01,97.87193319,75,0,77.1,0,79,1.21,75,0.1,1684.54274,11458,0.597,11.9\\r\\nNicaragua,Developing,75,197,4,3.5,2.092343893,85,0,44.2,5,85,5.71,85,0.4,11.147277,5171734,0.577,10.7\\r\\nKyrgyzstan,Developing,67.2,217,4,2.62,0,57,17,36,5,99,4.79,99,0.1,,,0.593,11.8\\r\\nSolomon Islands,Developing,68.1,192,0,1.21,244.3976438,92,0,45.5,0,98,7.92,92,0.1,1158.282672,51679,0.494,9.3\\r\\nNorway,Developed,78.9,81,0,5.89,749.6823382,,5,54.6,0,93,9.62,93,0.1,4361.1538,4538159,0.916,17.1\\r\\nPapua New Guinea,Developing,61.8,286,10,0.79,18.99961966,56,0,44.9,14,72,4.18,67,1.1,1366.879112,718239,0.485,9.6\\r\\nMauritius,Developing,71.9,168,0,4.16,509.3899943,98,28,27.5,0,98,4.29,98,0.1,5229.876738,12213,0.696,12.8\\r\\nSuriname,Developing,71.4,178,0,6.32,1132.432517,85,0,57.7,0,85,5.69,85,0.4,9564.46383,547928,0.722,12.7\\r\\nSeychelles,Developing,72.6,177,0,9.72,1121.475547,99,0,34.2,0,99,3.38,99,0.1,12189.9516,87441,0.744,13.3\\r\\nPanama,Developing,77.8,118,1,,0,73,0,57.8,1,72,,73,0.1,13134.4367,3969249,0.785,13\\r\\nCyprus,Developed,78.4,68,0,11.68,1128.050886,88,0,53.8,0,98,6.12,98,0.1,16372.29152,976966,0.805,12.5\\r\\nDenmark,Developed,77.3,11,0,11.54,650.9813544,,0,53.9,0,96,9.51,96,0.1,4458.7764,539574,0.882,16.3\\r\\nPhilippines,Developing,66.8,221,68,4.54,69.0204245,45,7360,18.3,89,76,3,79,0.1,957.287441,79665315,0.622,11.4\\r\\nMontenegro,Developing,73.3,136,0,0.01,33.66981355,,0,52.7,0,,8.23,,0.1,199.583957,67389,0,0\\r\\nSlovakia,Developed,75.8,118,0,10.12,0,99,0,57.2,0,99,8.15,99,0.1,,,0.835,15\\r\\nPapua New Guinea,Developing,59.3,327,11,0.61,110.9803062,6,17620,38.9,14,54,7.69,61,1.4,511.665773,5862316,0.428,6.9\\r\\nUruguay,Developing,75.4,124,1,6.67,14.47305874,94,0,59.5,1,94,8.23,94,0.1,79.69746,3339741,0.76,15.3\\r\\nSierra Leone,Developing,39,533,29,3.97,20.39568283,,3575,17.2,48,46,13.63,44,1.2,139.3147734,4564297,0.292,6.7\\r\\nTogo,Developing,54.9,355,15,1.01,3.989928468,,61,18.4,22,71,5.6,71,5.1,349.9937253,5534598,0.432,10\\r\\nItaly,Developed,82,6,2,6.98,5439.691769,96,5189,61.5,2,96,9.27,96,0.1,38334.68477,59379449,0.872,16.4\\r\\nTrinidad and Tobago,Developing,71,172,0,6.71,167.2657906,92,0,45,0,94,5.98,92,0.3,1967.83283,1348248,0.773,12.7\\r\\nCentral African Republic,Developing,45.9,511,17,1.5,40.92207976,,471,18.2,26,47,4.29,54,11.2,327.1149461,412791,0.319,5.9\\r\\nBrunei Darussalam,Developing,77.1,84,0,0.01,2845.306444,98,0,39.2,0,99,2.61,99,0.1,44597.27968,,0.86,14.9\\r\\nBangladesh,Developing,69.9,142,126,0.01,62.65945432,94,788,15.2,161,94,3.6,94,0.1,757.6717572,15214912,0.535,8.9\\r\\nAustralia,Developed,82.3,61,1,10.03,11714.99858,91,199,65,1,92,9.36,92,0.1,67677.63477,22728254,0.93,20.1\\r\\nMorocco,Developing,69,155,26,0.46,71.11645,84,2724,45.7,30,93,4.44,96,0.1,1336.775376,29181832,0.53,8.5\\r\\nLao People's Democratic Republic,Developing,59.8,259,12,3.41,0,5,1810,13.8,17,52,4.91,49,0.1,,,0.477,8.3\\r\\nCroatia,Developed,77.1,14,0,11.49,1851.713262,98,2,61.9,0,96,7.8,96,0.1,13235.97757,4267558,0.815,14.6\\r\\nMexico,Developing,75.3,126,42,4.93,998.3498049,98,6,56.4,49,98,6.4,98,0.1,7986.798439,18472228,0.719,12.2\\r\\nDemocratic Republic of the Congo,Developing,56.3,295,237,2.09,0,65,12461,18.2,324,64,4.46,65,1.8,,,,\\r\\nSlovenia,Developed,85,78,0,9.53,259.7786785,,1,58.9,0,95,9.29,95,0.1,2315.31799,259953,0.878,16.8\\r\\nSenegal,Developing,62.1,23,22,0.32,8.309152927,94,11,2.3,36,93,4.72,94,0.7,95.3978522,11873557,0.425,6.8\\r\\nSudan,Developing,59.7,278,68,1.59,37.04479956,,9562,,102,74,3.39,74,0.2,565.569459,3186341,0.415,5.7\\r\\nNamibia,Developing,57.4,41,3,5.73,35.80978512,,469,24.5,4,8,6.11,79,22.8,257.99557,1899257,0.559,11.5\\r\\nEgypt,Developing,79,159,54,0.21,0,97,405,59.4,63,97,5.46,97,0.1,,,0.681,12.8\\r\\nTurkey,Developing,74.5,114,20,1.53,1275.877569,96,111,62.8,23,97,5.29,97,0.1,11341.13395,7349455,0.737,13.8\\r\\nEritrea,Developing,58.8,343,7,0.56,6.913998013,91,376,13.3,10,95,3.5,93,1.9,232.7945459,3738265,0,4.7\\r\\nSuriname,Developing,76,187,0,5.64,989.1263558,86,0,55.5,0,86,5.93,86,0.1,8318.97692,531589,0.704,12.5\\r\\nTogo,Developing,59.7,285,13,0.01,4.877350139,87,577,23.7,20,85,5.25,87,1,62.1318489,7228915,0.475,12\\r\\nMalawi,Developing,45.1,615,40,1.11,58.13583343,89,1116,15.5,65,94,7.82,89,23.4,274.2256294,1267638,0.366,10\\r\\nCambodia,Developing,67.4,186,12,0.01,6.914723983,86,15,17.6,14,84,6.24,86,0.3,95.244132,14776866,0.54,10.7\\r\\nGhana,Developing,61.9,254,38,0.01,28.66897829,9,319,27.3,55,91,4.63,9,0.9,1814.492297,26346251,0.57,11.5\\r\\nArmenia,Developing,72,142,1,2.9,32.75626853,55,15,47.1,1,96,6.25,93,0.1,622.7427477,369588,0.639,11.2\\r\\nUruguay,Developing,76.3,118,0,6.21,2331.532804,95,0,61.2,1,95,8.63,95,0.1,11938.212,3374415,0.777,15.6\\r\\nPeru,Developing,73.8,14,10,4.69,570.4532468,93,0,51.5,13,92,5.36,93,0.3,4166.93387,29157,0.706,13.3\\r\\nDenmark,Developed,78.4,93,0,10.99,9703.068121,,2,55.9,0,87,9.99,87,0.1,58487.451,5461438,0.904,16.7\\r\\nSingapore,Developed,81.4,64,0,1.7,3404.13099,97,18,31.2,0,97,3.91,97,0.1,39721.4818,,0.88,14.2\\r\\nNepal,Developing,62.5,238,46,0.08,17.9123368,,9397,11.4,62,74,5.43,74,0.1,231.42554,2374911,0.439,8.9\\r\\nJamaica,Developing,75.8,133,1,3.83,427.3054534,92,0,53.5,1,93,5.36,92,0.5,4855.743789,286287,0.727,12.8\\r\\nMexico,Developing,74.8,129,55,4.99,10.22840118,97,30,52.4,66,97,4.98,97,0.1,672.92113,11719673,0.694,11.4\\r\\nSyrian Arab Republic,Developing,73.5,127,9,0.92,116.2585943,83,375,47.6,10,83,4.11,8,0.1,1577.457182,18294611,0.624,11\\r\\nHonduras,Developing,72.2,165,5,3.02,188.2499208,93,0,42,7,94,7.89,94,1.2,1217.657961,724153,0.571,10.4\\r\\nMicronesia (Federated States of),Developing,68.9,169,0,1.89,0,83,0,67,0,83,13.76,84,0.1,,,0.638,11.7\\r\\nMicronesia (Federated States of),Developing,68.5,172,0,2.06,0,89,0,65.8,0,81,13.44,91,0.1,,,0.629,11.4\\r\\nSeychelles,Developing,71.8,188,0,8.24,601.7608115,98,0,27.1,0,98,4.62,98,0.1,7578.85153,81131,0,12.3\\r\\nMicronesia (Federated States of),Developing,68.4,174,0,1.97,0,89,0,65.2,0,88,12.94,85,0.1,,,0.628,11.2\\r\\nSolomon Islands,Developing,67.6,2,0,0.99,240.4851202,99,0,43,0,99,6.66,99,0.1,948.6592511,481422,0.47,8.4\\r\\nKenya,Developing,61.2,278,60,1.8,109.7051836,96,2395,19.5,86,97,5.23,96,3.4,987.4453967,42486839,0.53,11.1\\r\\nAzerbaijan,Developing,71.1,13,5,1.98,246.5686008,8,0,48,6,85,5.33,81,0.1,5842.85784,954332,0.737,11.7\\r\\nSweden,Developed,89,63,0,6.9,7593.391622,,1,56.1,0,98,8.92,98,0.1,53324.37937,914892,0.895,15.8\\r\\nSaudi Arabia,Developing,73.7,94,8,0.09,1197.946328,98,334,63.9,9,98,3.49,98,0.1,19259.58726,,0.792,13.3\\r\\nMadagascar,Developing,61.4,263,36,0.68,38.41870375,82,2,16.3,54,83,5.11,85,0.6,292.157443,1888268,0.478,9\\r\\nThailand,Developing,74.6,152,8,6.41,789.0772949,99,0,32.4,10,99,4.12,99,0.1,5941.8471,68416772,0.737,13.6\\r\\nCzechia,Developed,76.5,19,0,13.03,0,98,7,61.8,0,98,6.69,98,0.1,,,,\\r\\nSuriname,Developing,68.3,214,0,4.55,4.23257668,,0,5.4,0,84,6.88,85,0.9,36.48773,49363,0,11.1\\r\\nDjibouti,Developing,58.1,326,2,1.18,106.0354659,,71,29.8,2,64,6.76,64,4,864.184726,77752,0.388,3.7\\r\\nTajikistan,Developing,69.7,161,10,,0,96,3,4.7,11,96,,96,0.2,918.6771543,8548651,0.625,11.3\\r\\nSlovenia,Developed,77.2,113,0,10,235.3785281,,0,53.5,0,94,8.47,94,0.1,1726.9151,199712,0.85,16.6\\r\\nUruguay,Developing,76.6,118,0,6.67,1871.736563,95,0,6.7,1,95,8.78,95,0.1,9415.17386,3362755,0.774,15.5\\r\\nSouth Africa,Developing,54,485,55,6.93,519.1563781,71,244,42.2,82,7,8.26,69,28.9,3775.68275,46418193.9,0.613,12.9\\r\\nFrance,Developing,82,94,3,13.18,5291.234786,35,4448,57,4,99,1.53,98,0.1,33874.74255,6274897,0.857,15.5\\r\\nCosta Rica,Developing,77.7,12,1,4.09,1043.10795,89,0,49.3,1,9,7.8,9,0.1,4425.57467,418738,0.719,12.2\\r\\nMongolia,Developing,64,271,2,1.31,56.05686428,98,18,4.5,2,98,6.18,98,0.1,646.561295,2469286,0.609,10.5\\r\\nAustria,Developed,79.3,86,0,12.1,5316.877456,83,15,52.2,0,83,1.56,83,0.1,36693.4262,8171966,0.841,14.7\\r\\nBenin,Developing,59.1,251,25,1.4,110.2633619,75,426,23.5,39,77,5.37,75,1.4,825.9427854,94682,0.454,9.8\\r\\nSerbia,Developing,73.8,132,1,9.3,772.8700353,99,201,55.1,1,93,1.2,94,0.1,5458.121718,7381579,0.743,13.5\\r\\nNorway,Developed,81.8,59,0,5.97,0,,14,61.2,0,95,,95,0.1,7455.24654,518867,0.948,17.7\\r\\nColombia,Developing,71.8,163,17,4.45,393.8773633,78,139,48.2,20,83,5.67,81,0.1,2355.725857,41572491,0.656,11.5\\r\\nPoland,Developed,74.7,142,3,9.06,542.0235,97,48,54.5,3,98,6.22,99,0.1,5693.52416,382457,0.796,15.3\\r\\nSaudi Arabia,Developing,72.9,15,10,0.05,688.0972667,97,311,57.7,11,95,4.28,95,0.1,8655.311531,,0.745,12.1\\r\\nSamoa,Developing,71.4,162,0,3.62,310.6117683,54,0,68.9,0,26,4.45,55,0.1,2351.33814,178781,0.665,12.4\\r\\nLiberia,Developing,51.9,39,14,4.46,12.19709744,,5977,2.2,20,56,5.91,46,3.1,183.4149991,2884522,0.338,8.7\\r\\nCanada,Developing,85,75,2,8.2,771.1817686,14,13,61.9,2,95,9.75,95,0.1,4386.69948,325755,0.891,15.8\\r\\nHaiti,Developing,58.6,35,20,4.79,74.46033036,,992,34,28,5,6.6,41,5.1,462.486524,85492,0.439,7.8\\r\\nColombia,Developing,74.8,143,10,,0,91,1,57.9,12,91,,91,0.1,644.525556,48228697,0.724,13.6\\r\\nGabon,Developing,61.4,288,2,8.01,40.53719812,52,90,31.4,3,44,2.88,45,10.7,727.777345,1444844,0.646,12.4\\r\\nDemocratic Republic of the Congo,Developing,55.7,299,236,1.52,0,7,55577,17.8,326,72,3.61,7,1.9,,,,\\r\\nSuriname,Developing,73,19,0,5.26,99.08095375,86,0,54.8,0,96,5.81,96,0.5,833.31332,52613,0.7,12.3\\r\\nVanuatu,Developing,71,161,0,1,43.19780767,59,0,45.7,0,67,3.96,68,0.1,247.97823,214634,0.572,10.6\\r\\nQatar,Developing,77,79,0,1.11,3688.694288,99,112,65.6,0,98,2.63,99,0.1,61478.23813,,0.828,11.8\\r\\nKiribati,Developing,64.8,214,0,0.48,10.6242741,67,0,71.4,0,61,1.39,62,0.1,113.6286,9542,0,12.4\\r\\nAngola,Developing,51.1,355,69,8.1,35.95857279,77,8523,22.1,105,67,4.26,77,2.3,484.616884,2599834,0.523,11.4\\r\\nGabon,Developing,65.5,237,2,0.01,715.2816939,7,33,35.8,3,68,3.44,7,2.8,9692.163874,1875713,0.687,12.6\\r\\nSlovakia,Developed,74.4,14,0,10.58,0,99,0,54.2,0,99,7.76,99,0.1,,,0.802,14.5\\r\\nJordan,Developing,73.1,119,4,0.61,535.2786404,97,2,6.1,4,98,8.78,97,0.1,3385.69665,6489822,0.739,13.6\\r\\nMalta,Developed,78.5,71,0,6.7,1678.392773,89,4,63.9,0,94,8.6,94,0.1,13689.98999,398582,0.79,13.8\\r\\nGambia,Developing,55.9,33,3,2.18,0,91,336,18,6,84,3.61,8,2,,,0.377,6.5\\r\\nBelgium,Developed,81.1,74,0,,0,98,47,63.7,1,99,,99,0.1,4356.875,11274196,0.895,16.6\\r\\nSyrian Arab Republic,Developing,73.8,124,7,0.81,0,84,22,51.3,9,83,3.55,8,0.1,,2824893,0.648,11.8\\r\\nEthiopia,Developing,55,354,217,0.86,1.506962482,,73,13.5,342,54,4.23,4,4.1,135.7623858,7462445,0.31,5.4\\r\\nGuatemala,Developing,77,196,12,2.14,443.3248254,94,0,47.2,14,94,6.64,94,0.4,2825.5247,1463417,0.602,10.5\\r\\nMalta,Developed,82,63,0,7.38,335.5180568,86,1,67.1,0,73,8.33,73,0.1,2675.58259,412477,0.815,14.4\\r\\nMongolia,Developing,67.4,225,2,4.26,181.0123284,96,31,44.9,2,95,5.58,96,0.1,2139.625631,2628131,0.673,13.4\\r\\nPortugal,Developed,86,79,0,10,2698.01817,98,1,6.2,0,98,9.55,98,0.1,21618.73534,1457295,0.827,16.3\\r\\nSri Lanka,Developing,74.5,141,3,3.03,20.83302367,99,60,2.5,4,99,3.28,99,0.1,322.992615,2271,0.746,13.6\\r\\nArmenia,Developing,72.9,141,1,4.01,244.5352767,78,137,49.2,1,87,4.58,87,0.1,2158.299,29585,0.692,11.2\\r\\nColombia,Developing,72.4,15,16,4.25,417.8038898,92,0,49,19,92,5.92,92,0.1,2246.257472,42152151,0.659,11.6\\r\\nLesotho,Developing,52.1,518,4,0.01,153.3443147,93,516,31.4,6,9,11.7,93,9.6,1196.1335,2117361,0.484,11.1\\r\\nIraq,Developing,68.9,182,32,,0,56,1433,59.1,38,63,,58,0.1,4974.2693,36115649,0.649,10.1\\r\\nChina,Developing,74.5,97,266,4.27,39.22509728,95,131441,26.5,308,99,4.59,97,0.1,3471.247547,1324655,0.672,11.9\\r\\nVenezuela (Bolivarian Republic of),Developing,73.1,167,10,6.89,0,6,2392,54.7,12,81,4.93,65,0.1,,,0.684,11\\r\\nLibya,Developing,71.1,146,3,0.01,29.13434871,91,3890,54,3,93,4.57,93,0.1,375.442638,,0.736,15.8\\r\\nSeychelles,Developing,72.1,186,0,7.91,12.94324581,99,0,29.2,0,99,4.17,99,0.1,1176.65871,82475,0.715,12.3\\r\\nTajikistan,Developing,65.9,183,10,0.38,2.626234903,88,3,34.1,12,76,5.7,83,0.3,44.2872665,7557,0.579,10.7\\r\\nSri Lanka,Developing,74.7,141,3,2.37,42.7308283,99,1686,22.7,3,99,3.5,99,0.1,382.54994,2771,0.76,14\\r\\nMalawi,Developing,55.3,42,31,0.01,82.76865922,96,11,18.4,46,95,12.6,96,8.3,374.51882,169735,0.454,10.7\\r\\nAustralia,Developed,79.5,78,1,10.17,347.18736,,108,58.2,2,9,8.8,9,0.1,2169.921,19153,0.897,20.4\\r\\nMontenegro,Developing,75.9,17,0,0.01,726.0291764,87,0,61.3,0,91,6.42,91,0.1,7378.345289,62181,0.803,15.1\\r\\nEcuador,Developing,76,121,6,3.77,59.12850204,87,0,52.8,8,87,7.29,87,0.1,674.9829,15661547,0.725,13.4\\r\\nViet Nam,Developing,74.2,136,29,2.86,0,94,217,1.9,36,96,5.9,96,0.2,,,0.601,11\\r\\nCyprus,Developed,78.8,64,0,11.47,1700.841534,93,0,55.8,0,97,6.28,97,0.1,27169.99256,14559,0.829,13.4\\r\\nBelarus,Developing,72,199,0,13.94,1147.1114,97,64,61.7,0,97,5.69,97,0.1,8318.429294,9474511,0.796,15.7\\r\\nTonga,Developing,73.2,137,0,0.01,584.9449886,82,0,74.3,0,84,4.98,82,0.1,4266.557174,15328,0.718,14.3\\r\\nSwaziland,Developing,46.4,587,3,5.52,131.0421269,88,37,26.7,4,87,5.16,85,49.9,1324.996228,1893,0.502,9.2\\r\\nCambodia,Developing,67.8,183,11,0.01,8.758214538,83,0,18.2,13,66,5.93,83,0.2,128.419568,1522692,0.546,10.8\\r\\nTrinidad and Tobago,Developing,69.1,197,0,4.68,43.59522964,,0,33.6,1,9,4.17,9,0.9,643.947262,1267984,0.709,11.7\\r\\nRepublic of Korea,Developing,82.3,64,1,,0,98,7,31.7,2,98,,98,0.1,,,,\\r\\nMauritius,Developing,71.5,179,0,4.14,369.6317105,88,0,26.4,0,88,4.24,88,0.1,3957.51296,124621,0.683,12.5\\r\\nGermany,Developed,78.3,92,3,12.46,4057.637383,86,6024,55.6,4,96,1.15,93,0.1,23687.31689,82349925,0.86,16.2\\r\\nC\\xc3\\xb4te d'Ivoire,Developing,47.7,473,65,3.13,0,48,5882,2.4,93,7,4.47,64,6.9,,,,\\r\\nBulgaria,Developed,72.1,16,1,10.48,456.3404657,96,3,59.7,1,97,7.8,96,0.1,3893.68998,7658972,0.745,13.5\\r\\nAntigua and Barbuda,Developing,73.8,154,0,7.51,163.7676978,96,0,38.9,0,99,4.48,97,0.1,9358.154162,,0,0\\r\\nAntigua and Barbuda,Developing,74,153,0,7.21,927.4075855,99,0,39.5,0,93,4.41,98,0.1,9386.716452,,0,0\\r\\nMadagascar,Developing,65.5,22,28,,0,69,3,2.5,38,71,,69,0.3,41.8575951,2423488,0.511,10.3\\r\\nGermany,Developed,79.9,8,2,11.36,8285.264655,87,917,59,3,95,1.39,96,0.1,45699.19832,821197,0.903,16.6\\r\\nNew Zealand,Developed,81.6,66,0,8.7,0,92,10,67.5,0,92,,92,0.1,3821.8937,,0.913,19.2\\r\\nCabo Verde,Developing,72.6,122,0,5.07,4.409153436,9,0,28.2,0,9,4.6,9,0.3,367.429453,5867,0.632,13.1\\r\\nBangladesh,Developing,71.4,132,98,0.01,10.44640334,97,289,17.7,121,97,2.82,97,0.1,184.56543,15945279,0.57,10\\r\\nUnited States of America,Developed,78.7,15,25,8.55,0,92,63,66.9,30,93,17.2,95,0.1,,,,\\r\\nLao People's Democratic Republic,Developing,65.3,199,8,0.01,0,88,339,2.9,11,88,1.87,88,0.2,,,0.573,10.6\\r\\nUganda,Developing,54.9,41,93,9.81,50.83901418,64,5736,14.8,145,62,9.86,64,8.6,336.4593923,2955662,0.434,10.6\\r\\nSouth Sudan,Developing,51.4,383,29,,0,,0,,45,,,,3.8,,7787655,0,0\\r\\nNiger,Developing,58.2,252,50,0.12,5.883760536,7,372,17.3,95,75,6.36,7,0.9,348.151511,16425578,0.312,4.5\\r\\nMaldives,Developing,77.9,64,0,0.01,1626.591186,99,0,25.1,0,99,11.16,99,0.1,7112.33575,393,0.683,12.4\\r\\nSaint Vincent and the Grenadines,Developing,71.2,181,0,5.42,0,99,0,43.8,0,99,3.72,99,0.4,,,0.689,13.2\\r\\nUruguay,Developing,75.7,123,1,6.35,152.5448405,96,0,58.3,1,96,11.15,96,0.1,522.951116,3325612,0.753,15.5\\r\\nCameroon,Developing,56.4,364,48,0.01,63.07890158,89,760,27.8,73,88,4.29,89,4,1365.34419,21655715,0.501,10.4\\r\\nEritrea,Developing,67,322,6,0.49,11.76572311,94,0,15.1,9,94,3.69,94,1.1,326.825642,4232636,0.406,5.2\\r\\nGeorgia,Developing,73.9,127,1,8.14,198.94876,89,64,52.8,1,88,9.38,94,0.1,3725.63221,3875,0.742,13.3\\r\\nBelarus,Developing,68,247,1,12.98,24.24947846,7,21,54.4,1,99,6.13,99,0.1,1276.28834,997961,0.675,13.1\\r\\nSenegal,Developing,59,251,25,0.33,62.21977893,,1519,18.7,44,73,5.4,73,0.7,642.7663113,16799,0.401,5.9\\r\\nNorway,Developed,81.1,67,0,6.53,277.3550522,,39,59.4,0,94,9.14,94,0.1,1574.9861,495388,0.939,17.6\\r\\nGuyana,Developing,65.4,247,1,6.71,15.54978677,85,0,36.4,1,9,5.82,85,1.7,925.582546,752263,0.606,10.9\\r\\nPeru,Developing,74.9,129,9,5.14,885.9858185,95,0,53.6,11,94,5.18,95,0.1,6387.785281,3158966,0.725,13.4\\r\\nNicaragua,Developing,73.9,157,2,3.58,366.4841804,98,0,52.4,3,99,8.43,98,0.1,1847.19849,5945747,0.63,11.5\\r\\nNicaragua,Developing,73.2,154,3,3.38,302.7045411,98,0,5.2,3,99,6.58,98,0.1,1526.497938,5737723,0.614,11.4\\r\\nTrinidad and Tobago,Developing,76,176,0,6.5,144.9850711,9,0,43,0,91,5.6,9,0.4,1953.9767,1334788,0.774,12.6\\r\\nLesotho,Developing,52.1,522,4,0.01,162.1278115,93,0,32,6,9,1.62,93,9.4,1174.839214,2145785,0.491,10.8\\r\\nC\\xc3\\xb4te d'Ivoire,Developing,49.4,452,62,2.65,0,77,11,22.6,89,76,5.87,77,5.8,,,,\\r\\nAustralia,Developed,82.7,6,1,9.71,10769.36305,91,340,66.1,1,92,9.42,92,0.1,62214.6912,2346694,0.936,20.4\\r\\nNepal,Developing,63.1,238,40,0.19,23.18394594,,6749,12.4,54,72,5.6,72,0.1,246.375621,24566342,0.447,8.6\\r\\nSaint Vincent and the Grenadines,Developing,79,186,0,4.8,0,,0,4.1,0,99,3.73,98,0.7,,,0,12.7\\r\\nSouth Africa,Developing,62,347,42,7.38,922.0507313,8,66,5.3,52,77,8.8,77,3.7,6479.625659,54146734.74,0.66,13\\r\\nEcuador,Developing,75,134,7,3.95,367.9285652,9,0,5.7,8,88,5.9,91,0.1,4657.32361,1493469,0.703,13.1\\r\\nGreece,Developing,78.2,84,1,8.48,122.1823517,89,56,57.4,1,89,7.6,89,0.1,1242.95373,18588,0.794,13.9\\r\\nC\\xc3\\xb4te d'Ivoire,Developing,48.2,472,64,3.08,0,67,3466,21.5,91,76,5.24,67,6.5,,,,\\r\\nRomania,Developed,71.9,162,3,7.68,615.4030781,98,5043,53.9,4,97,5.47,97,0.1,4676.315183,21319685,0.745,13.4\\r\\nRwanda,Developing,68,282,18,6.39,0.661540371,97,6,17.1,28,97,7.66,97,3.7,5.6687264,978169,0.438,10.4\\r\\nThailand,Developing,71.7,189,15,6.14,282.8364612,96,4519,2.9,18,98,3.58,98,0.6,2358.93629,64554952,0.666,11.8\\r\\nBolivia (Plurinational State of),Developing,69.3,198,9,3.93,0,95,0,49.9,11,95,5.49,95,0.2,,,0.649,13.8\\r\\nMontenegro,Developing,73.8,13,0,5.38,595.7306923,9,0,56.5,0,9,8.1,9,0.1,4383.59597,61525,0.751,13.2\\r\\nUganda,Developing,59.3,347,76,10.22,94.49686776,82,3312,16.7,114,82,9.9,82,6.8,584.3962137,3593648,0.477,10.7\\r\\nDjibouti,Developing,61.8,268,1,0.39,20.35974738,87,49,32.7,2,87,8.71,87,2.7,143.986898,865937,0.451,5.9\\r\\nMalta,Developed,83,62,0,7.91,278.0687051,75,0,67.6,0,76,8.3,76,0.1,2187.79469,41458,0.819,14.6\\r\\nJapan,Developed,83.5,56,2,7.55,94.43428615,,229,28.2,3,99,1.25,96,0.1,4454.44746,127445,0.894,15.3\\r\\nLibya,Developing,71.5,141,2,0.01,31.80653288,99,2771,55.3,3,97,3.46,97,0.1,586.8364,,0.747,15.9\\r\\nIreland,Developed,84,7,0,11.72,6386.95437,95,285,59.7,0,95,8.15,95,0.1,52567.52568,4576794,0.909,18.5\\r\\nMadagascar,Developing,59.9,268,40,0.93,37.12894787,61,62233,15,60,65,4.81,66,0.7,316.7998965,17279141,0.457,8.5\\r\\nItaly,Developed,79.9,72,2,9.3,3519.258515,95,10982,57,3,97,8.17,96,0.1,27387.2258,5731323,0.841,15.4\\r\\nMadagascar,Developing,63.8,241,31,0.97,78.79967196,73,0,18.5,43,73,4.24,73,0.4,454.963464,21743949,0.504,10.2\\r\\nSingapore,Developed,82,61,0,1.84,4540.543752,96,50,31.8,0,96,3.96,96,0.1,46569.67951,,0.889,14.5\\r\\nGreece,Developing,85,76,0,8.02,3192.887363,95,40,64.3,0,99,9.77,99,0.1,25916.29353,1114899,0.86,16.7\\r\\nLiberia,Developing,56.7,32,11,4.05,15.79934152,,20,22.4,15,66,1.9,6,3,178.92799,3375838,0.377,10\\r\\nVenezuela (Bolivarian Republic of),Developing,73.4,165,9,8.7,0,62,32,57.6,10,67,5.25,62,0.1,,,0.728,12.9\\r\\nZambia,Developing,46.4,64,39,2.33,65.78997404,,881,17.6,62,85,8.18,83,18.2,429.1583434,11421984,0.443,10.2\\r\\nJordan,Developing,73.9,114,4,0.4,546.6235156,98,120,64,4,98,7.23,98,0.1,3992.86717,8413464,0.737,13.1\\r\\nPhilippines,Developing,67.3,218,66,4.45,13.39905105,48,3025,19.6,86,85,3.23,88,0.1,179.3715,84678493,0.636,11.6\\r\\nCroatia,Developed,75.8,114,0,12.56,2019.812779,95,0,58.7,0,96,7.44,96,0.1,13546.69872,4436,0.793,14.3\\r\\nC\\xc3\\xb4te d'Ivoire,Developing,51.5,417,60,3.15,0,85,441,25,84,81,6.32,85,3.3,,,,\\r\\nNorway,Developed,78.8,82,0,5.49,6356.827282,,4,54,0,91,8.65,91,0.1,38549.58934,4513751,0.917,17.5\\r\\nQatar,Developing,78.2,68,0,,0,99,18,69.3,0,99,,99,0.1,66346.52267,,0.855,13.4\\r\\nSolomon Islands,Developing,67.6,2,0,0.85,28.90135229,9,0,43.8,0,93,6.42,9,0.1,146.931125,49294,0.482,9\\r\\nNicaragua,Developing,71,194,4,3.81,36.81621175,79,0,45.7,4,8,6.13,79,0.3,191.55157,53973,0.587,11\\r\\nAustralia,Developed,86,69,1,9.84,588.568371,95,70,6.9,1,92,8.57,92,0.1,3472.37977,21274,0.908,20.7\\r\\nAzerbaijan,Developing,71.9,123,5,0.01,285.6103912,88,0,49.7,6,92,5.37,89,0.1,7496.335728,9295784,0.742,11.8\\r\\nSan Marino,Developing,,,0,0.01,0,69,0,,0,69,6.5,69,0.1,,,,15.1\\r\\nCameroon,Developing,51.6,47,60,4.58,53.70597428,,1448,21.8,97,66,4.86,66,7.8,676.397661,1684886,0.452,8.4\\r\\nCentral African Republic,Developing,46.8,495,17,1.5,60.04884821,,49,19,26,46,4.4,48,9,397.148467,42758,0.33,6.2\\r\\nGermany,Developed,85,74,2,11.2,869.790735,88,1607,6.4,3,94,1.93,95,0.1,4681.32796,8274983,0.912,16.8\\r\\nMicronesia (Federated States of),Developing,68.7,171,0,1.76,0,88,0,66.4,0,85,13.83,85,0.1,,,0.633,11.5\\r\\nVenezuela (Bolivarian Republic of),Developing,73.8,158,9,6.74,0,78,0,59.9,10,78,5.24,78,0.1,,,0.756,14.1\\r\\nJamaica,Developing,73.3,165,1,3.67,192.3226305,98,0,45.4,1,97,4.8,98,2.3,3719.97351,2728777,0.689,11.1\\r\\nMadagascar,Developing,62.8,254,33,0.91,71.16601203,77,0,17.6,47,76,4.7,77,0.5,415.6893226,2569121,0.5,9.7\\r\\nSpain,Developed,81,79,2,11.96,3715.370095,97,26,59.9,2,97,8.5,97,0.1,24918.64584,42921895,0.833,15.6\\r\\nSlovakia,Developed,74.1,138,0,10.03,0,99,2,52.6,0,99,7.21,99,0.1,,,0.776,13.8\\r\\nSerbia,Developing,73.1,135,1,7.53,222.5065705,,35,51.7,1,93,6.89,93,0.1,1634.87561,753433,0.709,13.1\\r\\nCosta Rica,Developing,78.3,99,1,4.17,112.9493745,94,0,47.3,1,94,8.23,94,0.1,462.14965,46324,0.712,11.9\\r\\nUnited Republic of Tanzania,Developing,56.9,368,91,3.97,0,85,1574,2.2,135,88,3.97,85,6.4,,,,\\r\\nMontenegro,Developing,74.6,121,0,6.17,709.1311228,93,0,57.8,0,95,6.13,95,0.1,7325.73474,616969,0.774,14.2\\r\\nSamoa,Developing,73.2,136,0,0.01,492.0552263,64,1,73.4,0,62,5.2,64,0.1,4234.554443,189194,0.698,12.9\\r\\nIreland,Developed,81,67,0,10.49,703.5527332,95,51,61.3,0,96,8.1,96,0.1,5234.76736,4598294,0.902,18.6\\r\\nUnited Republic of Tanzania,Developing,58,459,103,2.34,0,95,1673,17.2,160,97,4.6,95,11.5,,,,\\r\\nComoros,Developing,59.8,269,2,0.27,7.212110766,77,0,18.8,2,73,3.96,76,0.1,616.4197236,597228,0,9.5\\r\\nBotswana,Developing,56.9,436,2,6.21,512.5887995,93,1,33.7,3,96,4.71,96,13.4,5714.47937,1914414,0.63,12.1\\r\\nSolomon Islands,Developing,68.8,183,0,0.01,3.718438799,88,0,49.7,0,94,5.5,88,0.1,29.652622,57554,0.512,9.6\\r\\nBolivia (Plurinational State of),Developing,64.5,23,13,2.37,0,8,0,44.7,17,82,5.3,88,0.2,,,0.617,14.4\\r\\nPakistan,Developing,63.7,183,364,0.01,28.98323119,65,4248,18.4,461,65,2.56,65,0.1,649.848233,15783,0.474,5.6\\r\\nGuyana,Developing,66.1,218,0,7.49,466.6693698,98,0,41.6,1,97,7.32,98,0.3,2716.35256,745693,0.618,10.5\\r\\nSri Lanka,Developing,73.8,145,4,1.96,120.2471713,98,0,17.2,5,98,4.6,98,0.1,1448.7611,1952,0.718,13.1\\r\\nGuinea-Bissau,Developing,53,38,5,2.16,2.527115422,,1158,19,8,65,5.62,6,4.6,36.5718585,132122,0,7.4\\r\\nPapua New Guinea,Developing,62.2,284,10,0.01,31.6357652,68,0,46.4,13,81,4.55,74,1,271.318741,743836,0.501,9.9\\r\\nCongo,Developing,59.4,338,8,2.58,0,73,2,23.3,11,77,2.9,79,4.3,,,0.527,10\\r\\nMalta,Developed,80,64,0,7.14,2655.573684,86,1,66.6,0,72,8.15,72,0.1,21928.767,49379,0.813,14.6\\r\\nSwaziland,Developing,51.4,477,3,4.87,413.0063027,9,1,28.9,4,89,8.19,88,40.2,2842.438422,1158897,0.514,10.6\\r\\nBelgium,Developed,83,78,0,10.08,664.4738975,98,109,62.6,1,99,1.54,99,0.1,4474.5717,11128246,0.886,16.2\\r\\nUnited Arab Emirates,Developing,74.9,98,1,1.74,277.1818332,92,42,56.8,1,94,2.65,94,0.1,3323.52318,,0.808,12.3\\r\\nDenmark,Developed,77,12,0,11.56,530.4832336,,11,52.8,0,97,9.1,97,0.1,3751.64946,5358783,0.862,16.2\\r\\nVenezuela (Bolivarian Republic of),Developing,73.3,161,10,7.55,0,82,0,55.9,11,83,4.78,86,0.1,,,0.687,11.6\\r\\nCambodia,Developing,64.1,216,17,2.03,51.50447119,8,188,14.3,21,8,4.48,8,1.1,539.8791529,13474489,0.483,10.1\\r\\nUnited Arab Emirates,Developing,76.3,81,1,1.73,387.774991,95,0,57.1,1,95,3.7,95,0.1,4462.3129,,0.824,13.3\\r\\nChina,Developing,75.6,88,185,5.79,9.955532032,99,26883,3.9,216,99,5.39,99,0.1,777.77594,135738,0.713,12.7\\r\\nUnited Arab Emirates,Developing,75.8,85,1,1.86,4003.908598,92,55,54.8,1,94,2.93,92,0.1,45758.9554,,0.829,13.1\\r\\nBhutan,Developing,67.9,228,1,0.28,244.0391949,91,21,2.3,1,92,5.17,91,0.5,2178.921383,727641,0,11.4\\r\\nKuwait,Developing,73.2,95,0,0.01,113.1997845,99,0,64.5,1,99,3.61,99,0.1,1654.96761,,0.786,14\\r\\nGrenada,Developing,77,178,0,9.61,81.11355954,96,0,38.2,0,96,7.67,96,0.1,519.958715,,0,14.3\\r\\nTrinidad and Tobago,Developing,71.1,171,0,6.94,1578.872339,92,0,46,0,94,5.93,92,0.3,19325.24283,1354493,0.778,12.7\\r\\nMexico,Developing,75.6,127,37,5.36,159.8772264,97,0,58.7,43,96,6.6,96,0.1,9689.52887,11366189,0.735,12.3\\r\\nMicronesia (Federated States of),Developing,67.9,178,0,1.9,0,91,0,63.6,0,94,12.11,94,0.1,,,0.617,10.7\\r\\nJordan,Developing,73.3,118,4,0.59,668.7447334,98,0,6.9,4,98,9.54,98,0.1,3492.1396,6821116,0.742,13.6\\r\\nSao Tome and Principe,Developing,64.3,222,0,5.27,10.8139134,96,0,23.4,0,97,1.4,97,1.6,81.86157,15563,0.514,10\\r\\nSouth Africa,Developing,56,429,52,7.38,365.2585722,72,1166,4.9,76,71,8.31,71,24,2681.781,45312937,0.629,13\\r\\nLithuania,Developed,76,229,0,12.7,116.504961,95,1,58.7,0,94,6.2,94,0.1,924.642548,326999,0.807,16.4\\r\\nCroatia,Developed,74.9,126,0,13.15,650.9567981,,8,55.2,0,94,7.16,94,0.1,5245.421419,444,0.749,12.3\\r\\nAlbania,Developing,77.5,8,0,4.51,428.7490668,98,0,57.2,1,98,5.88,98,0.1,4575.763787,288914,0.761,14.2\\r\\nAlgeria,Developing,75.4,11,21,0.01,54.2373183,95,0,58.4,24,95,7.21,95,0.1,547.8517,39113313,0.741,14.4\\r\\nBurkina Faso,Developing,59.9,26,38,,0,91,99,19.4,61,91,,91,0.6,615.592225,1811624,0.399,7.7\\r\\nSouth Africa,Developing,59.2,48,43,7.38,1089.954838,68,32,48.7,56,65,8.79,65,7.6,7548.163698,5256515.8,0.644,12.8\\r\\nFiji,Developing,68.5,211,0,2.06,52.1241634,99,136,55.9,0,98,3.84,98,0.1,3749.939813,827411,0.695,14\\r\\nItaly,Developed,80,72,2,9.25,2883.334911,95,9385,56.4,3,96,8.23,93,0.1,22196.5736,57597,0.836,15.2\\r\\nGuinea-Bissau,Developing,52.5,32,5,2.55,0.868708478,,126,17.9,9,56,5.4,53,3.6,39.486749,1267512,0,6.7\\r\\nKiribati,Developing,65.8,22,0,0.01,137.2591943,95,0,76.7,0,91,1.15,95,0.1,1724.361737,18535,0.589,11.9\\r\\nMongolia,Developing,62.8,274,2,2.79,56.431387,93,925,38.5,3,94,4.92,94,0.1,474.2133361,2397436,0.582,8.9\\r\\nAntigua and Barbuda,Developing,74.2,151,0,7.16,1158.065259,99,0,4.1,0,99,4.53,99,0.1,9739.82556,,0,0\\r\\nPeru,Developing,74,133,11,4.29,516.4037021,93,0,5.2,15,93,4.6,93,0.3,3611.2147,28292724,0.696,13.2\\r\\nYemen,Developing,65.4,226,36,0.04,0,73,400,39.6,46,67,5.78,73,0.1,,,0.498,9\\r\\nGuinea,Developing,58.8,284,27,0.01,5.140668848,63,53,22.2,41,63,5.49,63,1,54.169324,11536615,0.406,8.5\\r\\nMali,Developing,51.2,31,60,0.53,3.67646576,,717,16.5,108,65,6.32,61,2.3,334.22416,11638929,0.308,4.9\\r\\nMaldives,Developing,72.7,112,0,1.75,491.4978908,98,75,16.7,0,98,5.9,98,0.1,3432.247841,34,0.601,11.8\\r\\nFrance,Developing,79,13,3,13.89,3451.185079,28,0,55.2,4,98,9.89,97,0.1,22527.31775,61357431,0.849,15.6\\r\\nYemen,Developing,61.1,251,46,0.08,0,19,485,31.7,63,73,4.34,73,0.1,,,0.444,7.9\\r\\nRwanda,Developing,65.7,23,12,0.01,7.549797238,98,10,2.8,16,98,7.53,98,0.4,76.5699517,11345357,0.488,10.8\\r\\nBahamas,Developing,73.8,174,0,10.1,0,93,0,57.4,0,92,6.2,93,0.1,,,0.784,12.3\\r\\nNamibia,Developing,61.7,317,3,6.28,59.55033546,,0,3.2,4,83,7.15,83,11.7,429.6561,216375,0.589,11.3\\r\\nPortugal,Developed,78.7,94,0,12.57,333.3569124,97,0,55.7,0,96,9.62,97,0.1,2278.5845,1542964,0.797,15.4\\r\\nFiji,Developing,68.6,29,0,2.09,5.889526221,99,0,56.6,0,99,3.74,99,0.1,478.82327,834812,0.698,14.2\\r\\nUkraine,Developing,75,24,5,8.48,415.1627705,21,1333,59,5,54,6.98,5,0.2,3569.75727,45761,0.734,14.9\\r\\nTurkey,Developing,75.8,16,15,,0,97,342,66.1,18,97,,97,0.1,1979.52569,78271472,0.764,14.5\\r\\nLebanon,Developing,75,93,1,1.57,835.0626827,81,9,64,1,75,7.12,81,0.1,8734.9653,4588368,0.758,13.2\\r\\nPeru,Developing,74.2,134,12,4.22,448.7670462,94,0,49.5,15,94,4.47,94,0.4,3171.49856,27949944,0.693,13\\r\\nBurkina Faso,Developing,56.9,283,44,4.55,81.14304705,92,54118,16.1,77,91,7.41,92,1.1,552.7455521,1514199,0.356,5.9\\r\\nPortugal,Developed,77.3,15,0,14.21,2283.891796,94,8,52.5,1,96,9.54,99,0.1,15772.7334,1458821,0.789,15.8\\r\\nColombia,Developing,73.6,15,12,4.28,113.2436346,88,0,54.2,15,88,6.76,88,0.1,625.65544,4591897,0.695,12.8\\r\\nLesotho,Developing,47.8,586,5,2.86,38.57187011,,217,25.4,7,78,7.53,78,31.2,437.819184,1885955,0.443,10.3\\r\\nLithuania,Developed,71.6,22,0,11.29,80.99710054,95,1,57.8,0,91,6.46,94,0.1,555.535669,3415213,0.78,15.8\\r\\nUzbekistan,Developing,68.8,184,18,0.01,16.71406295,99,0,42.2,21,99,6.49,99,0.1,174.468298,297745,0.673,12\\r\\nTrinidad and Tobago,Developing,69.1,194,0,4.55,516.7112481,,0,34.4,1,91,4.4,91,1.2,6935.721451,127238,0.715,11.8\\r\\nJapan,Developed,82,69,3,7.99,6799.664423,,0,24.4,4,95,8.18,98,0.1,37217.64873,127773,0.87,14.9\\r\\nTunisia,Developing,73.2,11,4,1.19,257.2878697,94,231,48.9,5,98,5.29,98,0.1,2254.933126,978571,0.654,13.1\\r\\nMaldives,Developing,71.8,124,0,1.95,4.299053392,98,926,16.2,0,98,5.78,98,0.1,32.37239,297,0.597,12\\r\\nEcuador,Developing,73.6,157,8,3.88,187.3843511,75,0,45.1,10,88,4.62,88,0.3,2183.966796,13726,0.675,12.5\\r\\nKazakhstan,Developing,65.3,288,8,7.44,499.730412,94,13,47.3,9,94,3.19,93,0.1,6771.414797,15484192,0.754,14.7\\r\\nParaguay,Developing,73,155,3,5.39,30.93519548,85,0,45.6,3,81,9.14,85,0.1,2599.596259,6127837,0.663,12.1\\r\\nCongo,Developing,62.9,285,7,3.82,0,7,315,25,10,69,2.79,82,3.5,,,0.558,10.7\\r\\nPoland,Developed,75.3,144,2,10.9,14.3042452,98,40,56.6,3,99,6.28,99,0.1,1126.31852,381256,0.808,15\\r\\nBolivia (Plurinational State of),Developing,62.6,243,15,2.32,0,77,122,42.6,20,74,5.67,75,0.1,,,0.6,13.3\\r\\nSouth Africa,Developing,54.5,486,51,8.48,805.490079,83,31,45,79,79,7.53,82,26.4,6125.39984,48883844.99,0.612,12.9\\r\\nLao People's Democratic Republic,Developing,64,252,12,3.53,0,45,1491,14.4,16,46,4.54,45,0.2,,,0.485,8.6\\r\\nBrazil,Developing,75,183,111,7.26,179.4777293,94,36,43.7,127,99,7.3,98,0.1,3739.11936,175287587,0.677,14.1\\r\\nRussian Federation,Developing,67.5,278,16,12.04,161.7301654,98,27,56.6,18,98,6.22,98,0.3,11635.2637,14274235,0.769,13.9\\r\\nBulgaria,Developed,71.1,163,1,9.69,15.2357274,94,46,57,1,94,6.7,93,0.1,169.28586,817172,0.709,12.9\\r\\nRomania,Developed,74.4,138,2,9.58,1078.358105,96,7450,58.4,2,92,5.48,91,0.1,8558.39766,25835,0.797,15.3\\r\\nSeychelles,Developing,72.2,185,0,8.12,916.4741775,99,1,31.2,0,99,3.3,99,0.1,12154.82994,8533,0.733,13.1\\r\\nAlgeria,Developing,71.3,145,21,0.25,154.4559436,,0,44.4,25,86,3.49,86,0.1,1757.17797,3118366,0.636,10.7\\r\\nUzbekistan,Developing,67.2,183,25,1.54,28.52135777,99,85,36.4,30,99,5.17,98,0.3,396.129969,2556765,0.607,11.3\\r\\nCzechia,Developed,75.9,114,0,13.19,0,99,0,61.3,0,96,6.93,97,0.1,,,,\\r\\nPoland,Developed,75.7,136,2,10.7,1299.159757,98,115,57.8,3,96,7.12,99,0.1,11527.59323,3815163,0.818,15.1\\r\\nGhana,Developing,57.2,38,43,1.6,20.65432873,,23068,19.5,65,88,3,88,3.6,263.1124679,18938762,0.48,7.7\\r\\nUnited States of America,Developed,78.5,18,26,8.71,0,92,71,66.3,31,93,17,95,0.1,,,,\\r\\nSwaziland,Developing,57.6,393,2,0.01,708.9556648,98,0,31.2,3,98,9.66,98,9.8,3598.75972,1271456,0.539,11.4\\r\\nBelize,Developing,69,191,0,6.25,365.799896,96,0,43.8,0,96,4.45,96,0.8,3933.332215,283277,0.695,12.8\\r\\nTonga,Developing,72.3,15,0,1.57,689.9440223,89,0,69.4,0,9,6.52,89,0.1,2594.74999,1141,0.694,14.6\\r\\nChina,Developing,75.2,91,215,5.63,91.26749779,99,9943,29,251,99,5.3,99,0.1,5633.79616,134413,0.7,12.8\\r\\nEstonia,Developing,72.3,195,0,15.07,101.1201161,9,0,55.2,0,95,5.13,94,0.1,885.465115,136255,0.805,15.7\\r\\nSerbia,Developing,75.3,122,1,9.16,880.6403367,91,1,58.9,1,97,1.12,95,0.1,6353.826383,7164132,0.766,14.1\\r\\nBarbados,Developing,73.7,121,0,7.65,13.5139917,91,0,45.4,0,9,5.82,89,0.4,1228.5447,,0.753,14.2\\r\\nMalawi,Developing,44.6,613,43,1.08,4.375316094,84,167,15.2,70,85,6.35,84,24.2,26.152517,12336687,0.362,10.3\\r\\nJapan,Developed,81.5,72,4,8.03,5486.51208,,22552,22.5,5,81,7.75,95,0.1,33846.46564,127149,0.856,14.6\\r\\nLebanon,Developing,72.7,112,1,2.26,404.3879434,83,5,57.9,1,83,1.86,83,0.1,5334.93329,3235366,0,14.9\\r\\nLuxembourg,Developed,79.4,85,0,11.98,15345.4907,95,8,57.5,0,99,7.75,99,0.1,89739.7117,472637,0.88,13.5\\r\\nUganda,Developing,57.5,378,82,9.63,87.04534954,79,1601,15.9,124,78,8.43,79,8.1,647.17732,32771895,0.464,10.8\\r\\nRussian Federation,Developing,70,229,14,10.58,1529.497771,97,2339,59.3,16,98,7.9,97,0.2,15543.67653,14356911,0.799,14.6\\r\\nDemocratic Republic of the Congo,Developing,54.3,314,233,1.43,0,,182485,16.9,329,6,3.14,6,2,,,,\\r\\nSomalia,Developing,52.2,335,52,0.01,0,,13,21.5,84,41,,42,0.8,,,,\\r\\nCanada,Developing,87,74,2,8.3,8433.936814,28,62,63,2,89,1.3,92,0.1,46596.33599,33245773,0.897,15.8\\r\\nNorway,Developed,79.4,78,0,6.04,880.7380617,,8,55.3,0,92,9.85,92,0.1,5111.65445,4564855,0.918,17.1\\r\\nIraq,Developing,72,142,30,0.17,0,66,4088,5.1,37,8,,78,0.1,,24251649,0.607,8.7\\r\\nGhana,Developing,63,275,41,1.78,161.0106435,93,82,24.2,61,92,4.85,93,2.2,1224.41554,2329864,0.53,9.8\\r\\nSwaziland,Developing,56.5,412,2,0.01,720.2333929,95,0,3.7,3,92,8.76,95,12.2,3851.51547,1248158,0.534,11.3\\r\\nLao People's Democratic Republic,Developing,63.6,218,10,5.95,0,74,153,18,13,76,2.75,74,0.3,,,0.535,9.6\\r\\nRepublic of Korea,Developing,82,66,1,0.01,0,99,442,31.2,2,99,7.37,99,0.1,,,,\\r\\nUnited Republic of Tanzania,Developing,49.6,46,110,4.09,0,,11847,16.4,173,65,3.28,87,12.5,,,,\\r\\nDemocratic People's Republic of Korea,Developing,66.6,177,16,2.53,0,,0,25.7,21,98,,62,0.1,,,,\\r\\nMyanmar,Developing,63.2,231,69,0.4,3.824212472,8,830,15.2,93,86,1.97,78,0.5,219.782326,47624894,0.445,7.7\\r\\nAntigua and Barbuda,Developing,75.4,14,0,7.82,149.3587355,98,0,43.8,0,98,4.86,99,0.1,1312.46692,,0.788,14.2\\r\\nUnited Republic of Tanzania,Developing,58.3,348,88,4.04,0,9,1622,21.3,128,88,5.72,9,3.1,,,,\\r\\nBahrain,Developing,75,85,0,2.16,1214.558167,98,12,55.2,0,97,3.74,97,0.1,14221.99259,,0.798,13.7\\r\\nHonduras,Developing,72.8,161,5,3.23,192.9297829,94,0,43.5,6,94,7.63,95,0.8,1437.628785,754146,0.583,10.8\\r\\nFrance,Developing,82.2,79,3,11.5,6739.677606,83,267,62,3,98,11.54,98,0.1,42955.24287,66331957,0.89,16.2\\r\\nEritrea,Developing,63.6,274,6,0.01,0,94,194,17,8,94,2.98,94,0.6,,,0.41,5\\r\\nBhutan,Developing,69.1,219,0,0.01,19.79057439,97,0,22.7,1,97,3.83,97,0.6,235.882889,764961,0.589,12.6\\r\\nNetherlands,Developed,81.1,63,1,8.96,1047.370244,2,51,59.9,1,97,1.53,97,0.1,5354.6536,1669374,0.911,17.2\\r\\nComoros,Developing,59.5,272,1,0.09,35.02948624,,0,17.3,2,7,3.56,7,0.1,375.8528566,542357,0,8.2\\r\\nLuxembourg,Developed,86,73,0,11.36,2267.252192,94,0,59.2,0,96,7.68,99,0.1,14965.361,56953,0.884,13.7\\r\\nCabo Verde,Developing,77,148,0,3.82,155.2072669,4,0,22.6,0,92,5.17,91,0.8,1373.515636,45216,0.569,11.3\\r\\nSao Tome and Principe,Developing,65.1,217,0,4.14,49.93698173,87,0,24.7,0,98,7.44,97,1.2,894.927988,16311,0.527,10.3\\r\\nCentral African Republic,Developing,47.6,477,17,1.52,67.34137528,,12,19.4,25,46,4.3,45,8.3,456.8614334,4345386,0.338,6.3\\r\\nNigeria,Developing,49.2,4,556,9.71,6.416252787,18,110927,19.3,893,45,4.11,36,5.4,87.8938738,138939478,0.463,8.9\\r\\nUzbekistan,Developing,68.3,183,20,2.73,119.4571154,99,117,4.7,23,99,5.34,99,0.2,1377.8214,285624,0.657,11.9\\r\\nCuba,Developing,77.7,19,1,4.1,334.7672107,98,0,51.3,1,98,6.5,99,0.1,2994.339988,,0.692,12.5\\r\\nTogo,Developing,54.7,355,15,1.02,2.995959823,,295,17.9,22,72,5,72,5.2,31.437144,539141,0.428,9.9\\r\\nPhilippines,Developing,68.1,217,56,5.02,212.7418488,88,1536,23.7,71,88,4.46,88,0.1,2581.818554,96866642,0.666,11.6\\r\\nTimor-Leste,Developing,67.4,159,2,0.01,30.17998548,83,16,16.2,2,83,1.1,83,0.1,1117.77724,115676,0.618,12.5\\r\\nCyprus,Developed,78.5,66,0,10.62,158.7087399,88,0,54.3,0,98,6.83,98,0.1,2293.4789,993563,0.815,13\\r\\nMali,Developing,52.8,296,58,0.49,57.11644801,73,172,17.5,103,7,6.28,69,2,439.3572924,1239196,0.333,5.5\\r\\nDenmark,Developed,78.9,86,0,10.08,9765.616994,,6,56.6,0,89,11.47,89,0.1,58163.29359,552395,0.906,16.8\\r\\nZambia,Developing,45.5,69,41,2.44,54.04348047,,25036,17.3,66,85,6.93,84,18.4,377.135244,111249,0.433,10\\r\\nBhutan,Developing,69.4,216,0,0.01,209.3921344,99,0,23.6,1,98,3.57,99,0.5,2522.7968,776448,0.596,12.5\\r\\nRussian Federation,Developing,65,37,22,10.18,224.4600248,,4800,54,26,97,5.42,96,0.2,1771.58662,146596557,0.709,12.1\\r\\nFinland,Developing,79.2,96,0,10.15,524.7775227,,0,58.6,0,97,8.38,97,0.1,4112.67651,5266268,0.869,17.2\\r\\nBarbados,Developing,74.6,19,0,8.46,327.1618128,93,0,49.9,0,93,6.21,93,0.1,16523.32388,,0.779,15.5\\r\\nChad,Developing,52.2,366,46,0.64,76.52382535,39,226,18.2,78,46,3.42,39,3.1,986.13177,13133589,0.387,7.3\\r\\nGreece,Developing,79.7,77,0,9.42,318.5806628,94,0,61.2,1,98,9.34,98,0.1,2481.15781,112362,0.85,16.3\\r\\nBangladesh,Developing,65.8,168,219,0.01,3.395069781,,4414,1.8,298,85,2.47,85,0.1,42.5981152,1341716,0.468,7.5\\r\\nCambodia,Developing,68.7,174,10,,0,89,0,19.6,12,87,,89,0.2,1163.18977,15517635,0.558,10.9\\r\\nAustralia,Developed,83,71,1,9.97,3829.550928,95,91,6.3,1,92,8.32,93,0.1,23465.38559,198954,0.905,20.6\\r\\nChad,Developing,51.6,365,46,0.56,67.76269089,33,8650,17.5,79,4,3.17,33,3.9,989.2363633,12288651,0.37,6.7\\r\\nSri Lanka,Developing,74.6,142,3,2.56,41.62053588,99,2107,21.9,3,99,3.68,99,0.1,361.289374,2585,0.757,13.8\\r\\nRussian Federation,Developing,73,225,13,10.12,1340.553699,97,4711,59.9,15,97,7.7,97,0.1,14125.961,143819666,0.803,14.9\\r\\nPanama,Developing,76.8,127,1,6.87,1092.155356,85,0,53.4,2,85,7.56,85,0.1,7429.628274,3579385,0.755,12.8\\r\\nSyrian Arab Republic,Developing,73.8,122,8,0.8,0,83,19,5.4,9,83,3.4,79,0.1,,2325443,0.651,11.6\\r\\nNepal,Developing,69.6,158,18,0.01,8.523486403,92,1279,18.5,22,92,5.8,92,0.1,76.2386977,28323241,0.551,12.4\\r\\nBotswana,Developing,47.8,647,2,5.37,250.8916484,86,2672,29.9,4,97,4.64,97,38.8,3349.68823,172834,0.559,11.7\\r\\nBahamas,Developing,74.4,167,0,10.75,0,93,0,59.4,0,95,7.8,95,0.1,,,0.79,12.5\\r\\nNorway,Developed,81.3,61,0,6.21,2094.19096,,4,59.8,0,95,9.16,95,0.1,11563.727,518573,0.941,17.6\\r\\nLao People's Democratic Republic,Developing,62.1,234,11,5,0,5,1678,16.1,15,46,4.14,5,0.2,,,0.509,9\\r\\nLuxembourg,Developed,78.3,95,0,12.91,910.5062778,95,0,55.2,0,99,8.27,99,0.1,5293.64115,446175,0.86,13.5\\r\\nCongo,Developing,53.2,417,9,2.45,0,,3712,2.7,14,5,2.61,5,6.8,,,0.492,9.4\\r\\nEritrea,Developing,59.1,342,7,0.64,10.26097341,84,24,13.6,10,98,3.14,98,1.8,287.4222243,3858623,0,5\\r\\nGeorgia,Developing,73.9,128,1,7.17,151.762567,89,56,5.5,1,9,8.99,92,0.1,3174.9491,43,0.735,13.1\\r\\nMorocco,Developing,71,133,22,0.58,127.7632005,95,1217,49.9,25,97,5.23,97,0.1,2191.478567,3869346,0.575,10\\r\\nDominica,Developing,,,0,0.01,11.41955507,96,0,58.4,0,96,5.58,96,0.1,722.75665,,0.721,12.7\\r\\nFrance,Developing,81.3,86,3,11.7,72.8001211,65,5048,6.1,3,99,11.2,99,0.1,473.34279,6527512,0.879,16\\r\\nDemocratic Republic of the Congo,Developing,56.7,292,238,2.13,0,72,57,18.6,323,78,5.61,72,1.7,,,,\\r\\nSri Lanka,Developing,74.9,138,3,,0,99,1568,23.4,3,99,,99,0.1,3844.89123,2966,0.764,14\\r\\nLao People's Democratic Republic,Developing,64.4,28,9,0.01,0,79,32,19.4,12,78,2.12,79,0.3,,,0.554,10.2\\r\\nEl Salvador,Developing,75,211,3,2.77,57.74562629,96,0,5.1,3,96,6.68,96,0.2,362.951768,656478,0.651,12.9\\r\\nUzbekistan,Developing,67.1,186,27,1.47,24.99438738,62,25,35.9,32,99,5.44,99,0.2,383.3494997,2527185,0.6,11\\r\\nHungary,Developed,72.9,18,1,13.28,146.8608016,,0,58.2,1,99,8.8,99,0.1,1259.5266,117146,0.793,15.3\\r\\nRepublic of Moldova,Developing,68.3,237,1,9.66,0,95,10,49.1,1,93,1.88,92,0.1,,,,\\r\\nBrunei Darussalam,Developing,78.3,79,0,0.01,3192.634413,99,1,38.2,0,99,2.3,99,0.1,47651.2599,,0.852,14.4\\r\\nChad,Developing,49.6,394,46,0.45,49.09198224,17,63,16.4,80,3,2.92,19,4.7,929.772391,11133861,0.338,6\\r\\nEgypt,Developing,79,159,51,,0,93,5432,61.1,60,93,,93,0.1,,,0.688,13.1\\r\\nAzerbaijan,Developing,71.6,125,5,1.98,263.142699,84,0,48.8,6,91,5.1,87,0.1,7189.691229,917382,0.741,11.7\\r\\nLuxembourg,Developed,81.4,68,0,11.02,15515.75234,94,0,6.5,0,99,7.1,99,0.1,113751.85,54336,0.892,13.9\\r\\nBahrain,Developing,75.8,76,0,2,231.5478912,97,2,58.5,0,97,3.17,97,0.1,2367.56535,,0.815,14.4\\r\\nBelarus,Developing,71.7,23,0,14.66,1109.854619,98,16,61.1,1,98,6.7,98,0.1,7978.825443,9465997,0.796,15.7\\r\\nAustralia,Developed,79.9,75,1,9.53,3064.301144,94,141,59,2,91,8.18,92,0.1,19517.84168,19413,0.899,20.5\\r\\nSlovakia,Developed,76.7,19,0,,0,96,1,59.1,0,96,,96,0.1,,,0.842,15\\r\\nMorocco,Developing,74.1,96,18,0.43,198.7343495,99,10,57.5,21,99,5.91,99,0.1,3154.513484,3431882,0.64,12.1\\r\\nIceland,Developed,81.3,59,0,7.53,12042.97366,,0,57.8,0,97,8.75,97,0.1,68348.31817,311566,0.887,18.2\\r\\nPhilippines,Developing,67,223,65,4.22,105.7306982,49,118,2.1,84,9,3.91,89,0.1,1194.697155,86274237,0.642,11.6\\r\\nSierra Leone,Developing,48.1,424,27,3.84,5.347717533,86,1089,21.7,40,84,1.32,86,1.6,45.128418,645872,0.384,8.7\\r\\nThe former Yugoslav republic of Macedonia,Developing,73.6,12,0,1.75,0,53,5,54.9,0,98,7.95,97,0.1,,,0,11.9\\r\\nBahrain,Developing,75.5,79,0,2.1,170.7374027,98,3,56.8,0,98,3.8,98,0.1,1937.99549,,0.81,14.2\\r\\nBelarus,Developing,72,232,0,17.31,846.9113071,98,50,59.9,1,98,4.92,98,0.1,6519.71753,9473172,0.787,15.5\\r\\nAzerbaijan,Developing,73,14,6,1.02,176.0107106,62,0,45.9,7,81,5.1,79,0.1,3851.437869,85813,0.708,11.6\\r\\nPeru,Developing,75.3,125,8,5.38,946.6521165,88,0,54.2,11,71,5.23,88,0.1,6583.116248,3565716,0.731,13.4\\r\\nTurkmenistan,Developing,63.8,224,7,2.9,88.2436347,,113,37.5,9,98,3.94,97,0.1,643.17518,4516131,0,0\\r\\nNew Zealand,Developed,81,75,0,9.49,6761.288966,9,0,63.8,0,89,1.7,89,0.1,31287.77865,,0.894,19.5\\r\\nSeychelles,Developing,72.9,172,0,0.01,1521.672751,99,0,35.5,0,98,3.58,98,0.1,15687.34795,89949,0.762,13.5\\r\\nKuwait,Developing,74.6,82,0,0.01,2480.896965,96,55,7.8,1,94,3.4,95,0.1,42996.4812,,0.787,13\\r\\nBhutan,Developing,67,234,1,0.21,302.667579,96,7,18.8,1,96,6.58,96,0.4,1795.18137,795,0,10.5\\r\\nBenin,Developing,59.7,252,25,0.01,90.12206791,78,786,25.2,39,74,4.59,78,1.1,943.686575,1286712,0.475,10.7\\r\\nSamoa,Developing,75,175,0,3.43,199.4118322,89,0,66.5,0,83,5.16,85,0.1,1555.47451,175566,0.645,12\\r\\nNorway,Developed,81.5,62,0,6.21,234.782883,,8,6.3,0,94,9.39,94,0.1,1291.435,579623,0.942,17.5\\r\\nRwanda,Developing,61,288,17,7.11,9.165614959,97,5,17.7,25,93,7.2,97,2.8,539.1538211,9977446,0.447,10.2\\r\\nSlovakia,Developed,75.6,122,0,10.24,0,99,0,56.5,0,99,7.96,99,0.1,,,0.829,15\\r\\nSolomon Islands,Developing,68.5,186,0,0.99,229.6687488,99,0,47.2,0,99,5.8,99,0.1,1642.837974,539614,0.497,9.4\\r\\nSwitzerland,Developed,83.2,51,0,9.61,19479.91161,,23,57,0,96,11.66,96,0.1,85814.58857,8188649,0.936,15.9\\r\\nLao People's Democratic Republic,Developing,64,213,9,5.39,0,78,113,18.7,13,79,2.2,78,0.3,,,0.542,9.9\\r\\nFinland,Developing,77.5,15,0,8.59,397.7533689,,0,55.5,0,96,7.22,99,0.1,24253.2542,517629,0.847,17.3\\r\\nSuriname,Developing,68,223,0,4.53,32.3662077,,0,49.7,0,74,6.62,75,1,263.1399,488332,0,10.9\\r\\nMontenegro,Developing,74.2,125,0,4.98,678.5188944,9,0,57.2,0,92,6.74,92,0.1,5957.145693,615875,0.762,13.6\\r\\nGermany,Developed,78.5,9,3,11.92,582.6157028,9,779,56.6,4,96,1.62,97,0.1,3359.95215,82534176,0.872,16.3\\r\\nGhana,Developing,59.4,288,41,1.7,129.0263364,84,420,23,62,84,4.64,84,2.9,922.9351677,22113425,0.51,8.7\\r\\nGermany,Developed,78,95,3,12.91,4238.540035,84,0,55.1,4,94,1.1,9,0.1,23718.7467,8221158,0.855,16.2\\r\\nMorocco,Developing,73.9,97,18,0.45,179.8598949,99,92,56.5,21,99,5.94,99,0.1,3111.762887,33824769,0.634,12.1\\r\\nCabo Verde,Developing,73,152,0,3.81,150.7434862,,0,22.1,0,91,5.19,9,0.8,1268.884564,443716,0.562,11\\r\\nNepal,Developing,68,178,23,0.24,84.62302524,82,190,16.4,30,83,6.43,82,0.2,592.1835216,2723137,0.515,11.1\\r\\nSyrian Arab Republic,Developing,73.7,123,8,0.97,122.6523334,83,517,48.5,10,83,3.78,8,0.1,1762.24617,18914977,0.636,11.4\\r\\nPakistan,Developing,65.7,165,369,0.04,59.65900139,72,8046,23.2,456,72,2.76,72,0.1,1261.28967,177911533,0.529,7.6\\r\\nTonga,Developing,72.5,146,0,2.05,568.8692813,87,0,7.8,0,88,5.82,87,0.1,2932.315883,12357,0.698,14.5\\r\\nGuatemala,Developing,67.7,221,17,2.63,238.7369808,,0,4.4,21,8,5.25,81,0.2,1655.596261,1165743,0.539,8.2\\r\\nGeorgia,Developing,71.8,129,2,3.28,47.81704183,55,50,46,2,81,6.94,8,0.1,691.997711,44183,0,11.4\\r\\nTrinidad and Tobago,Developing,69.2,192,0,5.12,72.03911741,5,0,35.2,1,96,5,96,2,749.626612,1277837,0.721,11.9\\r\\nRwanda,Developing,59.6,295,20,6.78,7.409771603,97,26,16.5,30,98,8.49,97,5,44.853339,944742,0.424,10.1\\r\\nGuatemala,Developing,75,192,13,2.4,380.9632429,85,0,45.2,16,85,6.86,85,0.4,2489.955836,137286,0.578,10.1\\r\\nKiribati,Developing,65.3,27,0,0.48,18.21661422,91,0,75.2,0,95,1.52,91,0.1,1493.1651,12652,0.584,11.9\\r\\nPakistan,Developing,64.4,178,367,0.03,3.912744517,75,2801,2.1,459,75,3.35,75,0.1,95.4327931,16332974,0.505,6.7\\r\\nMorocco,Developing,72.3,116,20,0.62,188.2902861,98,834,52.7,23,99,5.67,99,0.1,2861.5545,31989897,0.596,10.5\\r\\nSwaziland,Developing,45.9,6,3,5.65,2.819124474,9,350,27.1,4,87,5.71,85,50.6,22.99449,187392,0.493,9.1\\r\\nGuatemala,Developing,69.7,24,14,2.38,352.0244894,89,0,44.5,17,9,7.7,89,0.4,2256.56724,133978,0.57,9.8\\r\\nMyanmar,Developing,65.6,27,47,0.33,21.23698847,4,2046,2.5,61,9,1.87,84,0.5,1186.423937,555331,0.526,9.1\\r\\nJordan,Developing,72.3,127,4,0.54,228.7838108,97,76,56.3,4,97,9.15,97,0.1,1889.213962,5396774,0.717,13.2\\r\\nLao People's Democratic Republic,Developing,64.9,23,9,0.01,0,87,71,2.1,12,86,2,87,0.3,,,0.563,10.4\\r\\nMali,Developing,56.5,273,54,0.6,9.585584394,72,1719,2.7,91,77,6.35,73,1.5,78.377632,157585,0.396,7.3\\r\\nKuwait,Developing,74.7,81,0,,0,99,18,71.4,1,99,,99,0.1,28975.418,,0.799,13.3\\r\\nArgentina,Developing,74,138,12,7.76,123.0128671,,0,54.6,13,85,9.38,83,0.1,717.694674,3747159,0.771,15.6\\r\\nLatvia,Developed,78,29,0,8.24,478.0644911,98,0,56.3,0,98,6.15,98,0.1,5134.95694,2287955,0.761,15.2\\r\\nDenmark,Developed,81,75,0,9.5,10261.763,,17,58.1,0,94,11.25,94,0.1,61191.19263,5614932,0.924,18.7\\r\\nBelgium,Developed,78.9,89,0,12.27,5068.214488,77,26,6.2,1,97,9.24,97,0.1,36967.28292,1478617,0.861,15.7\\r\\nLebanon,Developing,74.7,95,1,1.62,8.140373615,81,22,63,1,75,7.42,81,0.1,84.268878,4183156,0.746,13.2\\r\\nJordan,Developing,74,113,4,0.41,63.8784522,98,20,64.8,4,98,7.45,98,0.1,466.94775,88936,0.737,13.1\\r\\nKenya,Developing,62.1,263,59,1.81,154.2269697,94,0,2.1,84,94,5.49,94,3,1155.2582,43646629,0.536,11.1\\r\\nPakistan,Developing,63.5,185,366,0.01,24.23455671,63,4740,17.9,466,69,2.61,67,0.1,563.594342,1477341,0.465,5.6\\r\\nMorocco,Developing,77,137,22,0.47,9.469371264,96,0,49.1,26,98,5.6,98,0.1,213.755559,35217,0.569,9.8\\r\\nSlovenia,Developed,76,122,0,11.9,161.4473853,,0,51.2,0,93,8.26,91,0.1,1227.73677,1988925,0.818,14.6\\r\\nGuatemala,Developing,76,198,12,2.14,445.4423371,92,0,46.5,15,92,6.79,92,0.4,2635.753474,1431628,0.596,10.4\\r\\nVanuatu,Developing,71,145,0,0.91,471.8626525,62,0,49.1,0,66,4.71,65,0.1,2965.82434,236295,0.59,10.8\\r\\nVenezuela (Bolivarian Republic of),Developing,74.1,157,9,,0,87,0,62.1,10,87,,87,0.1,,,0.769,14.3\\r\\nGeorgia,Developing,73.8,132,1,7.24,194.1732658,95,22,52,1,88,1.5,92,0.1,2964.47734,3926,0.738,13.3\\r\\nTajikistan,Developing,66.7,174,10,0.3,35.71613793,93,0,35.9,12,93,5.93,93,0.2,666.3458569,7472819,0.601,11.1\\r\\nEritrea,Developing,59.4,34,7,1.07,5.064688968,96,19,13.9,9,96,2.97,96,1.6,276.75896,39697,0,5.4\\r\\nEritrea,Developing,58.1,345,7,0.61,5.593619538,,204,12.8,10,89,3.95,86,2,215.139213,3497124,0,4.3\\r\\nSouth Africa,Developing,57.3,397,51,7.3,45.96380839,73,1459,4.1,73,71,8.7,73,21.3,337.2253,44896856,0.635,13\\r\\nMalaysia,Developing,75,123,4,,0,99,1318,4.6,4,99,,99,0.1,9643.644683,3723155,0.787,13.1\\r\\nSaint Lucia,Developing,71.6,183,0,11.69,0,,0,36.8,0,7,5.53,7,0.4,,,0,12.8\\r\\nC\\xc3\\xb4te d'Ivoire,Developing,49.9,443,61,2.58,0,76,5,23.2,87,75,6.35,76,5.3,,,,\\r\\nAlgeria,Developing,74.4,123,20,0.5,352.0636419,94,107,52.8,23,94,5.36,95,0.1,3868.83123,3546576,0.705,13.1\\r\\nBurkina Faso,Developing,56.1,288,45,4.5,107.7988339,93,395,15.6,80,92,6.77,93,1.5,569.7612784,14689726,0.345,5.4\\r\\nC\\xc3\\xb4te d'Ivoire,Developing,48.7,466,63,3.11,0,76,115,22.1,90,87,5.39,76,6.1,,,,\\r\\nNiger,Developing,59.4,241,50,0.15,32.22493445,75,771,17.7,93,4,6.66,75,0.7,375.5819866,1764636,0.323,4.8\\r\\nTogo,Developing,55.9,344,14,1.37,0.675682939,,8,19.8,22,72,5.55,82,5.1,42.764743,5997385,0.443,10.6\\r\\nMali,Developing,55.5,278,55,0.57,102.1413744,74,98,19.6,94,74,6.74,74,1.6,689.6784228,14138216,0.36,5.8\\r\\nTogo,Developing,54.6,339,14,1.1,2.02964427,,3578,16.6,22,63,4.35,64,5.1,26.3932935,497367,0.425,9.3\\r\\nDominican Republic,Developing,73.4,157,6,5.93,97.52211538,8,0,56.8,7,82,4.12,83,0.3,627.55544,1281296,0.709,13.2\\r\\nSudan,Developing,64.1,225,58,,0,93,3585,,85,93,,93,0.3,2513.884661,3864783,0.488,7.2\\r\\nEgypt,Developing,68.8,171,65,0.14,0,98,2633,5.7,82,98,5.55,98,0.1,,,0.606,11\\r\\nBarbados,Developing,75.5,98,0,,0,97,0,54.5,0,97,,97,0.1,15557.8381,,0.794,15.3\\r\\nUkraine,Developing,67.6,256,6,4.89,115.738974,48,7587,55.4,7,99,6.25,99,0.9,879.475486,48225,0.683,13.9\\r\\nAustria,Developed,78.7,9,0,12.5,3979.057728,81,0,51.2,0,82,1.27,83,0.1,26351.37568,881957,0.847,16.1\\r\\nIraq,Developing,77,144,32,0.17,285.119726,77,15,56.5,39,8,3.32,79,0.1,5854.614497,3172753,0.649,10.4\\r\\nIran (Islamic Republic of),Developing,71.8,139,28,0.01,0,95,3,47.6,33,98,5.89,99,0.1,,,0.686,11.8\\r\\nSomalia,Developing,55,312,50,,0,42,7497,24.3,80,47,,42,0.7,426.98537,,,\\r\\nMalawi,Developing,57.6,377,27,0.01,59.48744893,91,3,19.2,40,87,11.38,91,5.1,354.7253961,1768838,0.466,10.7\\r\\nFiji,Developing,68.3,214,0,2.02,64.39203443,99,0,55.1,0,97,3.61,96,0.1,3658.63832,821817,0.699,13.9\\r\\nCroatia,Developed,76.3,19,0,12.21,2160.380199,97,2,6,0,96,8.18,96,0.1,14157.14416,442978,0.803,14.2\\r\\nSweden,Developed,82,69,0,6.9,5067.411418,,3,54.4,0,99,9.31,99,0.1,36961.42537,8958229,0.882,15.9\\r\\nLiberia,Developing,50,42,13,4.21,9.758449266,,142,21.1,18,49,3.44,35,3.2,133.494518,3116233,0.373,10.3\\r\\nNamibia,Developing,60,356,3,5.12,62.11039296,,21,29.4,4,81,6.99,86,15.2,422.51968,279915,0.578,11.3\\r\\nIraq,Developing,74,14,30,0.15,0,65,0,5.6,37,76,,77,0.1,,24939299,0.614,9.1\\r\\nZimbabwe,Developing,45.4,7,28,4.57,34.26216876,68,212,27.9,45,71,5.12,7,26.8,414.796232,13124267,0.408,9.5\\r\\nNepal,Developing,68.9,167,20,0.26,80.58788376,9,3362,17.4,25,9,5.89,9,0.2,681.7925868,27649925,0.538,12.3\\r\\nEcuador,Developing,76,121,6,3.82,79.11626341,83,0,53.5,7,84,9.16,83,0.1,6432.216537,1593112,0.737,14\\r\\nSierra Leone,Developing,48.1,463,23,0.01,1.443286353,83,1006,23.8,32,83,11.9,83,0.6,78.4394757,779162,0.426,9.5\\r\\nMauritius,Developing,71.8,165,0,3.73,502.3844946,97,3,28.6,0,98,4.38,97,0.1,5695.969327,1233996,0.713,13.4\\r\\nMorocco,Developing,69.5,15,25,0.46,66.72933871,92,6000,46.5,29,94,5.31,94,0.1,1413.757176,29512368,0.54,8.8\\r\\nAzerbaijan,Developing,68.4,162,6,0.73,81.28883085,49,1238,44.7,7,79,7.86,75,0.1,1578.4239,839185,0.675,11.2\\r\\nAlgeria,Developing,71.7,146,20,0.34,25.0185226,,15374,47,23,87,3.6,87,0.1,294.33556,3243514,0.663,11.5\\r\\nSenegal,Developing,57.9,251,26,0.34,6.064221202,,24789,17.9,49,49,4.98,52,0.6,481.287397,1134497,0.381,5.4\\r\\nGermany,Developed,80,79,2,11.22,7641.270645,88,574,59.5,3,95,11.4,96,0.1,41732.7725,819237,0.906,16.7\\r\\nEcuador,Developing,74.4,144,8,3.52,19.13983284,96,0,47.9,9,92,5.86,96,0.3,335.786541,1396748,0.693,12.8\\r\\nMalawi,Developing,46,66,39,1.04,5.670640102,93,184,15.9,62,94,8.2,93,22.4,28.3673842,1339711,0.371,9.7\\r\\nIran (Islamic Republic of),Developing,72.2,139,26,0.02,0,98,220,49.4,30,99,5.95,98,0.1,,,0.692,11.4\\r\\nSerbia,Developing,74,132,1,9.54,96.33237912,93,2,55.8,1,95,1.5,95,0.1,671.773913,735222,0.749,13.5\\r\\nGuyana,Developing,66.2,215,0,,0,95,0,46.7,1,92,,95,0.3,4136.689919,768514,0.638,10.3\\r\\nMexico,Developing,76.6,122,31,5.26,168.173753,84,3,62.8,36,87,6.3,87,0.1,1452.27766,1242216,0.754,13.1\\r\\nGreece,Developing,81,72,0,,0,96,1,66.5,0,99,,99,0.1,187.78991,182883,0.865,17.2\\r\\nCameroon,Developing,52.1,412,59,4.71,7.177302132,,358,22.8,94,72,4.73,73,7.5,93.211716,1695981,0.455,8.2\\r\\nMexico,Developing,75,126,52,4.86,13.31109532,97,3,53.2,62,97,5.35,97,0.1,731.378864,136768,0.7,11.6\\r\\nTogo,Developing,59.4,287,14,0.01,48.73047089,84,564,23.1,20,84,5.12,84,1.5,579.43485,742948,0.47,12\\r\\nBhutan,Developing,62,312,1,0.17,93.35872844,98,418,13.9,1,98,6.91,92,0.1,765.8632358,573416,0,7.3\\r\\nCuba,Developing,78,14,1,4.17,523.4724284,89,0,54.6,1,99,7.67,89,0.1,4669.6916,,0.732,14.7\\r\\nCentral African Republic,Developing,45.6,58,17,1.47,31.5941587,,938,17.2,25,42,4.16,44,13.4,253.768343,397612,0.315,5.4\\r\\nEthiopia,Developing,54,363,228,0.79,10.97201912,,228,13.2,360,55,4.64,37,4.4,118.8734466,72545144,0.306,5.2\\r\\nIreland,Developed,79.5,75,0,13.59,9797.552661,,64,56.6,0,92,7.57,92,0.1,61388.17457,4398942,0.902,17.6\\r\\nGuinea-Bissau,Developing,57.1,289,4,3.57,40.45367358,86,0,23.7,7,85,5.46,86,5.7,692.69989,1596154,0.41,9\\r\\nCanada,Developing,81.5,68,2,8.2,971.9280384,7,803,64.7,2,87,1.82,87,0.1,5282.2176,3434278,0.903,15.9\\r\\nBurkina Faso,Developing,56,344,48,4.56,23.1016899,,4174,12.5,93,62,4.85,62,3.6,235.4912324,11944587,0,3.5\\r\\nParaguay,Developing,73.4,15,3,5.79,472.1932825,89,0,47.1,3,84,9.42,89,0.1,3988.11894,6293783,0.675,12.3\\r\\nIndia,Developing,65.2,26,1400,1.59,5.234770324,6,41144,14.4,1900,67,4.23,64,0.3,118.166373,1179681239,0.546,9.9\\r\\nLesotho,Developing,45.5,648,5,1.99,5.300902041,17,1,26.4,7,9,7.13,9,33.8,63.636279,191897,0.44,10.5\\r\\nUkraine,Developing,67.6,256,6,5.92,21.22386354,77,411,55.7,6,99,6.93,97,0.9,148.522488,4781295,0.691,14.3\\r\\nChina,Developing,75,92,231,5.75,5.660754839,99,38159,28.1,268,99,4.89,99,0.1,456.512487,133775,0.691,12.5\\r\\nGuatemala,Developing,71.3,189,11,2.02,484.7187892,96,0,48.6,13,94,6.33,96,0.4,3299.65139,1527156,0.616,10.6\\r\\nColombia,Developing,74.2,144,12,4.37,184.3073618,85,6,55,14,85,6.64,85,0.1,7227.73968,4646646,0.7,13\\r\\nSaint Lucia,Developing,74.2,147,0,10.87,0,97,0,43.8,0,97,8.1,97,0.1,,,0.724,12.8\\r\\nDjibouti,Developing,58,325,2,1.02,94.13302875,,37,29.4,2,68,6.22,68,4.2,819.974118,758615,0.378,3.5\\r\\nIraq,Developing,67.9,199,32,0.01,43.5240801,62,1317,58.5,39,67,5.54,64,0.1,673.74737,3568,0.658,10.1\\r\\nMauritania,Developing,62.7,28,8,0.01,8.88028118,8,62,29.4,12,8,3.63,8,1.1,145.57838,394617,0.501,8.2\\r\\nMongolia,Developing,65,271,2,2.91,122.1206485,98,26,43,2,98,4.68,99,0.1,1334.651896,255812,0.649,12.7\\r\\nIsrael,Developing,79.3,74,1,2.47,1701.195787,98,2,59.2,1,91,7.49,9,0.1,18431.15696,657,0.855,15.3\\r\\nTurkmenistan,Developing,63.7,245,6,2.71,29.27235366,98,48,41.3,8,98,2.9,98,0.1,2136.66815,48115,0,10.4\\r\\nSingapore,Developed,82,69,0,1.49,2356.731479,96,33,3.2,0,96,3.74,96,0.1,29869.85398,,0.821,12.6\\r\\nBrazil,Developing,71.8,172,88,6.95,15.85781237,97,2,46.1,100,99,6.94,99,0.1,359.587582,182482149,0.699,14.8\\r\\nMozambique,Developing,53.2,45,72,1.48,0.796915785,75,4,19.7,104,74,4.91,75,12.6,53.127719,22846758,0.372,8.8\\r\\nKyrgyzstan,Developing,68.5,21,4,2.39,0,96,1,4.1,4,96,6.79,95,0.1,,,0.629,12.4\\r\\nTogo,Developing,57.4,323,14,1.21,41.96145465,83,120,21.4,21,83,5.37,83,3.8,487.9238913,652952,0.449,11\\r\\nBangladesh,Developing,69.1,147,144,0.01,42.48865034,96,2660,14,186,96,2.85,96,0.1,615.7775411,14885814,0.52,8.6\\r\\nBolivia (Plurinational State of),Developing,69.8,194,8,3.89,0,93,0,5.6,11,93,5.56,93,0.1,,,0.655,13.8\\r\\nPakistan,Developing,65.5,167,371,0.04,57.87736282,74,4386,22.5,459,75,3.1,74,0.1,1226.215314,174184265,0.525,7.5\\r\\nCroatia,Developed,76,116,0,12.06,2425.403891,97,51,59.4,0,96,7.7,96,0.1,15893.8656,443458,0.8,14.3\\r\\nBarbados,Developing,74.7,16,0,8.41,154.9630863,86,0,5.7,0,9,6.17,86,0.1,1595.91232,,0.781,15.8\\r\\nLuxembourg,Developed,79.7,82,0,11.75,267.051312,87,0,57.9,0,96,6.8,99,0.1,1618.4928,479993,0.877,13.5\\r\\nDominican Republic,Developing,73.6,154,6,5.92,1088.244952,89,0,57.9,7,9,4.38,91,0.3,6268.692122,145844,0.712,13.2\\r\\nSpain,Developed,81,77,2,11.92,405.4475981,96,22,6.5,2,96,8.12,96,0.1,2651.71745,43653155,0.837,15.8\\r\\nIsrael,Developing,81.7,61,1,2.63,409.4109292,97,23,63,1,95,7.36,95,0.1,3661.994,76236,0.878,15.7\\r\\nCyprus,Developed,79.7,57,0,10.69,2443.325028,96,0,58.3,0,99,7.54,99,0.1,32233.83942,1124835,0.847,13.8\\r\\nEcuador,Developing,72.8,163,9,3.99,84.17527008,36,0,43.6,11,83,3.38,87,0.3,1451.29776,12628596,0.668,12.4\\r\\nMongolia,Developing,65.9,26,2,3.79,126.698109,98,12,43.9,2,99,5.6,95,0.1,1634.81431,259167,0.661,13\\r\\nBhutan,Developing,68.3,225,0,0.23,289.8524057,95,10,21.1,1,95,4.73,95,0.5,2458.45976,7451,0.572,11.9\\r\\nUnited Arab Emirates,Developing,76,84,1,1.73,292.4022672,93,0,55.1,1,94,4.5,93,0.1,3372.57517,,0.831,13.2\\r\\nSingapore,Developed,78.3,78,0,2.03,1855.828806,97,141,28.5,0,98,2.71,98,0.1,23792.677,,0.81,12.5\\r\\nLatvia,Developed,72.6,184,0,9.85,1137.6237,92,0,58.5,0,94,6.84,94,0.1,12219.37379,2141669,0.821,16.4\\r\\nCongo,Developing,52.7,419,9,2.3,0,,2152,19.8,14,32,2.44,31,7.6,,,0.487,9.7\\r\\nSaint Vincent and the Grenadines,Developing,71.4,177,0,6.04,0,99,0,44.7,0,93,3.66,99,0.2,,,0.692,13.3\\r\\nKyrgyzstan,Developing,66.7,215,4,3.31,0,99,2,36.5,5,99,5.43,98,0.1,,,0.601,12.1\\r\\nJamaica,Developing,74,15,1,3.63,194.092569,97,0,47.2,1,99,4.22,95,1.5,4313.1682,276279,0.709,12.5\\r\\nPortugal,Developed,79.6,88,0,12.25,3119.349824,97,5,58.1,0,97,1.44,98,0.1,22538.6548,15731,0.812,16\\r\\nFrance,Developing,81,93,3,12.2,5451.701225,35,36,57.5,4,98,1.6,98,0.1,34879.72633,63179356,0.86,15.5\\r\\nTunisia,Developing,72.9,112,4,1.21,264.7842196,94,47,48.1,5,97,5.4,97,0.1,2213.91488,9699197,0.646,12.8\\r\\nCyprus,Developed,85,52,0,,0,97,0,6.3,0,97,,97,0.1,2375.1127,116985,0.854,14.3\\r\\nGambia,Developing,68,266,3,0.01,0,96,1,26.7,5,97,7.34,96,1.7,,,0.449,8.9\\r\\nEthiopia,Developing,59.8,289,177,1.13,38.55783268,52,3511,14.9,270,63,4.28,54,2.4,325.3825543,83184892,0.378,7.6\\r\\nGrenada,Developing,73.1,146,0,8.07,865.9999782,97,0,45.6,0,98,6.36,97,0.1,7583.1872,,0.744,15.8\\r\\nTurkey,Developing,73.9,118,23,1.4,106.9482898,94,4,61.1,27,96,6.8,96,0.1,936.499911,71339185,0.709,12.5\\r\\nSri Lanka,Developing,74.2,138,4,1.97,97.76637062,99,3,16.6,5,99,4.6,99,0.1,1259.87591,19373,0.712,12.9\\r\\nSolomon Islands,Developing,67.4,24,0,0.9,25.31155956,83,0,42.1,0,9,7.83,89,0.1,88.874858,469885,0.465,8.3\\r\\nSouth Sudan,Developing,52.5,383,28,,0,,0,,43,,,,4.1,,8468152,0,0\\r\\nTonga,Developing,72.5,147,0,1.08,4.783805563,84,0,72.1,0,86,4.67,84,0.1,37.846563,1364,0.703,14.5\\r\\nBelize,Developing,68.5,199,0,4.99,262.8299189,97,0,42,0,93,4.38,89,0.1,3556.561825,26226,0.678,11.9\\r\\nZambia,Developing,58,363,30,2.47,184.3649102,83,15754,2.7,45,8,4.41,83,6.8,1463.213573,138533,0.533,11.8\\r\\nArmenia,Developing,74.6,12,1,3.91,295.6087143,93,13,54.1,1,95,4.48,93,0.1,3994.712355,29622,0.739,12.7\\r\\nCanada,Developing,81,76,2,8,6333.177967,14,6,61.3,2,93,9.57,93,0.1,36189.58838,32312,0.886,15.8\\r\\nVenezuela (Bolivarian Republic of),Developing,73.6,166,9,7.59,0,84,0,58.8,10,75,5.81,84,0.1,,,0.754,14\\r\\nMauritania,Developing,63.1,25,8,,0,73,1,3.8,12,67,,73,0.9,1158.256469,4182341,0.513,8.5\\r\\nSpain,Developed,89,72,2,11.05,510.9327012,96,267,61.7,2,96,8.36,96,0.1,3279.414,4522683,0.849,16\\r\\nTajikistan,Developing,69.6,162,10,0.01,7.829008596,97,0,39.9,11,94,6.88,97,0.2,114.45919,8362745,0.622,11.3\\r\\nQatar,Developing,76.5,85,0,1,4049.972347,93,24,64.7,0,93,4.14,92,0.1,34176.98183,,0.815,12.8\\r\\nDemocratic People's Republic of Korea,Developing,68.5,165,10,3.21,0,92,0,27.7,13,97,,79,0.1,,,,\\r\\nNew Zealand,Developed,79.9,78,0,9.31,491.055852,87,20,62.1,0,89,8.25,89,0.1,2775.89515,,0.886,18.9\\r\\nCentral African Republic,Developing,52.5,397,15,,0,47,150,22.7,21,47,,47,4.4,348.381417,45461,0.347,7.1\\r\\nAustria,Developed,78.8,88,0,12.2,504.4308735,83,90,51.7,0,84,1.48,84,0.1,3212.9355,8121423,0.837,14.7\\r\\nBangladesh,Developing,73,14,118,0.01,62.34988484,96,5625,15.8,150,96,3.16,96,0.1,835.789341,153911916,0.545,9.4\\r\\nUnited Kingdom of Great Britain and Northern Ireland,Developed,78.2,87,4,11.44,0,,314,58.8,4,91,7.57,91,0.1,,,,\\r\\nMalta,Developed,81,58,0,7.67,343.123395,93,0,68.4,0,99,9.95,99,0.1,2193.8836,419455,0.821,14.1\\r\\nUnited Republic of Tanzania,Developing,56.2,376,92,3.44,0,86,3413,19.6,138,89,4.21,86,7.4,,,,\\r\\nBelize,Developing,71,175,0,,0,94,0,5.9,0,94,,94,0.2,4849.997495,359288,0.706,12.8\\r\\nDenmark,Developed,84,73,0,9.64,10468.76292,,27,58.4,0,94,1.8,94,0.1,62425.5392,5643475,0.926,19.2\\r\\nSingapore,Developed,82.7,57,0,1.83,714.3441019,97,138,32.7,0,97,4.53,97,0.1,5629.18914,,0.92,15.4\\r\\nCroatia,Developed,75.2,116,0,11.59,167.2319899,,2,57.5,0,96,6.89,96,0.1,1224.2459,4442,0.777,13.6\\r\\nCosta Rica,Developing,77.5,1,1,4.29,868.3713593,8,0,46.4,1,92,7.25,91,0.1,3981.52847,3996798,0.708,11.7\\r\\nBrazil,Developing,74.5,148,49,7.55,843.1946259,96,2,53.6,54,96,8.26,95,0.1,12291.46685,256983,0.73,14.2\\r\\nPapua New Guinea,Developing,58.9,335,11,0.73,62.56273841,57,7135,37.5,14,51,3.98,59,1.1,631.9468526,5572222,0.418,6.2\\r\\nCosta Rica,Developing,79.5,96,1,3.45,384.5129138,91,1,59.5,1,91,9.31,91,0.1,1647.44179,4757575,0.768,13.9\\r\\nOman,Developing,74.7,115,1,0.58,78.51141,99,13,5.1,1,98,2.31,98,0.1,1448.55,,0.748,11.6\\r\\nIran (Islamic Republic of),Developing,72.7,135,24,0.02,0,99,127,51.4,28,99,6.28,99,0.1,,,0.716,12.1\\r\\nBosnia and Herzegovina,Developing,75.5,99,0,4.25,3.479918859,36,28,49.9,0,87,9.4,84,0.1,265.642661,3781287,0,12.3\\r\\nZimbabwe,Developing,52.4,527,29,5.21,53.30858081,9,9696,29.4,44,89,5.37,89,15.7,713.63562,1486317,0.436,10\\r\\nTurkey,Developing,71.2,138,38,1.47,35.55729,72,7823,55.1,46,78,5.36,78,0.1,366.57,6514354,0.658,11.5\\r\\nMalawi,Developing,54.1,441,32,1.23,13.77617463,97,26,18,50,97,11.67,97,11.2,512.125451,15627618,0.444,10.6\\r\\nEquatorial Guinea,Developing,53.5,334,3,6.01,234.7874207,,24,19.1,4,44,2.5,36,2.9,2711.17114,66647,0.542,8.2\\r\\nBurundi,Developing,58,386,25,6.61,9.696689164,,18363,12.8,41,71,4.98,8,5.2,135.9984455,6476,0.268,4.5\\r\\nAustria,Developed,78.1,96,0,13.2,3557.455507,33,0,5.1,0,71,1.6,81,0.1,24517.26745,811566,0.833,15.4\\r\\nDjibouti,Developing,57.4,325,2,1.34,91.95075901,,183,28.2,2,46,5.75,46,4.1,768.176767,717584,0.361,2.9\\r\\nBelize,Developing,69.4,189,0,6.66,582.8027185,98,0,48.5,0,98,5.45,98,0.1,4673.63848,33671,0.702,12.5\\r\\nBelize,Developing,69.5,186,0,6.76,569.9527122,96,0,47,0,96,5.85,96,0.2,4344.15177,32168,0.7,12.4\\r\\nSaudi Arabia,Developing,73.4,97,8,0.09,117.9227998,98,82,63.1,10,98,4.9,98,0.1,1694.2931,,0.787,13\\r\\nDemocratic People's Republic of Korea,Developing,71,146,6,3.35,0,93,0,31.8,8,99,,93,0.1,,,,\\r\\nDemocratic People's Republic of Korea,Developing,68.5,166,9,3.13,0,92,3550,28.7,12,99,,92,0.1,,,,\\r\\nMongolia,Developing,63.2,266,2,2.87,61.84921903,95,10677,39.1,3,95,5.45,95,0.1,524.145924,2419776,0.588,9.4\\r\\nMorocco,Developing,68.6,16,27,0.45,63.42140024,43,7368,44.8,32,95,4.18,95,0.1,1332.382358,28849621,0.519,8\\r\\nBolivia (Plurinational State of),Developing,74,189,8,3.62,0,98,0,51.9,10,99,6.33,98,0.1,,,0.666,13.8\\r\\nBurkina Faso,Developing,51.6,332,49,4.58,41.60951275,,2946,13.3,92,83,5.61,79,2.9,332.344351,12654621,0,3.8\\r\\nAngola,Developing,47.4,382,92,5.04,98.19145117,,258,17.7,148,39,4.1,38,2.6,1443.991929,19552542,0.426,6.8\\r\\nYemen,Developing,64.6,234,35,0.04,0,69,2676,37.9,45,69,5.4,69,0.1,,,0.493,8.6\\r\\nSaint Lucia,Developing,74.1,149,0,12.09,0,96,0,42.2,0,96,7.43,96,0.1,,,0.71,12.6\\r\\nNicaragua,Developing,73,193,4,3.51,22.35595448,87,0,43.5,5,89,5.26,87,0.4,143.6758,5175,0.57,10.4\\r\\nTimor-Leste,Developing,67.2,161,2,0.5,2.726570602,67,763,15.8,3,66,0.76,67,0.1,114.56179,1131523,0.607,12.5\\r\\nPakistan,Developing,64.2,179,365,0.03,40.36829999,78,7641,19.5,458,77,3.4,78,0.1,873.772727,15793993,0.501,6.5\\r\\nChad,Developing,57,37,46,0.47,4.982900401,24,165,16.7,80,32,3.31,24,4.4,84.455939,1152786,0.343,6.3\\r\\nLesotho,Developing,44.5,675,5,2.67,57.90369752,87,0,27.4,6,88,6.3,89,34.8,862.9463118,1949543,0.437,10.7\\r\\nJordan,Developing,72.1,129,4,0.54,259.1572375,95,19,55.5,4,95,9.68,95,0.1,1812.288374,5287488,0.712,13\\r\\nBosnia and Herzegovina,Developing,77.4,88,0,,0,82,1677,55.8,0,74,,82,0.1,4574.9787,3535961,0.747,14.2\\r\\nMyanmar,Developing,62.1,243,73,0.35,2.511437292,,845,13.6,100,88,1.84,82,0.4,193.187484,4695462,0.417,7.5\\r\\nGuinea-Bissau,Developing,52.1,3,5,2.84,6.699418747,,0,17.4,9,52,4.94,49,3.1,297.7519443,1243229,0,6.4\\r\\nNiger,Developing,53.7,278,55,0.11,3.751715442,,2183,15.4,114,46,7.15,45,1.6,25.383731,13618449,0.278,3.5\\r\\nTonga,Developing,72.8,142,0,1.24,471.8307668,82,0,72.7,0,84,4.59,82,0.1,3547.59975,14137,0.707,14.4\\r\\nYemen,Developing,62.6,245,40,0.04,0,8,6285,33.9,53,8,4.58,79,0.1,,,0.47,8.6\\r\\nTonga,Developing,72.4,148,0,1.79,503.5881956,89,0,7.1,0,89,5.61,88,0.1,2892.522663,11689,0.695,14.6\\r\\nLatvia,Developed,72.8,18,0,9.8,1109.969508,91,0,58.9,0,92,6.55,92,0.1,11326.21947,297555,0.815,16\\r\\nGabon,Developing,59.8,37,2,9.29,183.6980778,,5129,28.7,3,44,3.23,45,10.1,3976.14887,1262259,0.633,12.3\\r\\nIsrael,Developing,81,65,1,2.47,471.5533294,99,931,62.1,1,94,7.33,94,0.1,29657.4421,7388,0.877,15.8\\r\\nLesotho,Developing,49.4,566,4,2.75,104.3144732,91,0,29.2,6,89,9.8,91,18.2,923.136931,21929,0.453,10.8\\r\\nSolomon Islands,Developing,67.1,29,0,1.18,195.5259417,81,0,41.3,0,89,5.64,9,0.1,818.442619,458324,0.459,8.1\\r\\nCuba,Developing,77.2,19,1,4.48,518.9359221,95,0,53.8,1,99,9.39,89,0.1,3779.577,,0.719,14.2\\r\\nNetherlands,Developed,79.2,77,1,9.56,5170.130703,,11,55,1,98,8.52,98,0.1,39954.64222,16281779,0.885,16.5\\r\\nVanuatu,Developing,69.6,169,0,0.85,334.1673373,63,0,44.1,0,67,4.12,69,0.1,1787.94723,24143,0,10.7\\r\\nBulgaria,Developed,72.6,157,1,10.89,591.5100978,95,1,6.9,1,95,6.41,95,0.1,5932.899677,7545338,0.755,13.5\\r\\nSerbia,Developing,72.6,141,1,7.38,11.85928108,,38,51.2,2,98,6.53,95,0.1,87.1365252,7516346,0.702,13\\r\\nEgypt,Developing,68.7,177,61,0.15,0,97,653,51.8,75,97,5.97,97,0.1,,,0.617,11.2\\r\\nPanama,Developing,76.5,122,1,6.94,1199.319976,94,0,54.2,2,95,8.5,94,0.1,7937.259931,3643222,0.756,12.8\\r\\nMalawi,Developing,56.7,394,29,0.01,55.83107625,89,1,18.8,42,89,1.96,89,6.3,332.922339,16577147,0.459,10.7\\r\\nNamibia,Developing,55,471,3,5.28,294.6571552,,262,26.5,4,82,6.52,79,24.7,2482.36862,1986535,0.554,11.7\\r\\nGuinea-Bissau,Developing,52.8,35,5,2.47,24.65761755,,298,18.5,8,61,5.84,57,4.1,321.481324,1293523,0,7.1\\r\\nBenin,Developing,58.4,259,25,1.16,71.01399249,79,1461,22.5,39,8,4.46,79,1.6,793.45243,894476,0.448,9.3\\r\\nThailand,Developing,73.7,16,11,5.88,547.2101411,98,6071,26.8,12,99,4.11,99,0.3,4212.5492,66881867,0.706,13\\r\\nIsrael,Developing,81.8,61,1,2.67,3793.161624,98,70,63.4,1,94,7.39,94,0.1,33657.15727,77658,0.883,15.8\\r\\nMalaysia,Developing,74.3,13,3,0.51,9.23002632,96,1569,36.3,4,96,3.89,96,0.1,145.1262,28635128,0.774,13\\r\\nCuba,Developing,76.7,115,1,4.04,322.5863149,98,0,5.4,1,99,6.27,98,0.1,2832.188893,,0.686,12.3\\r\\nSwaziland,Developing,46,63,3,5.08,372.1651473,95,0,27.8,4,88,6.8,86,49.1,2873.862141,115873,0.495,9.7\\r\\nBosnia and Herzegovina,Developing,75.4,11,0,3.84,151.1399301,,28,48.8,0,86,7.1,8,0.1,1761.537647,377587,0,11.9\\r\\nCentral African Republic,Developing,49.2,446,17,1.67,43.48359197,45,2,2.2,24,46,3.9,45,6.6,446.4434494,4448525,0.352,6.6\\r\\nUnited Kingdom of Great Britain and Northern Ireland,Developed,77.8,89,4,10.59,0,,104,57.5,5,91,6.94,91,0.1,,,,\\r\\nAfghanistan,Developing,57.3,295,84,0.03,17.17151751,64,1990,14.7,116,58,7.43,58,0.1,272.56377,2589345,0.405,8.1\\r\\nIndia,Developing,67.6,187,1000,3.11,67.67230438,7,13822,17.5,1300,82,4.53,83,0.2,1452.195373,127856227,0.599,11.5\\r\\nGermany,Developed,81,76,2,11.2,7584.078579,88,780,59.9,3,94,11.25,95,0.1,41785.55691,8177693,0.907,16.7\\r\\nEstonia,Developing,72.8,189,0,15.52,153.5045263,95,2,55.5,0,96,5.2,96,0.1,1338.31322,1354775,0.812,15.9\\r\\nGuatemala,Developing,71.4,189,11,1.93,582.1469583,85,0,49.3,13,84,6.3,85,0.4,3452.828934,15596214,0.611,10.7\\r\\nNew Zealand,Developed,79.9,76,0,9.34,496.2228007,87,20,62.6,0,89,8.65,89,0.1,2667.86452,,0.888,19.1\\r\\nHonduras,Developing,74.3,15,4,3.11,311.7553193,97,0,49.3,4,97,9.15,97,0.4,2136.77395,8657785,0.614,11.6\\r\\nIndia,Developing,65.5,23,1300,1.93,43.03043312,29,44258,14.9,1800,69,4.34,7,0.3,991.484634,119714696,0.556,10.2\\r\\nTogo,Developing,54.6,345,14,0.95,2.048574874,,1833,17.1,22,51,4.29,5,5.3,26.6394652,511177,0.426,9.4\\r\\nOman,Developing,75.8,15,1,0.54,158.27708,99,5,52,1,99,2.49,99,0.1,2986.36,,0.797,13.6\\r\\nBurkina Faso,Developing,51,338,49,4.53,3.195566831,,1744,12.9,93,69,5.26,69,3.2,26.7635413,122931,0,3.6\\r\\nBotswana,Developing,57.5,427,2,6.56,476.8625872,94,0,34.2,3,96,5.55,96,12.7,5623.379566,1946351,0.646,12.1\\r\\nUnited Arab Emirates,Developing,76.2,82,1,1.69,308.0660742,94,87,55.8,1,94,3.93,94,0.1,3549.14832,,0.826,13.3\\r\\nCook Islands,Developing,,,0,0.01,0,98,0,82.8,0,98,3.58,98,0.1,,,,\\r\\nOman,Developing,74,122,1,0.61,70.46762486,99,18,48.9,1,99,2.98,99,0.1,1129.28886,,0.734,11.5\\r\\nAlbania,Developing,76.1,91,1,5.79,348.0559517,98,0,53.5,1,98,5.79,98,0.1,4114.136545,2927519,0.721,12.2\\r\\nEl Salvador,Developing,73,24,3,2.97,29.68529375,81,0,47,4,81,7.9,81,0.4,248.4125,59433,0.621,11.8\\r\\nUkraine,Developing,71,198,4,8.44,52.42529588,46,0,6.1,5,72,7.67,76,0.2,429.71554,454896,0.744,15.2\\r\\nPapua New Guinea,Developing,61.4,29,11,0.81,103.7277727,59,0,43.4,14,76,4.6,63,1.3,1178.72469,6787187,0.469,8.9\\r\\nSpain,Developed,81.3,7,2,10.24,5596.535203,97,297,62.3,2,97,8.8,97,0.1,35578.73619,4595416,0.854,16.1\\r\\nKazakhstan,Developing,72,198,4,,0,98,526,53.1,5,98,,98,0.1,159.9817,17544126,0.793,15\\r\\nSpain,Developed,82.1,63,1,9.62,4873.8188,97,3802,64.1,2,97,9.48,97,0.1,31834.21816,46742697,0.867,16.9\\r\\nNiger,Developing,52.1,28,56,0.1,20.26876572,,54190,14.6,121,44,6.23,41,1.6,215.8548,1265687,0.266,3\\r\\nGuyana,Developing,65.1,237,1,7.84,1.776181042,91,0,38.4,1,91,5.73,91,1.9,145.58861,751652,0.613,11.2\\r\\nMaldives,Developing,73.4,16,0,1.6,611.9093566,97,37,17.3,0,96,5.89,96,0.1,3853.33348,312,0.617,12.2\\r\\nGuyana,Developing,65.3,237,1,7.93,16.47949015,9,0,37.8,1,91,5.97,9,2.1,986.7958173,751857,0.611,11.1\\r\\nItaly,Developed,79.8,75,2,9.69,3.1222302,95,0,55.7,3,96,8.11,93,0.1,24.819,569741,0.828,14.9\\r\\nNamibia,Developing,66.1,232,3,0.01,760.6550553,89,1028,34.1,3,89,8.53,89,2.5,5488.131712,231652,0.625,11.6\\r\\nPortugal,Developed,83,81,0,11.96,331.457035,98,23,59.5,0,98,9.74,98,0.1,2577.4264,1514844,0.824,16.3\\r\\nUzbekistan,Developing,67.8,183,24,1.59,34.41887163,99,75,37,29,99,5.11,99,0.3,465.1198869,2586435,0.613,11.6\\r\\nSpain,Developed,81.9,64,1,9.78,578.7417172,97,302,63.5,2,97,9.56,97,0.1,3736.228,46576897,0.86,16.4\\r\\nMyanmar,Developing,63.5,228,66,0.44,4.15451614,39,1329,15.7,90,92,1.97,82,0.5,219.8156688,487377,0.455,7.8\\r\\nSerbia,Developing,74.4,128,1,9.65,774.4396617,89,20,57,1,91,1.9,91,0.1,5411.87744,7291436,0.755,13.6\\r\\nLithuania,Developed,73.6,165,0,,0,94,50,62.4,0,93,,93,0.1,14252.42853,29491,0.846,16.5\\r\\nItaly,Developed,89,66,2,8.98,4270.914882,96,599,57.6,3,97,8.49,94,0.1,31174.56118,57685327,0.846,15.6\\r\\nKenya,Developing,51.9,434,77,1.63,3.847602867,,11304,14.7,120,77,4.62,8,16.9,41.7763612,32321482,0.447,8.4\\r\\nTunisia,Developing,74.7,12,3,1.4,585.6307861,99,1,55.6,3,99,6.18,99,0.1,4129.977335,1521834,0.706,14.4\\r\\nAlbania,Developing,73,17,1,4.54,221.8428,99,7,48.9,1,98,6.38,97,0.1,2416.588235,326939,0.681,10.9\\r\\nSweden,Developed,82.3,54,0,7.3,1142.212403,67,26,59,0,98,11.93,98,0.1,5918.19898,969611,0.906,15.8\\r\\nSuriname,Developing,68.9,25,0,4.47,418.9206608,83,0,51.1,0,84,6.78,83,0.6,3595.8855,498946,0.672,11.3\\r\\nBelize,Developing,69.4,184,0,6.48,387.3324928,98,0,44.4,0,98,4.4,98,0.6,4187.3783,29747,0.692,12.3\\r\\nRomania,Developed,72.9,154,3,10.6,919.1673438,99,353,55,3,96,5.21,96,0.1,8214.185378,2882982,0.766,14.1\\r\\nMalawi,Developing,51.5,491,36,1.16,7.915071248,93,21,17.3,56,93,1.18,93,14.9,42.7379657,1471462,0.415,9.9\\r\\nCosta Rica,Developing,78,16,1,4.15,1185.412346,88,0,51.4,1,89,7.82,89,0.1,5245.187372,438794,0.727,12.6\\r\\nVanuatu,Developing,69.3,176,0,1.24,171.1373611,66,101,42.6,0,67,3.52,7,0.1,1353.934819,193956,0,10.2\\r\\nMozambique,Developing,54.8,48,64,1.19,49.90987221,76,145,21.3,90,73,5.58,76,6.9,566.513873,2567666,0.4,9.2\\r\\nUnited Arab Emirates,Developing,74.5,14,1,1.67,243.7539129,92,30,55,1,94,2.48,94,0.1,3161.52935,,0.798,12\\r\\nOman,Developing,75.6,16,1,0.56,129.2260751,99,3,51.8,1,99,2.74,99,0.1,1928.74739,,0.797,13.5\\r\\nAfghanistan,Developing,57.3,291,85,0.02,1.388647732,66,1296,14.2,118,58,8.7,58,0.1,25.2941299,257798,0.396,7.9\\r\\nBahamas,Developing,73.1,19,0,10.85,0,89,0,56,0,93,5.26,94,0.1,,,0.781,12.1\\r\\nOman,Developing,75.2,19,1,0.57,123.0966298,99,18,51.1,1,97,2.1,99,0.1,2275.3536,,0.765,11.9\\r\\nC\\xc3\\xb4te d'Ivoire,Developing,47.8,467,65,3.15,0,1,5790,19.9,94,7,4.85,66,7,,,,\\r\\nQatar,Developing,76.6,83,0,1.28,448.5952989,96,144,65,0,95,2.58,96,0.1,6256.55926,,0.835,13.7\\r\\nCosta Rica,Developing,79.2,96,1,4.07,24.88720369,87,0,54.4,1,8,9.69,86,0.1,689.396224,4488263,0.747,13.1\\r\\nMaldives,Developing,76.3,75,0,1.59,100.503021,98,6,21.2,0,98,9.22,98,0.1,597.1659,36,0.651,11.8\\r\\nGeorgia,Developing,71.7,142,2,2.72,60.55818291,51,199,47,2,89,8.72,84,0.1,779.3845935,4357,0.677,11.8\\r\\nViet Nam,Developing,73.6,138,32,1.84,0,,12058,9.6,41,96,5.17,96,0.1,,,0.576,10.6\\r\\nDominican Republic,Developing,73.6,157,6,6.05,587.8828228,8,0,52.6,8,85,4.41,82,1.2,4952.67753,9767758,0.695,12.9\\r\\nBotswana,Developing,62.2,325,2,5.76,668.9562854,95,8,35.7,3,96,5.25,95,5.5,7645.21469,251339,0.678,12.4\\r\\nLuxembourg,Developed,83,76,0,11.42,2052.393076,95,0,58.8,0,96,8.11,99,0.1,13198.6693,497783,0.888,13.5\\r\\nChina,Developing,73.9,99,332,2.92,171.6596026,84,124219,24.1,392,87,4.66,87,0.1,1753.4178,13372,0.634,10.6\\r\\nArgentina,Developing,74.1,137,11,7.62,57.58467352,73,0,55.7,13,95,8.22,96,0.1,333.4376,3839379,0.77,16.4\\r\\nBolivia (Plurinational State of),Developing,65.7,222,12,2.86,0,85,0,46,16,84,5.67,85,0.2,,,0.622,14.4\\r\\nLiberia,Developing,55.3,316,12,4.19,22.39648813,,8,22,16,66,8.4,6,3.1,168.648254,326123,0.372,10.1\\r\\nMali,Developing,57.8,272,52,0.01,46.56231672,73,290,23.2,85,74,6.86,73,1.6,825.5729915,16962846,0.43,8.2\\r\\nKyrgyzstan,Developing,66.9,224,4,2.81,0,97,53,38,4,98,5.82,98,0.1,,,0.612,12.4\\r\\nCyprus,Developed,81,54,0,9.04,212.0859259,96,0,59.2,0,99,7.46,99,0.1,2797.96736,1143896,0.85,13.8\\r\\nLithuania,Developed,72.8,18,0,12.66,1758.822757,95,7,6.5,0,92,6.86,92,0.1,14357.73679,328115,0.826,16.7\\r\\nNiger,Developing,50,284,58,0.1,13.35783844,,21319,13.6,128,41,6.1,34,1.5,158.455972,11352973,0.253,2.8\\r\\nKazakhstan,Developing,67.8,236,7,6.83,11.1516268,99,4,49.2,8,98,4.42,99,0.1,97.649972,16321581,0.763,14.5\\r\\nMaldives,Developing,78,129,0,1.98,41.30688803,98,0,15.6,0,97,5.84,98,0.1,298.67598,292,0.587,11.8\\r\\nArmenia,Developing,73.3,137,1,3.96,201.1855461,93,0,5.7,1,94,4.55,93,0.1,2993.832531,2888584,0.725,11.9\\r\\nLebanon,Developing,74.9,97,1,1.29,14.55610463,81,1761,64.9,1,75,6.63,81,0.1,846.285153,527612,0.766,13.3\\r\\nColombia,Developing,73.5,144,14,4.66,780.5946749,93,0,52,17,93,6.25,93,0.1,4674.21961,44374572,0.675,11.9\\r\\nSolomon Islands,Developing,65.8,235,0,0.71,4.24926073,81,0,37.9,0,88,4.56,86,0.1,154.518572,41269,0.455,7.2\\r\\nPapua New Guinea,Developing,59.9,314,11,0.58,158.001946,6,1385,4.4,15,59,8.39,62,1.5,637.3616215,6161517,0.439,7.6\\r\\nDominican Republic,Developing,73,22,7,6.32,293.0196601,79,0,46.1,8,65,5.53,79,2.3,2372.628827,896776,0.665,12.4\\r\\nLithuania,Developed,71.6,24,0,12.1,76.36187737,94,1,58.1,0,9,5.67,94,0.1,676.966998,337775,0.792,16.3\\r\\nSaudi Arabia,Developing,73.3,98,9,0.09,15.50666857,98,158,62.4,10,98,2.87,98,0.1,237.83234,,0.779,12.8\\r\\nGhana,Developing,59.9,28,41,1.25,3.181373629,94,6,23.6,61,94,5.3,94,2.6,19.686718,227212,0.519,9.1\\r\\nGuinea,Developing,57.8,291,29,0.2,29.74734049,64,45,2.8,44,62,4.55,64,2.2,438.7513346,179417,0.38,8.3\\r\\nChina,Developing,72.7,16,422,2.91,106.3590358,7,58341,21.9,511,86,4.79,86,0.1,1148.5857,1284,0.6,9.7\\r\\nSao Tome and Principe,Developing,65.8,21,0,4.13,11.13608747,98,0,26.2,0,99,6.65,98,0.9,199.57146,17813,0.533,10.1\\r\\nSyrian Arab Republic,Developing,73,134,9,1.29,94.75639211,81,801,46,11,85,5.12,83,0.1,1253.39143,17415266,0.599,10.3\\r\\nMauritania,Developing,60,23,7,0.03,8.594570232,,0,21.1,11,58,5.26,51,1.1,477.476124,279359,0.443,6.4\\r\\nJapan,Developed,82.5,64,3,7.39,9498.729062,,434,27.4,4,96,1.7,97,0.1,48167.99727,127833,0.884,15.1\\r\\nKazakhstan,Developing,65,295,8,7.08,76.19868936,99,109,46.8,9,99,3.73,99,0.1,5291.57565,153884,0.747,14.3\\r\\nAustria,Developed,78.6,92,0,12.4,3582.848308,44,0,5.6,0,83,1.12,84,0.1,24489.73553,842293,0.837,15.5\\r\\nSwitzerland,Developed,79.7,78,0,11.26,5834.582046,,0,5.8,0,95,9.91,93,0.1,37813.23426,718425,0.879,15.1\\r\\nSaint Lucia,Developing,74.8,141,0,9.73,0,99,0,45.9,0,99,7.85,99,0.1,,,0.734,13.1\\r\\nMyanmar,Developing,66.4,21,40,0.01,45.33788677,88,122,22.9,52,88,2.28,88,0.3,1262.893782,51924182,0.547,9.1\\r\\nBolivia (Plurinational State of),Developing,67.4,211,10,3.77,0,88,0,48,13,87,5,88,0.2,,,0.632,14\\r\\nUnited States of America,Developed,77.2,114,28,8.4,0,92,56,62.4,33,91,15.6,96,0.1,,,,\\r\\nBrazil,Developing,74.1,152,51,7.58,1084.999766,98,43,52.8,57,98,8.9,99,0.1,13167.47289,198686688,0.724,14\\r\\nThe former Yugoslav republic of Macedonia,Developing,74.4,111,0,1.77,0,95,5,56.9,0,96,6.74,96,0.1,,,0.73,13\\r\\nDenmark,Developed,78.1,92,0,11.28,7627.412444,,2,55,0,93,9.77,93,0.1,48799.8237,5419432,0.897,16.6\\r\\nAlbania,Developing,77.2,84,0,4.76,430.8769785,99,0,56.5,1,99,5.66,99,0.1,4414.72314,289592,0.759,14.2\\r\\nUzbekistan,Developing,69.4,184,15,,0,99,22,44.7,17,99,,99,0.1,2137.576852,312989,0.697,12.1\\r\\nSolomon Islands,Developing,68.3,188,0,1.1,29.5207994,9,0,46.4,0,94,7.47,9,0.1,1272.44825,52779,0.492,9.3\\r\\nMalaysia,Developing,72.4,149,4,0.54,23.37167228,97,6187,26,5,98,3.4,98,0.1,445.17471,2318568,0.715,11.6\\r\\nJamaica,Developing,72.7,171,1,3.89,160.2382416,,0,42.5,1,99,5.34,99,2.2,3394.878,267711,0.68,10.9\\r\\nIreland,Developed,81.2,66,0,10.75,746.3670453,95,33,62.1,0,96,7.78,96,0.1,5553.32623,4617225,0.91,18.6\\r\\nYemen,Developing,61.5,25,45,0.07,0,31,890,32.2,61,64,4.22,65,0.1,,,0.45,8\\r\\nGrenada,Developing,74,182,0,9.4,676.5453878,,0,37.7,0,97,6.62,97,0.1,5117.589923,,0,14.1\\r\\nMicronesia (Federated States of),Developing,69.4,164,0,1.58,0,81,140,68.7,0,76,13.71,77,0.1,,,0.639,11.7\\r\\nCyprus,Developed,78.6,65,0,13.03,1586.724172,88,0,54.8,0,98,6.42,98,0.1,23932.49128,1141,0.823,13.4\\r\\nGermany,Developed,78.4,91,3,12.25,437.1059663,87,4657,56.1,4,97,1.4,93,0.1,2525.16445,82488495,0.867,16.3\\r\\nPhilippines,Developing,67.5,217,60,4.21,155.4767618,88,341,21.6,78,91,4.5,91,0.1,1919.466195,9751864,0.655,11.5\\r\\nDjibouti,Developing,57.9,322,2,1.03,13.46662004,,50,29,2,62,5.45,62,4.3,792.15412,746221,0.372,3.3\\r\\nMali,Developing,57.2,27,53,0.01,96.5465827,66,341,21.9,88,72,6.47,66,1.5,777.3476868,16667,0.411,7.7\\r\\nJordan,Developing,74.1,112,4,,0,99,0,65.6,4,99,,99,0.1,496.99275,915932,0.741,13.1\\r\\nBahamas,Developing,74.8,172,0,9.42,0,97,0,63.2,0,97,7.5,97,0.1,,,0.79,12.6\\r\\nNepal,Developing,69.3,162,19,0.27,80.15505125,92,1861,18,24,92,5.69,92,0.1,688.6172788,2798531,0.545,12.3\\r\\nMauritius,Developing,71.5,174,0,4.08,407.779262,97,777,26.9,0,99,4.15,99,0.1,4623.347642,121337,0.687,12.6\\r\\nCongo,Developing,64.7,267,7,,0,8,1359,27.4,10,8,,8,2.8,,,0.59,11.1\\r\\nUnited Arab Emirates,Developing,76.5,8,1,1.75,3663.764502,96,132,58.6,1,96,3.45,96,0.1,42112.23565,,0.826,13.3\\r\\nBelize,Developing,69.8,18,0,6.56,629.2018591,95,0,49.3,0,95,5.79,95,0.2,4688.538443,344181,0.706,12.9\\r\\nGuinea-Bissau,Developing,54.4,36,5,3.22,21.53374936,,0,2.7,8,74,5.87,71,5.6,418.94454,1412669,0.388,8.3\\r\\nGuatemala,Developing,69.6,21,15,2.4,288.4016258,,0,43.1,18,88,6.77,87,0.4,1872.73783,12796925,0.564,9.3\\r\\nLatvia,Developed,74.6,153,0,,0,94,0,61.2,0,95,,95,0.1,13666.58336,1977527,0.828,16\\r\\nEquatorial Guinea,Developing,58.2,32,3,,0,16,1250,24.5,4,17,,16,4.2,1347.31257,1175389,0.582,9.2\\r\\nRwanda,Developing,62.8,26,16,7.92,63.78723633,97,121,18.3,23,93,7.91,97,2.3,563.491487,1246842,0.454,10\\r\\nEl Salvador,Developing,72,197,2,2.37,549.2783081,89,0,53.4,2,9,6.81,89,0.3,3736.58713,619256,0.666,13\\r\\nSwitzerland,Developed,84,74,0,10.85,6853.628494,,0,51.8,0,95,1.61,93,0.1,41336.72192,7284753,0.89,15.2\\r\\nZimbabwe,Developing,44.5,715,26,4.06,0,7,998,26.7,41,7,6.52,68,36.7,453.3511552,12633897,0.418,9.5\\r\\nIndonesia,Developing,67.5,19,154,0.06,102.633435,76,19456,2.5,188,77,3.1,73,0.2,1855.93915,232989141,0.638,11\\r\\nMalta,Developed,78.2,75,0,5.73,1552.740429,,7,63.4,0,95,7.86,95,0.1,11843.9392,395969,0.786,13.8\\r\\nNigeria,Developing,54.5,344,483,,0,49,12423,25.4,747,49,,49,3.7,2655.157977,181181744,0.525,10\\r\\nGhana,Developing,62.4,249,37,,0,88,23,28.6,52,88,,88,0.7,1361.11395,27582821,0.575,11.4\\r\\nDemocratic Republic of the Congo,Developing,52.1,341,229,1.85,0,,30466,15.7,331,4,2.59,38,2.4,,,,\\r\\nKiribati,Developing,65.1,21,0,0.46,167.6201552,83,0,74.1,0,74,12.23,82,0.1,1413.3234,9844,0.572,11.6\\r\\nUnited Republic of Tanzania,Developing,67,34,86,0.01,0,97,88,23.2,121,97,5.58,97,1.4,,,,\\r\\nDemocratic People's Republic of Korea,Developing,68.1,165,12,3.13,0,27,0,26.7,15,99,,68,0.1,,,,\\r\\nBangladesh,Developing,69.5,144,135,0.01,53.26400378,97,718,14.6,173,97,2.91,97,0.1,681.125368,1545478,0.523,8.4\\r\\nGambia,Developing,56.3,3,3,2.25,0,91,99,18.5,6,85,3.71,87,2.3,,,0.384,6.8\\r\\nPortugal,Developed,79,92,0,12.35,3652.869332,97,1,56.5,0,97,9.9,97,0.1,24815.6884,1558177,0.804,15.8\\r\\nChad,Developing,48.5,414,45,0.41,62.67225971,,1594,15.7,80,49,3.32,4,5.1,712.1847694,1421597,0.303,5.5\\r\\nChina,Developing,73.1,13,391,2.96,122.9365349,75,71879,22.6,467,87,4.82,86,0.1,1288.642924,12884,0.61,9.9\\r\\nChad,Developing,52.6,362,46,0.01,11.3020668,37,1275,18.7,78,44,3.62,37,2.9,125.998515,13569438,0.39,7.3\\r\\nUnited Kingdom of Great Britain and Northern Ireland,Developed,81.2,69,3,10.66,0,,91,66.6,4,96,,96,0.1,,,,\\r\\nBurundi,Developing,56.8,33,23,4.16,31.14187566,96,495,16.1,34,94,8.82,96,1.9,231.1943256,876693,0.361,9.3\\r\\nCameroon,Developing,55.9,369,50,0.01,68.55839112,85,609,27.2,76,85,4.34,85,4.6,1255.648189,2182383,0.496,10.4\\r\\nGhana,Developing,61.2,263,40,1.64,225.2219474,91,120,26.1,58,91,4.81,91,1.3,1574.978653,25121796,0.554,10.9\\r\\nBrunei Darussalam,Developing,76.2,92,0,0.16,179.7147814,99,9,31.2,0,93,2.62,94,0.1,2612.13345,,0.834,14.1\\r\\nCongo,Developing,62,298,7,3.53,0,74,4,24.5,10,72,2.29,74,3.8,,,0.548,10.5\\r\\nUnited Kingdom of Great Britain and Northern Ireland,Developed,79,82,4,12.05,0,,79,6.7,4,91,8.24,91,0.1,,,,\\r\\nUnited Kingdom of Great Britain and Northern Ireland,Developed,78.8,83,4,12.22,0,,189,6.1,4,92,7.98,92,0.1,,,,\\r\\nChile,Developing,77.8,11,2,6.06,675.7808443,,0,55.4,3,97,6.48,97,0.1,4463.545867,15623635,0.768,13.9\\r\\nBangladesh,Developing,66.3,164,207,0.01,0.397228764,,3484,11.2,280,83,2.59,83,0.1,4.6135745,1366667,0.476,7.7\\r\\n\"}"
            ]
          },
          "metadata": {},
          "execution_count": 2
        }
      ]
    },
    {
      "cell_type": "code",
      "source": [
        "data = pd.read_csv('v4.csv')"
      ],
      "metadata": {
        "id": "xNnT177YyuE2"
      },
      "execution_count": 3,
      "outputs": []
    },
    {
      "cell_type": "code",
      "source": [
        "data.head()"
      ],
      "metadata": {
        "colab": {
          "base_uri": "https://localhost:8080/",
          "height": 357
        },
        "id": "hfQ8QFyOz5MM",
        "outputId": "673ce59f-160b-43ec-d8c9-2f47590fd2f0"
      },
      "execution_count": 5,
      "outputs": [
        {
          "output_type": "execute_result",
          "data": {
            "text/plain": [
              "                            Country      Status  Life_expectancy  \\\n",
              "0  Saint Vincent and the Grenadines  Developing             73.2   \n",
              "1                             Chile  Developing             77.3   \n",
              "2                             Egypt  Developing             69.0   \n",
              "3                 Republic of Korea  Developing             81.2   \n",
              "4                        Costa Rica  Developing             78.1   \n",
              "\n",
              "   Adult_Mortality  infant_deaths  Alcohol  percentage_expenditure  \\\n",
              "0            156.0              0      NaN                0.000000   \n",
              "1             13.0              2     6.24               74.148429   \n",
              "2            176.0             57     0.16                0.000000   \n",
              "3             69.0              1     9.56                0.000000   \n",
              "4             16.0              1     3.58             2377.010299   \n",
              "\n",
              "   Hepatitis_B  Measles   BMI  under-five_deaths  Polio  Total_expenditure  \\\n",
              "0         98.0        0  54.1                  0   97.0                NaN   \n",
              "1          NaN        0  54.0                  3   91.0               6.40   \n",
              "2         97.0       80  52.9                 70   97.0               5.21   \n",
              "3         99.0        2   3.4                  2   99.0               7.10   \n",
              "4         89.0        0  55.5                  1   93.0               9.66   \n",
              "\n",
              "   Diphtheria  HIV_AIDS          GDP  Population  \\\n",
              "0        98.0       0.1          NaN         NaN   \n",
              "1        91.0       0.1   511.368479  15262754.0   \n",
              "2        97.0       0.1          NaN         NaN   \n",
              "3        99.0       0.1          NaN         NaN   \n",
              "4        88.0       0.1  8199.414621    454528.0   \n",
              "\n",
              "   Income_composition_of_resources  Schooling  \n",
              "0                            0.720       13.3  \n",
              "1                            0.755       13.5  \n",
              "2                            0.623       11.2  \n",
              "3                              NaN        NaN  \n",
              "4                            0.749       13.3  "
            ],
            "text/html": [
              "\n",
              "  <div id=\"df-f1cc96e2-f4ae-422d-9d0b-09efcad5d71c\">\n",
              "    <div class=\"colab-df-container\">\n",
              "      <div>\n",
              "<style scoped>\n",
              "    .dataframe tbody tr th:only-of-type {\n",
              "        vertical-align: middle;\n",
              "    }\n",
              "\n",
              "    .dataframe tbody tr th {\n",
              "        vertical-align: top;\n",
              "    }\n",
              "\n",
              "    .dataframe thead th {\n",
              "        text-align: right;\n",
              "    }\n",
              "</style>\n",
              "<table border=\"1\" class=\"dataframe\">\n",
              "  <thead>\n",
              "    <tr style=\"text-align: right;\">\n",
              "      <th></th>\n",
              "      <th>Country</th>\n",
              "      <th>Status</th>\n",
              "      <th>Life_expectancy</th>\n",
              "      <th>Adult_Mortality</th>\n",
              "      <th>infant_deaths</th>\n",
              "      <th>Alcohol</th>\n",
              "      <th>percentage_expenditure</th>\n",
              "      <th>Hepatitis_B</th>\n",
              "      <th>Measles</th>\n",
              "      <th>BMI</th>\n",
              "      <th>under-five_deaths</th>\n",
              "      <th>Polio</th>\n",
              "      <th>Total_expenditure</th>\n",
              "      <th>Diphtheria</th>\n",
              "      <th>HIV_AIDS</th>\n",
              "      <th>GDP</th>\n",
              "      <th>Population</th>\n",
              "      <th>Income_composition_of_resources</th>\n",
              "      <th>Schooling</th>\n",
              "    </tr>\n",
              "  </thead>\n",
              "  <tbody>\n",
              "    <tr>\n",
              "      <th>0</th>\n",
              "      <td>Saint Vincent and the Grenadines</td>\n",
              "      <td>Developing</td>\n",
              "      <td>73.2</td>\n",
              "      <td>156.0</td>\n",
              "      <td>0</td>\n",
              "      <td>NaN</td>\n",
              "      <td>0.000000</td>\n",
              "      <td>98.0</td>\n",
              "      <td>0</td>\n",
              "      <td>54.1</td>\n",
              "      <td>0</td>\n",
              "      <td>97.0</td>\n",
              "      <td>NaN</td>\n",
              "      <td>98.0</td>\n",
              "      <td>0.1</td>\n",
              "      <td>NaN</td>\n",
              "      <td>NaN</td>\n",
              "      <td>0.720</td>\n",
              "      <td>13.3</td>\n",
              "    </tr>\n",
              "    <tr>\n",
              "      <th>1</th>\n",
              "      <td>Chile</td>\n",
              "      <td>Developing</td>\n",
              "      <td>77.3</td>\n",
              "      <td>13.0</td>\n",
              "      <td>2</td>\n",
              "      <td>6.24</td>\n",
              "      <td>74.148429</td>\n",
              "      <td>NaN</td>\n",
              "      <td>0</td>\n",
              "      <td>54.0</td>\n",
              "      <td>3</td>\n",
              "      <td>91.0</td>\n",
              "      <td>6.40</td>\n",
              "      <td>91.0</td>\n",
              "      <td>0.1</td>\n",
              "      <td>511.368479</td>\n",
              "      <td>15262754.0</td>\n",
              "      <td>0.755</td>\n",
              "      <td>13.5</td>\n",
              "    </tr>\n",
              "    <tr>\n",
              "      <th>2</th>\n",
              "      <td>Egypt</td>\n",
              "      <td>Developing</td>\n",
              "      <td>69.0</td>\n",
              "      <td>176.0</td>\n",
              "      <td>57</td>\n",
              "      <td>0.16</td>\n",
              "      <td>0.000000</td>\n",
              "      <td>97.0</td>\n",
              "      <td>80</td>\n",
              "      <td>52.9</td>\n",
              "      <td>70</td>\n",
              "      <td>97.0</td>\n",
              "      <td>5.21</td>\n",
              "      <td>97.0</td>\n",
              "      <td>0.1</td>\n",
              "      <td>NaN</td>\n",
              "      <td>NaN</td>\n",
              "      <td>0.623</td>\n",
              "      <td>11.2</td>\n",
              "    </tr>\n",
              "    <tr>\n",
              "      <th>3</th>\n",
              "      <td>Republic of Korea</td>\n",
              "      <td>Developing</td>\n",
              "      <td>81.2</td>\n",
              "      <td>69.0</td>\n",
              "      <td>1</td>\n",
              "      <td>9.56</td>\n",
              "      <td>0.000000</td>\n",
              "      <td>99.0</td>\n",
              "      <td>2</td>\n",
              "      <td>3.4</td>\n",
              "      <td>2</td>\n",
              "      <td>99.0</td>\n",
              "      <td>7.10</td>\n",
              "      <td>99.0</td>\n",
              "      <td>0.1</td>\n",
              "      <td>NaN</td>\n",
              "      <td>NaN</td>\n",
              "      <td>NaN</td>\n",
              "      <td>NaN</td>\n",
              "    </tr>\n",
              "    <tr>\n",
              "      <th>4</th>\n",
              "      <td>Costa Rica</td>\n",
              "      <td>Developing</td>\n",
              "      <td>78.1</td>\n",
              "      <td>16.0</td>\n",
              "      <td>1</td>\n",
              "      <td>3.58</td>\n",
              "      <td>2377.010299</td>\n",
              "      <td>89.0</td>\n",
              "      <td>0</td>\n",
              "      <td>55.5</td>\n",
              "      <td>1</td>\n",
              "      <td>93.0</td>\n",
              "      <td>9.66</td>\n",
              "      <td>88.0</td>\n",
              "      <td>0.1</td>\n",
              "      <td>8199.414621</td>\n",
              "      <td>454528.0</td>\n",
              "      <td>0.749</td>\n",
              "      <td>13.3</td>\n",
              "    </tr>\n",
              "  </tbody>\n",
              "</table>\n",
              "</div>\n",
              "      <button class=\"colab-df-convert\" onclick=\"convertToInteractive('df-f1cc96e2-f4ae-422d-9d0b-09efcad5d71c')\"\n",
              "              title=\"Convert this dataframe to an interactive table.\"\n",
              "              style=\"display:none;\">\n",
              "        \n",
              "  <svg xmlns=\"http://www.w3.org/2000/svg\" height=\"24px\"viewBox=\"0 0 24 24\"\n",
              "       width=\"24px\">\n",
              "    <path d=\"M0 0h24v24H0V0z\" fill=\"none\"/>\n",
              "    <path d=\"M18.56 5.44l.94 2.06.94-2.06 2.06-.94-2.06-.94-.94-2.06-.94 2.06-2.06.94zm-11 1L8.5 8.5l.94-2.06 2.06-.94-2.06-.94L8.5 2.5l-.94 2.06-2.06.94zm10 10l.94 2.06.94-2.06 2.06-.94-2.06-.94-.94-2.06-.94 2.06-2.06.94z\"/><path d=\"M17.41 7.96l-1.37-1.37c-.4-.4-.92-.59-1.43-.59-.52 0-1.04.2-1.43.59L10.3 9.45l-7.72 7.72c-.78.78-.78 2.05 0 2.83L4 21.41c.39.39.9.59 1.41.59.51 0 1.02-.2 1.41-.59l7.78-7.78 2.81-2.81c.8-.78.8-2.07 0-2.86zM5.41 20L4 18.59l7.72-7.72 1.47 1.35L5.41 20z\"/>\n",
              "  </svg>\n",
              "      </button>\n",
              "      \n",
              "  <style>\n",
              "    .colab-df-container {\n",
              "      display:flex;\n",
              "      flex-wrap:wrap;\n",
              "      gap: 12px;\n",
              "    }\n",
              "\n",
              "    .colab-df-convert {\n",
              "      background-color: #E8F0FE;\n",
              "      border: none;\n",
              "      border-radius: 50%;\n",
              "      cursor: pointer;\n",
              "      display: none;\n",
              "      fill: #1967D2;\n",
              "      height: 32px;\n",
              "      padding: 0 0 0 0;\n",
              "      width: 32px;\n",
              "    }\n",
              "\n",
              "    .colab-df-convert:hover {\n",
              "      background-color: #E2EBFA;\n",
              "      box-shadow: 0px 1px 2px rgba(60, 64, 67, 0.3), 0px 1px 3px 1px rgba(60, 64, 67, 0.15);\n",
              "      fill: #174EA6;\n",
              "    }\n",
              "\n",
              "    [theme=dark] .colab-df-convert {\n",
              "      background-color: #3B4455;\n",
              "      fill: #D2E3FC;\n",
              "    }\n",
              "\n",
              "    [theme=dark] .colab-df-convert:hover {\n",
              "      background-color: #434B5C;\n",
              "      box-shadow: 0px 1px 3px 1px rgba(0, 0, 0, 0.15);\n",
              "      filter: drop-shadow(0px 1px 2px rgba(0, 0, 0, 0.3));\n",
              "      fill: #FFFFFF;\n",
              "    }\n",
              "  </style>\n",
              "\n",
              "      <script>\n",
              "        const buttonEl =\n",
              "          document.querySelector('#df-f1cc96e2-f4ae-422d-9d0b-09efcad5d71c button.colab-df-convert');\n",
              "        buttonEl.style.display =\n",
              "          google.colab.kernel.accessAllowed ? 'block' : 'none';\n",
              "\n",
              "        async function convertToInteractive(key) {\n",
              "          const element = document.querySelector('#df-f1cc96e2-f4ae-422d-9d0b-09efcad5d71c');\n",
              "          const dataTable =\n",
              "            await google.colab.kernel.invokeFunction('convertToInteractive',\n",
              "                                                     [key], {});\n",
              "          if (!dataTable) return;\n",
              "\n",
              "          const docLinkHtml = 'Like what you see? Visit the ' +\n",
              "            '<a target=\"_blank\" href=https://colab.research.google.com/notebooks/data_table.ipynb>data table notebook</a>'\n",
              "            + ' to learn more about interactive tables.';\n",
              "          element.innerHTML = '';\n",
              "          dataTable['output_type'] = 'display_data';\n",
              "          await google.colab.output.renderOutput(dataTable, element);\n",
              "          const docLink = document.createElement('div');\n",
              "          docLink.innerHTML = docLinkHtml;\n",
              "          element.appendChild(docLink);\n",
              "        }\n",
              "      </script>\n",
              "    </div>\n",
              "  </div>\n",
              "  "
            ]
          },
          "metadata": {},
          "execution_count": 5
        }
      ]
    },
    {
      "cell_type": "code",
      "source": [
        "data.shape"
      ],
      "metadata": {
        "colab": {
          "base_uri": "https://localhost:8080/"
        },
        "id": "KvuSiRRrzAdE",
        "outputId": "b54ba5b0-123c-47bc-9602-47e20958efee"
      },
      "execution_count": 4,
      "outputs": [
        {
          "output_type": "execute_result",
          "data": {
            "text/plain": [
              "(1000, 19)"
            ]
          },
          "metadata": {},
          "execution_count": 4
        }
      ]
    },
    {
      "cell_type": "markdown",
      "source": [
        "#Removing rows without Life Expectancy"
      ],
      "metadata": {
        "id": "1tVwb2BJzLnH"
      }
    },
    {
      "cell_type": "code",
      "source": [
        "data = data[data.Life_expectancy.notna()]\n",
        "data.describe()"
      ],
      "metadata": {
        "colab": {
          "base_uri": "https://localhost:8080/",
          "height": 382
        },
        "id": "UaJh48zQzGB6",
        "outputId": "d7367e6c-d080-4f37-b1e5-067a84ca56e4"
      },
      "execution_count": 7,
      "outputs": [
        {
          "output_type": "execute_result",
          "data": {
            "text/plain": [
              "       Life_expectancy  Adult_Mortality  infant_deaths     Alcohol  \\\n",
              "count       995.000000       995.000000     995.000000  945.000000   \n",
              "mean         69.295578       158.572864      28.982915    4.445397   \n",
              "std           9.506018       122.020933     102.089472    3.996911   \n",
              "min          39.000000         1.000000       0.000000    0.010000   \n",
              "25%          63.200000        71.000000       0.000000    0.950000   \n",
              "50%          72.200000       138.000000       3.000000    3.500000   \n",
              "75%          75.700000       221.000000      22.000000    7.440000   \n",
              "max          89.000000       715.000000    1500.000000   17.310000   \n",
              "\n",
              "       percentage_expenditure  Hepatitis_B        Measles         BMI  \\\n",
              "count              995.000000   823.000000     995.000000  987.000000   \n",
              "mean               762.758443    80.483597    2313.129648   38.063931   \n",
              "std               1962.313782    25.777438   11622.095051   19.994331   \n",
              "min                  0.000000     1.000000       0.000000    1.400000   \n",
              "25%                  6.557836    77.000000       0.000000   18.800000   \n",
              "50%                 81.288831    92.000000      19.000000   43.800000   \n",
              "75%                491.776559    97.000000     373.500000   55.900000   \n",
              "max              19479.911610    99.000000  182485.000000   77.100000   \n",
              "\n",
              "       under-five_deaths       Polio  Total_expenditure  Diphtheria  \\\n",
              "count         995.000000  990.000000         930.000000  990.000000   \n",
              "mean           40.107538   82.757576           5.900247   82.626263   \n",
              "std           139.808663   23.057887           2.528484   23.278933   \n",
              "min             0.000000    3.000000           0.760000    4.000000   \n",
              "25%             0.000000   77.250000           4.260000   79.000000   \n",
              "50%             4.000000   93.000000           5.685000   93.000000   \n",
              "75%            28.000000   97.000000           7.470000   97.000000   \n",
              "max          2000.000000   99.000000          17.600000   99.000000   \n",
              "\n",
              "         HIV_AIDS            GDP    Population  \\\n",
              "count  995.000000     852.000000  7.860000e+02   \n",
              "mean     1.724925    7273.050868  1.411040e+07   \n",
              "std      5.141192   13759.038478  6.485714e+07   \n",
              "min      0.100000       1.681350  3.400000e+01   \n",
              "25%      0.100000     487.097139  2.561048e+05   \n",
              "50%      0.100000    1803.734872  1.451070e+06   \n",
              "75%      0.700000    5624.831959  7.505464e+06   \n",
              "max     50.600000  113751.850000  1.179681e+09   \n",
              "\n",
              "       Income_composition_of_resources   Schooling  \n",
              "count                       945.000000  945.000000  \n",
              "mean                          0.625251   11.954921  \n",
              "std                           0.215545    3.367567  \n",
              "min                           0.000000    0.000000  \n",
              "25%                           0.501000   10.200000  \n",
              "50%                           0.675000   12.300000  \n",
              "75%                           0.778000   14.200000  \n",
              "max                           0.948000   20.700000  "
            ],
            "text/html": [
              "\n",
              "  <div id=\"df-57989e04-8f55-4e84-99f8-0cc91354c1b6\">\n",
              "    <div class=\"colab-df-container\">\n",
              "      <div>\n",
              "<style scoped>\n",
              "    .dataframe tbody tr th:only-of-type {\n",
              "        vertical-align: middle;\n",
              "    }\n",
              "\n",
              "    .dataframe tbody tr th {\n",
              "        vertical-align: top;\n",
              "    }\n",
              "\n",
              "    .dataframe thead th {\n",
              "        text-align: right;\n",
              "    }\n",
              "</style>\n",
              "<table border=\"1\" class=\"dataframe\">\n",
              "  <thead>\n",
              "    <tr style=\"text-align: right;\">\n",
              "      <th></th>\n",
              "      <th>Life_expectancy</th>\n",
              "      <th>Adult_Mortality</th>\n",
              "      <th>infant_deaths</th>\n",
              "      <th>Alcohol</th>\n",
              "      <th>percentage_expenditure</th>\n",
              "      <th>Hepatitis_B</th>\n",
              "      <th>Measles</th>\n",
              "      <th>BMI</th>\n",
              "      <th>under-five_deaths</th>\n",
              "      <th>Polio</th>\n",
              "      <th>Total_expenditure</th>\n",
              "      <th>Diphtheria</th>\n",
              "      <th>HIV_AIDS</th>\n",
              "      <th>GDP</th>\n",
              "      <th>Population</th>\n",
              "      <th>Income_composition_of_resources</th>\n",
              "      <th>Schooling</th>\n",
              "    </tr>\n",
              "  </thead>\n",
              "  <tbody>\n",
              "    <tr>\n",
              "      <th>count</th>\n",
              "      <td>995.000000</td>\n",
              "      <td>995.000000</td>\n",
              "      <td>995.000000</td>\n",
              "      <td>945.000000</td>\n",
              "      <td>995.000000</td>\n",
              "      <td>823.000000</td>\n",
              "      <td>995.000000</td>\n",
              "      <td>987.000000</td>\n",
              "      <td>995.000000</td>\n",
              "      <td>990.000000</td>\n",
              "      <td>930.000000</td>\n",
              "      <td>990.000000</td>\n",
              "      <td>995.000000</td>\n",
              "      <td>852.000000</td>\n",
              "      <td>7.860000e+02</td>\n",
              "      <td>945.000000</td>\n",
              "      <td>945.000000</td>\n",
              "    </tr>\n",
              "    <tr>\n",
              "      <th>mean</th>\n",
              "      <td>69.295578</td>\n",
              "      <td>158.572864</td>\n",
              "      <td>28.982915</td>\n",
              "      <td>4.445397</td>\n",
              "      <td>762.758443</td>\n",
              "      <td>80.483597</td>\n",
              "      <td>2313.129648</td>\n",
              "      <td>38.063931</td>\n",
              "      <td>40.107538</td>\n",
              "      <td>82.757576</td>\n",
              "      <td>5.900247</td>\n",
              "      <td>82.626263</td>\n",
              "      <td>1.724925</td>\n",
              "      <td>7273.050868</td>\n",
              "      <td>1.411040e+07</td>\n",
              "      <td>0.625251</td>\n",
              "      <td>11.954921</td>\n",
              "    </tr>\n",
              "    <tr>\n",
              "      <th>std</th>\n",
              "      <td>9.506018</td>\n",
              "      <td>122.020933</td>\n",
              "      <td>102.089472</td>\n",
              "      <td>3.996911</td>\n",
              "      <td>1962.313782</td>\n",
              "      <td>25.777438</td>\n",
              "      <td>11622.095051</td>\n",
              "      <td>19.994331</td>\n",
              "      <td>139.808663</td>\n",
              "      <td>23.057887</td>\n",
              "      <td>2.528484</td>\n",
              "      <td>23.278933</td>\n",
              "      <td>5.141192</td>\n",
              "      <td>13759.038478</td>\n",
              "      <td>6.485714e+07</td>\n",
              "      <td>0.215545</td>\n",
              "      <td>3.367567</td>\n",
              "    </tr>\n",
              "    <tr>\n",
              "      <th>min</th>\n",
              "      <td>39.000000</td>\n",
              "      <td>1.000000</td>\n",
              "      <td>0.000000</td>\n",
              "      <td>0.010000</td>\n",
              "      <td>0.000000</td>\n",
              "      <td>1.000000</td>\n",
              "      <td>0.000000</td>\n",
              "      <td>1.400000</td>\n",
              "      <td>0.000000</td>\n",
              "      <td>3.000000</td>\n",
              "      <td>0.760000</td>\n",
              "      <td>4.000000</td>\n",
              "      <td>0.100000</td>\n",
              "      <td>1.681350</td>\n",
              "      <td>3.400000e+01</td>\n",
              "      <td>0.000000</td>\n",
              "      <td>0.000000</td>\n",
              "    </tr>\n",
              "    <tr>\n",
              "      <th>25%</th>\n",
              "      <td>63.200000</td>\n",
              "      <td>71.000000</td>\n",
              "      <td>0.000000</td>\n",
              "      <td>0.950000</td>\n",
              "      <td>6.557836</td>\n",
              "      <td>77.000000</td>\n",
              "      <td>0.000000</td>\n",
              "      <td>18.800000</td>\n",
              "      <td>0.000000</td>\n",
              "      <td>77.250000</td>\n",
              "      <td>4.260000</td>\n",
              "      <td>79.000000</td>\n",
              "      <td>0.100000</td>\n",
              "      <td>487.097139</td>\n",
              "      <td>2.561048e+05</td>\n",
              "      <td>0.501000</td>\n",
              "      <td>10.200000</td>\n",
              "    </tr>\n",
              "    <tr>\n",
              "      <th>50%</th>\n",
              "      <td>72.200000</td>\n",
              "      <td>138.000000</td>\n",
              "      <td>3.000000</td>\n",
              "      <td>3.500000</td>\n",
              "      <td>81.288831</td>\n",
              "      <td>92.000000</td>\n",
              "      <td>19.000000</td>\n",
              "      <td>43.800000</td>\n",
              "      <td>4.000000</td>\n",
              "      <td>93.000000</td>\n",
              "      <td>5.685000</td>\n",
              "      <td>93.000000</td>\n",
              "      <td>0.100000</td>\n",
              "      <td>1803.734872</td>\n",
              "      <td>1.451070e+06</td>\n",
              "      <td>0.675000</td>\n",
              "      <td>12.300000</td>\n",
              "    </tr>\n",
              "    <tr>\n",
              "      <th>75%</th>\n",
              "      <td>75.700000</td>\n",
              "      <td>221.000000</td>\n",
              "      <td>22.000000</td>\n",
              "      <td>7.440000</td>\n",
              "      <td>491.776559</td>\n",
              "      <td>97.000000</td>\n",
              "      <td>373.500000</td>\n",
              "      <td>55.900000</td>\n",
              "      <td>28.000000</td>\n",
              "      <td>97.000000</td>\n",
              "      <td>7.470000</td>\n",
              "      <td>97.000000</td>\n",
              "      <td>0.700000</td>\n",
              "      <td>5624.831959</td>\n",
              "      <td>7.505464e+06</td>\n",
              "      <td>0.778000</td>\n",
              "      <td>14.200000</td>\n",
              "    </tr>\n",
              "    <tr>\n",
              "      <th>max</th>\n",
              "      <td>89.000000</td>\n",
              "      <td>715.000000</td>\n",
              "      <td>1500.000000</td>\n",
              "      <td>17.310000</td>\n",
              "      <td>19479.911610</td>\n",
              "      <td>99.000000</td>\n",
              "      <td>182485.000000</td>\n",
              "      <td>77.100000</td>\n",
              "      <td>2000.000000</td>\n",
              "      <td>99.000000</td>\n",
              "      <td>17.600000</td>\n",
              "      <td>99.000000</td>\n",
              "      <td>50.600000</td>\n",
              "      <td>113751.850000</td>\n",
              "      <td>1.179681e+09</td>\n",
              "      <td>0.948000</td>\n",
              "      <td>20.700000</td>\n",
              "    </tr>\n",
              "  </tbody>\n",
              "</table>\n",
              "</div>\n",
              "      <button class=\"colab-df-convert\" onclick=\"convertToInteractive('df-57989e04-8f55-4e84-99f8-0cc91354c1b6')\"\n",
              "              title=\"Convert this dataframe to an interactive table.\"\n",
              "              style=\"display:none;\">\n",
              "        \n",
              "  <svg xmlns=\"http://www.w3.org/2000/svg\" height=\"24px\"viewBox=\"0 0 24 24\"\n",
              "       width=\"24px\">\n",
              "    <path d=\"M0 0h24v24H0V0z\" fill=\"none\"/>\n",
              "    <path d=\"M18.56 5.44l.94 2.06.94-2.06 2.06-.94-2.06-.94-.94-2.06-.94 2.06-2.06.94zm-11 1L8.5 8.5l.94-2.06 2.06-.94-2.06-.94L8.5 2.5l-.94 2.06-2.06.94zm10 10l.94 2.06.94-2.06 2.06-.94-2.06-.94-.94-2.06-.94 2.06-2.06.94z\"/><path d=\"M17.41 7.96l-1.37-1.37c-.4-.4-.92-.59-1.43-.59-.52 0-1.04.2-1.43.59L10.3 9.45l-7.72 7.72c-.78.78-.78 2.05 0 2.83L4 21.41c.39.39.9.59 1.41.59.51 0 1.02-.2 1.41-.59l7.78-7.78 2.81-2.81c.8-.78.8-2.07 0-2.86zM5.41 20L4 18.59l7.72-7.72 1.47 1.35L5.41 20z\"/>\n",
              "  </svg>\n",
              "      </button>\n",
              "      \n",
              "  <style>\n",
              "    .colab-df-container {\n",
              "      display:flex;\n",
              "      flex-wrap:wrap;\n",
              "      gap: 12px;\n",
              "    }\n",
              "\n",
              "    .colab-df-convert {\n",
              "      background-color: #E8F0FE;\n",
              "      border: none;\n",
              "      border-radius: 50%;\n",
              "      cursor: pointer;\n",
              "      display: none;\n",
              "      fill: #1967D2;\n",
              "      height: 32px;\n",
              "      padding: 0 0 0 0;\n",
              "      width: 32px;\n",
              "    }\n",
              "\n",
              "    .colab-df-convert:hover {\n",
              "      background-color: #E2EBFA;\n",
              "      box-shadow: 0px 1px 2px rgba(60, 64, 67, 0.3), 0px 1px 3px 1px rgba(60, 64, 67, 0.15);\n",
              "      fill: #174EA6;\n",
              "    }\n",
              "\n",
              "    [theme=dark] .colab-df-convert {\n",
              "      background-color: #3B4455;\n",
              "      fill: #D2E3FC;\n",
              "    }\n",
              "\n",
              "    [theme=dark] .colab-df-convert:hover {\n",
              "      background-color: #434B5C;\n",
              "      box-shadow: 0px 1px 3px 1px rgba(0, 0, 0, 0.15);\n",
              "      filter: drop-shadow(0px 1px 2px rgba(0, 0, 0, 0.3));\n",
              "      fill: #FFFFFF;\n",
              "    }\n",
              "  </style>\n",
              "\n",
              "      <script>\n",
              "        const buttonEl =\n",
              "          document.querySelector('#df-57989e04-8f55-4e84-99f8-0cc91354c1b6 button.colab-df-convert');\n",
              "        buttonEl.style.display =\n",
              "          google.colab.kernel.accessAllowed ? 'block' : 'none';\n",
              "\n",
              "        async function convertToInteractive(key) {\n",
              "          const element = document.querySelector('#df-57989e04-8f55-4e84-99f8-0cc91354c1b6');\n",
              "          const dataTable =\n",
              "            await google.colab.kernel.invokeFunction('convertToInteractive',\n",
              "                                                     [key], {});\n",
              "          if (!dataTable) return;\n",
              "\n",
              "          const docLinkHtml = 'Like what you see? Visit the ' +\n",
              "            '<a target=\"_blank\" href=https://colab.research.google.com/notebooks/data_table.ipynb>data table notebook</a>'\n",
              "            + ' to learn more about interactive tables.';\n",
              "          element.innerHTML = '';\n",
              "          dataTable['output_type'] = 'display_data';\n",
              "          await google.colab.output.renderOutput(dataTable, element);\n",
              "          const docLink = document.createElement('div');\n",
              "          docLink.innerHTML = docLinkHtml;\n",
              "          element.appendChild(docLink);\n",
              "        }\n",
              "      </script>\n",
              "    </div>\n",
              "  </div>\n",
              "  "
            ]
          },
          "metadata": {},
          "execution_count": 7
        }
      ]
    },
    {
      "cell_type": "code",
      "source": [
        "data.isnull().sum()"
      ],
      "metadata": {
        "colab": {
          "base_uri": "https://localhost:8080/"
        },
        "id": "IuuDHGed2U56",
        "outputId": "f916c4f4-34f4-4c2f-ff50-0a99825fa69b"
      },
      "execution_count": 9,
      "outputs": [
        {
          "output_type": "execute_result",
          "data": {
            "text/plain": [
              "Country                              0\n",
              "Status                               0\n",
              "Life_expectancy                      0\n",
              "Adult_Mortality                      0\n",
              "infant_deaths                        0\n",
              "Alcohol                              5\n",
              "percentage_expenditure               0\n",
              "Hepatitis_B                        172\n",
              "Measles                              0\n",
              "BMI                                  5\n",
              "under-five_deaths                    0\n",
              "Polio                                5\n",
              "Total_expenditure                   11\n",
              "Diphtheria                           5\n",
              "HIV_AIDS                             0\n",
              "GDP                                 23\n",
              "Population                          20\n",
              "Income_composition_of_resources     14\n",
              "Schooling                           14\n",
              "dtype: int64"
            ]
          },
          "metadata": {},
          "execution_count": 9
        }
      ]
    },
    {
      "cell_type": "code",
      "source": [
        "len(data['Country'].unique())"
      ],
      "metadata": {
        "colab": {
          "base_uri": "https://localhost:8080/"
        },
        "id": "KNPqk-6D3aR-",
        "outputId": "5fd62ecf-6e3f-4557-d4d5-6192d8736392"
      },
      "execution_count": 10,
      "outputs": [
        {
          "output_type": "execute_result",
          "data": {
            "text/plain": [
              "73"
            ]
          },
          "metadata": {},
          "execution_count": 10
        }
      ]
    },
    {
      "cell_type": "code",
      "source": [
        "y = data.loc[:,['Life_expectancy']]\n",
        "X = data.drop(['Life_expectancy'], axis = 1)"
      ],
      "metadata": {
        "id": "VSvGq3Xq6lv_"
      },
      "execution_count": 12,
      "outputs": []
    },
    {
      "cell_type": "code",
      "source": [
        "X.shape()"
      ],
      "metadata": {
        "colab": {
          "base_uri": "https://localhost:8080/"
        },
        "id": "uJNTzUWR8cWJ",
        "outputId": "1da62acf-027f-450e-aaaa-ee1f62168870"
      },
      "execution_count": 13,
      "outputs": [
        {
          "output_type": "execute_result",
          "data": {
            "text/plain": [
              "(172, 18)"
            ]
          },
          "metadata": {},
          "execution_count": 13
        }
      ]
    },
    {
      "cell_type": "code",
      "source": [
        "y.shape"
      ],
      "metadata": {
        "colab": {
          "base_uri": "https://localhost:8080/"
        },
        "id": "fb7zs9Hd8kOx",
        "outputId": "402e46ab-d784-4e32-956f-0a1686470f7d"
      },
      "execution_count": 15,
      "outputs": [
        {
          "output_type": "execute_result",
          "data": {
            "text/plain": [
              "(172, 1)"
            ]
          },
          "metadata": {},
          "execution_count": 15
        }
      ]
    },
    {
      "cell_type": "code",
      "source": [
        "y"
      ],
      "metadata": {
        "colab": {
          "base_uri": "https://localhost:8080/",
          "height": 424
        },
        "id": "ECPdoLe_8pNb",
        "outputId": "8da8d49e-d336-4393-8e4b-12de796d0ed8"
      },
      "execution_count": 16,
      "outputs": [
        {
          "output_type": "execute_result",
          "data": {
            "text/plain": [
              "     Life_expectancy\n",
              "1               77.3\n",
              "8               71.4\n",
              "10              81.4\n",
              "15              79.5\n",
              "18              45.7\n",
              "..               ...\n",
              "990             81.2\n",
              "996             79.0\n",
              "997             78.8\n",
              "998             77.8\n",
              "999             66.3\n",
              "\n",
              "[172 rows x 1 columns]"
            ],
            "text/html": [
              "\n",
              "  <div id=\"df-61ce3a93-c33e-4d29-ba1a-07259afac3d9\">\n",
              "    <div class=\"colab-df-container\">\n",
              "      <div>\n",
              "<style scoped>\n",
              "    .dataframe tbody tr th:only-of-type {\n",
              "        vertical-align: middle;\n",
              "    }\n",
              "\n",
              "    .dataframe tbody tr th {\n",
              "        vertical-align: top;\n",
              "    }\n",
              "\n",
              "    .dataframe thead th {\n",
              "        text-align: right;\n",
              "    }\n",
              "</style>\n",
              "<table border=\"1\" class=\"dataframe\">\n",
              "  <thead>\n",
              "    <tr style=\"text-align: right;\">\n",
              "      <th></th>\n",
              "      <th>Life_expectancy</th>\n",
              "    </tr>\n",
              "  </thead>\n",
              "  <tbody>\n",
              "    <tr>\n",
              "      <th>1</th>\n",
              "      <td>77.3</td>\n",
              "    </tr>\n",
              "    <tr>\n",
              "      <th>8</th>\n",
              "      <td>71.4</td>\n",
              "    </tr>\n",
              "    <tr>\n",
              "      <th>10</th>\n",
              "      <td>81.4</td>\n",
              "    </tr>\n",
              "    <tr>\n",
              "      <th>15</th>\n",
              "      <td>79.5</td>\n",
              "    </tr>\n",
              "    <tr>\n",
              "      <th>18</th>\n",
              "      <td>45.7</td>\n",
              "    </tr>\n",
              "    <tr>\n",
              "      <th>...</th>\n",
              "      <td>...</td>\n",
              "    </tr>\n",
              "    <tr>\n",
              "      <th>990</th>\n",
              "      <td>81.2</td>\n",
              "    </tr>\n",
              "    <tr>\n",
              "      <th>996</th>\n",
              "      <td>79.0</td>\n",
              "    </tr>\n",
              "    <tr>\n",
              "      <th>997</th>\n",
              "      <td>78.8</td>\n",
              "    </tr>\n",
              "    <tr>\n",
              "      <th>998</th>\n",
              "      <td>77.8</td>\n",
              "    </tr>\n",
              "    <tr>\n",
              "      <th>999</th>\n",
              "      <td>66.3</td>\n",
              "    </tr>\n",
              "  </tbody>\n",
              "</table>\n",
              "<p>172 rows × 1 columns</p>\n",
              "</div>\n",
              "      <button class=\"colab-df-convert\" onclick=\"convertToInteractive('df-61ce3a93-c33e-4d29-ba1a-07259afac3d9')\"\n",
              "              title=\"Convert this dataframe to an interactive table.\"\n",
              "              style=\"display:none;\">\n",
              "        \n",
              "  <svg xmlns=\"http://www.w3.org/2000/svg\" height=\"24px\"viewBox=\"0 0 24 24\"\n",
              "       width=\"24px\">\n",
              "    <path d=\"M0 0h24v24H0V0z\" fill=\"none\"/>\n",
              "    <path d=\"M18.56 5.44l.94 2.06.94-2.06 2.06-.94-2.06-.94-.94-2.06-.94 2.06-2.06.94zm-11 1L8.5 8.5l.94-2.06 2.06-.94-2.06-.94L8.5 2.5l-.94 2.06-2.06.94zm10 10l.94 2.06.94-2.06 2.06-.94-2.06-.94-.94-2.06-.94 2.06-2.06.94z\"/><path d=\"M17.41 7.96l-1.37-1.37c-.4-.4-.92-.59-1.43-.59-.52 0-1.04.2-1.43.59L10.3 9.45l-7.72 7.72c-.78.78-.78 2.05 0 2.83L4 21.41c.39.39.9.59 1.41.59.51 0 1.02-.2 1.41-.59l7.78-7.78 2.81-2.81c.8-.78.8-2.07 0-2.86zM5.41 20L4 18.59l7.72-7.72 1.47 1.35L5.41 20z\"/>\n",
              "  </svg>\n",
              "      </button>\n",
              "      \n",
              "  <style>\n",
              "    .colab-df-container {\n",
              "      display:flex;\n",
              "      flex-wrap:wrap;\n",
              "      gap: 12px;\n",
              "    }\n",
              "\n",
              "    .colab-df-convert {\n",
              "      background-color: #E8F0FE;\n",
              "      border: none;\n",
              "      border-radius: 50%;\n",
              "      cursor: pointer;\n",
              "      display: none;\n",
              "      fill: #1967D2;\n",
              "      height: 32px;\n",
              "      padding: 0 0 0 0;\n",
              "      width: 32px;\n",
              "    }\n",
              "\n",
              "    .colab-df-convert:hover {\n",
              "      background-color: #E2EBFA;\n",
              "      box-shadow: 0px 1px 2px rgba(60, 64, 67, 0.3), 0px 1px 3px 1px rgba(60, 64, 67, 0.15);\n",
              "      fill: #174EA6;\n",
              "    }\n",
              "\n",
              "    [theme=dark] .colab-df-convert {\n",
              "      background-color: #3B4455;\n",
              "      fill: #D2E3FC;\n",
              "    }\n",
              "\n",
              "    [theme=dark] .colab-df-convert:hover {\n",
              "      background-color: #434B5C;\n",
              "      box-shadow: 0px 1px 3px 1px rgba(0, 0, 0, 0.15);\n",
              "      filter: drop-shadow(0px 1px 2px rgba(0, 0, 0, 0.3));\n",
              "      fill: #FFFFFF;\n",
              "    }\n",
              "  </style>\n",
              "\n",
              "      <script>\n",
              "        const buttonEl =\n",
              "          document.querySelector('#df-61ce3a93-c33e-4d29-ba1a-07259afac3d9 button.colab-df-convert');\n",
              "        buttonEl.style.display =\n",
              "          google.colab.kernel.accessAllowed ? 'block' : 'none';\n",
              "\n",
              "        async function convertToInteractive(key) {\n",
              "          const element = document.querySelector('#df-61ce3a93-c33e-4d29-ba1a-07259afac3d9');\n",
              "          const dataTable =\n",
              "            await google.colab.kernel.invokeFunction('convertToInteractive',\n",
              "                                                     [key], {});\n",
              "          if (!dataTable) return;\n",
              "\n",
              "          const docLinkHtml = 'Like what you see? Visit the ' +\n",
              "            '<a target=\"_blank\" href=https://colab.research.google.com/notebooks/data_table.ipynb>data table notebook</a>'\n",
              "            + ' to learn more about interactive tables.';\n",
              "          element.innerHTML = '';\n",
              "          dataTable['output_type'] = 'display_data';\n",
              "          await google.colab.output.renderOutput(dataTable, element);\n",
              "          const docLink = document.createElement('div');\n",
              "          docLink.innerHTML = docLinkHtml;\n",
              "          element.appendChild(docLink);\n",
              "        }\n",
              "      </script>\n",
              "    </div>\n",
              "  </div>\n",
              "  "
            ]
          },
          "metadata": {},
          "execution_count": 16
        }
      ]
    },
    {
      "cell_type": "code",
      "source": [
        "y.mean()"
      ],
      "metadata": {
        "colab": {
          "base_uri": "https://localhost:8080/"
        },
        "id": "ilZykdeH8tCr",
        "outputId": "8c48d602-8e55-4ace-face-ae1fa0867126"
      },
      "execution_count": 17,
      "outputs": [
        {
          "output_type": "execute_result",
          "data": {
            "text/plain": [
              "Life_expectancy    65.52093\n",
              "dtype: float64"
            ]
          },
          "metadata": {},
          "execution_count": 17
        }
      ]
    },
    {
      "cell_type": "code",
      "source": [
        "from sklearn.model_selection import train_test_split\n",
        "X_train, X_test, y_train, y_test = train_test_split(X,y,test_size = 0.2, random_state = 32)"
      ],
      "metadata": {
        "id": "1KMi2tY-8wsQ"
      },
      "execution_count": 18,
      "outputs": []
    },
    {
      "cell_type": "code",
      "source": [
        "type(X_train)"
      ],
      "metadata": {
        "colab": {
          "base_uri": "https://localhost:8080/"
        },
        "id": "gHQqlvP49Uhk",
        "outputId": "82cb98aa-37e6-434e-ac87-27160f83e28a"
      },
      "execution_count": 19,
      "outputs": [
        {
          "output_type": "execute_result",
          "data": {
            "text/plain": [
              "pandas.core.frame.DataFrame"
            ]
          },
          "metadata": {},
          "execution_count": 19
        }
      ]
    },
    {
      "cell_type": "code",
      "source": [
        "X_train.GDP.mean()"
      ],
      "metadata": {
        "colab": {
          "base_uri": "https://localhost:8080/"
        },
        "id": "NHR0wZRB-EZ2",
        "outputId": "c1903378-f2fc-42cb-e764-220c69910eb2"
      },
      "execution_count": 20,
      "outputs": [
        {
          "output_type": "execute_result",
          "data": {
            "text/plain": [
              "11047.129483008473"
            ]
          },
          "metadata": {},
          "execution_count": 20
        }
      ]
    },
    {
      "cell_type": "code",
      "source": [
        "X_test.GDP.mean()"
      ],
      "metadata": {
        "colab": {
          "base_uri": "https://localhost:8080/"
        },
        "id": "ad3flKh0-K0P",
        "outputId": "3a4303db-89b8-4a87-9cdb-a56f9c318e0b"
      },
      "execution_count": 21,
      "outputs": [
        {
          "output_type": "execute_result",
          "data": {
            "text/plain": [
              "8265.37822613871"
            ]
          },
          "metadata": {},
          "execution_count": 21
        }
      ]
    },
    {
      "cell_type": "code",
      "source": [
        "X_train.hist(bins=50,figsize=(15,15))"
      ],
      "metadata": {
        "colab": {
          "base_uri": "https://localhost:8080/",
          "height": 1000
        },
        "id": "YCJKMyP--R47",
        "outputId": "1ee9a423-c3bb-48bb-c2c9-26dc875a637b"
      },
      "execution_count": 23,
      "outputs": [
        {
          "output_type": "execute_result",
          "data": {
            "text/plain": [
              "array([[<matplotlib.axes._subplots.AxesSubplot object at 0x7f87a4fa55d0>,\n",
              "        <matplotlib.axes._subplots.AxesSubplot object at 0x7f87a5003450>,\n",
              "        <matplotlib.axes._subplots.AxesSubplot object at 0x7f87a4f35350>,\n",
              "        <matplotlib.axes._subplots.AxesSubplot object at 0x7f87a4a6efd0>],\n",
              "       [<matplotlib.axes._subplots.AxesSubplot object at 0x7f87a4a31650>,\n",
              "        <matplotlib.axes._subplots.AxesSubplot object at 0x7f87a49e7c50>,\n",
              "        <matplotlib.axes._subplots.AxesSubplot object at 0x7f87a49aa310>,\n",
              "        <matplotlib.axes._subplots.AxesSubplot object at 0x7f87a4961850>],\n",
              "       [<matplotlib.axes._subplots.AxesSubplot object at 0x7f87a4961890>,\n",
              "        <matplotlib.axes._subplots.AxesSubplot object at 0x7f87a4917f90>,\n",
              "        <matplotlib.axes._subplots.AxesSubplot object at 0x7f87a4892ad0>,\n",
              "        <matplotlib.axes._subplots.AxesSubplot object at 0x7f87a4856110>],\n",
              "       [<matplotlib.axes._subplots.AxesSubplot object at 0x7f87a488c710>,\n",
              "        <matplotlib.axes._subplots.AxesSubplot object at 0x7f87a4843d10>,\n",
              "        <matplotlib.axes._subplots.AxesSubplot object at 0x7f87a4807350>,\n",
              "        <matplotlib.axes._subplots.AxesSubplot object at 0x7f87a47bd950>]],\n",
              "      dtype=object)"
            ]
          },
          "metadata": {},
          "execution_count": 23
        },
        {
          "output_type": "display_data",
          "data": {
            "text/plain": [
              "<Figure size 1080x1080 with 16 Axes>"
            ],
            "image/png": "[encoded data removed]"
          },
          "metadata": {
            "needs_background": "light"
          }
        }
      ]
    },
    {
      "cell_type": "code",
      "source": [
        "sns.set_theme(style = \"whitegrid\")"
      ],
      "metadata": {
        "id": "xXm_5DRN_3nw"
      },
      "execution_count": 24,
      "outputs": []
    },
    {
      "cell_type": "code",
      "source": [
        "ax = sns.violinplot(x=X_train[\"Diphtheria\"])"
      ],
      "metadata": {
        "colab": {
          "base_uri": "https://localhost:8080/",
          "height": 285
        },
        "id": "y7s3n2KA_-pw",
        "outputId": "998cb68b-6ef5-4aa4-d09c-eadc22a22209"
      },
      "execution_count": 25,
      "outputs": [
        {
          "output_type": "display_data",
          "data": {
            "text/plain": [
              "<Figure size 432x288 with 1 Axes>"
            ],
            "image/png": "[encoded data removed]"
          },
          "metadata": {}
        }
      ]
    },
    {
      "cell_type": "code",
      "source": [
        "ax = sns.boxplot(x=X_train[\"Alcohol\"])"
      ],
      "metadata": {
        "colab": {
          "base_uri": "https://localhost:8080/",
          "height": 285
        },
        "id": "Xs0qN9p0Abha",
        "outputId": "e5a00d14-161c-43f9-e5a1-0995e51abb7a"
      },
      "execution_count": 30,
      "outputs": [
        {
          "output_type": "display_data",
          "data": {
            "text/plain": [
              "<Figure size 432x288 with 1 Axes>"
            ],
            "image/png": "[encoded data removed]"
          },
          "metadata": {}
        }
      ]
    },
    {
      "cell_type": "code",
      "source": [],
      "metadata": {
        "id": "4TvU8y4_BQsw"
      },
      "execution_count": null,
      "outputs": []
    }
  ]
}