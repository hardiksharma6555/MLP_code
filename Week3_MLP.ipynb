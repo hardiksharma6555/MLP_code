{
  "nbformat": 4,
  "nbformat_minor": 0,
  "metadata": {
    "colab": {
      "provenance": [],
      "collapsed_sections": [],
      "authorship_tag": "ABX9TyNb1LQqo/TIlVFlVsWOe1ry",
      "include_colab_link": true
    },
    "kernelspec": {
      "name": "python3",
      "display_name": "Python 3"
    },
    "language_info": {
      "name": "python"
    }
  },
  "cells": [
    {
      "cell_type": "markdown",
      "metadata": {
        "id": "view-in-github",
        "colab_type": "text"
      },
      "source": [
        "<a href=\"https://colab.research.google.com/github/hardiksharma6555/MLP_code/blob/main/Week3_MLP.ipynb\" target=\"_parent\"><img src=\"https://colab.research.google.com/assets/colab-badge.svg\" alt=\"Open In Colab\"/></a>"
      ]
    },
    {
      "cell_type": "code",
      "execution_count": 3,
      "metadata": {
        "id": "QDr424usQFAS"
      },
      "outputs": [],
      "source": [
        "import numpy as np\n",
        "import pandas as pd\n",
        "import matplotlib.pyplot as plt\n",
        "import seaborn as sns\n",
        "\n",
        "from sklearn.datasets import fetch_california_housing\n",
        "from sklearn.linear_model import LinearRegression\n",
        "from sklearn.model_selection import cross_validate\n",
        "from sklearn.model_selection import cross_val_score\n",
        "from sklearn.model_selection import learning_curve\n",
        "from sklearn.model_selection import ShuffleSplit\n",
        "from sklearn.model_selection import permutation_test_score\n",
        "\n",
        "from sklearn.metrics import mean_squared_error\n",
        "from sklearn.metrics import mean_absolute_error\n",
        "from sklearn.metrics import mean_squared_error\n",
        "from sklearn.metrics import mean_absolute_percentage_error\n",
        "from sklearn.metrics import explained_variance_score\n",
        "from sklearn.metrics import max_error\n",
        "\n",
        "from sklearn.pipeline import Pipeline\n",
        "from sklearn.preprocessing import StandardScaler\n",
        "\n",
        "from sklearn.dummy import DummyRegressor"
      ]
    },
    {
      "cell_type": "code",
      "source": [
        "np.random.seed(42)\n",
        "plt.style.use('seaborn')"
      ],
      "metadata": {
        "id": "EnjyrQCjQgWc"
      },
      "execution_count": 4,
      "outputs": []
    },
    {
      "cell_type": "code",
      "source": [
        "shuffle_split_cv = ShuffleSplit(n_splits=10, test_size=0.2, random_state=0)"
      ],
      "metadata": {
        "id": "91AReysIQkNE"
      },
      "execution_count": 5,
      "outputs": []
    },
    {
      "cell_type": "code",
      "source": [
        "features, labels = fetch_california_housing(as_frame=True, return_X_y=True)"
      ],
      "metadata": {
        "id": "RVcctwGcQm7d"
      },
      "execution_count": 6,
      "outputs": []
    },
    {
      "cell_type": "code",
      "source": [
        "print('Shape of feature matrix : ', features.shape)\n",
        "print('Shape of labels matrix : ', labels.shape)"
      ],
      "metadata": {
        "colab": {
          "base_uri": "https://localhost:8080/"
        },
        "id": "6xpJxOxk8T3x",
        "outputId": "95ee3326-d6a5-49b1-980c-f7b6e3d246d4"
      },
      "execution_count": 7,
      "outputs": [
        {
          "output_type": "stream",
          "name": "stdout",
          "text": [
            "Shape of feature matrix :  (20640, 8)\n",
            "Shape of labels matrix :  (20640,)\n"
          ]
        }
      ]
    },
    {
      "cell_type": "code",
      "source": [
        "assert (features.shape[0]==labels.shape[0])"
      ],
      "metadata": {
        "id": "8ImIXRaG8WaH"
      },
      "execution_count": 8,
      "outputs": []
    },
    {
      "cell_type": "code",
      "source": [
        "from sklearn.model_selection import train_test_split\n",
        "\n",
        "train_features, test_features, train_labels, test_labels = train_test_split(\n",
        "    features, labels, random_state=42)\n",
        "\n",
        "train_features.info()"
      ],
      "metadata": {
        "colab": {
          "base_uri": "https://localhost:8080/"
        },
        "id": "K2vm2wS88Yq4",
        "outputId": "191a06b2-7d4e-451b-a0fb-cac93e789ee0"
      },
      "execution_count": 9,
      "outputs": [
        {
          "output_type": "stream",
          "name": "stdout",
          "text": [
            "<class 'pandas.core.frame.DataFrame'>\n",
            "Int64Index: 15480 entries, 8158 to 15795\n",
            "Data columns (total 8 columns):\n",
            " #   Column      Non-Null Count  Dtype  \n",
            "---  ------      --------------  -----  \n",
            " 0   MedInc      15480 non-null  float64\n",
            " 1   HouseAge    15480 non-null  float64\n",
            " 2   AveRooms    15480 non-null  float64\n",
            " 3   AveBedrms   15480 non-null  float64\n",
            " 4   Population  15480 non-null  float64\n",
            " 5   AveOccup    15480 non-null  float64\n",
            " 6   Latitude    15480 non-null  float64\n",
            " 7   Longitude   15480 non-null  float64\n",
            "dtypes: float64(8)\n",
            "memory usage: 1.1 MB\n"
          ]
        }
      ]
    },
    {
      "cell_type": "code",
      "source": [
        "print('Number of training samples : ', train_features.shape[0])\n",
        "print('Number of test samples : ', test_features.shape[0])"
      ],
      "metadata": {
        "colab": {
          "base_uri": "https://localhost:8080/"
        },
        "id": "wL8ynBIC8bPl",
        "outputId": "273dd176-ef8f-4fe6-d4f7-44641cf72b13"
      },
      "execution_count": 10,
      "outputs": [
        {
          "output_type": "stream",
          "name": "stdout",
          "text": [
            "Number of training samples :  15480\n",
            "Number of test samples :  5160\n"
          ]
        }
      ]
    },
    {
      "cell_type": "code",
      "source": [
        "assert (train_features.shape[0] == train_labels.shape[0])\n",
        "assert (test_features.shape[0] == test_labels.shape[0])"
      ],
      "metadata": {
        "id": "SF6TV3KG8etD"
      },
      "execution_count": 11,
      "outputs": []
    },
    {
      "cell_type": "code",
      "source": [
        "lin_reg_pipeline = Pipeline([\n",
        "    ('feature_scaling', StandardScaler()),\n",
        "    ('lin_reg', LinearRegression())\n",
        "])\n",
        "\n",
        "lin_reg_pipeline.fit(train_features, train_labels)"
      ],
      "metadata": {
        "colab": {
          "base_uri": "https://localhost:8080/"
        },
        "id": "6SCjwYZX8hEM",
        "outputId": "1e3ee44a-b3d8-4479-ce4f-8a39af0206da"
      },
      "execution_count": 12,
      "outputs": [
        {
          "output_type": "execute_result",
          "data": {
            "text/plain": [
              "Pipeline(steps=[('feature_scaling', StandardScaler()),\n",
              "                ('lin_reg', LinearRegression())])"
            ]
          },
          "metadata": {},
          "execution_count": 12
        }
      ]
    },
    {
      "cell_type": "code",
      "source": [
        "print('Intercept (w_0) : ',lin_reg_pipeline[-1].intercept_)\n",
        "print()\n",
        "print('Weight vector (w_1,w_2....,w_m) : \\n' ,lin_reg_pipeline[-1].coef_)"
      ],
      "metadata": {
        "colab": {
          "base_uri": "https://localhost:8080/"
        },
        "id": "SRI2CIW4FIWz",
        "outputId": "5149ab94-81ac-46ea-a295-20a7365b358f"
      },
      "execution_count": 13,
      "outputs": [
        {
          "output_type": "stream",
          "name": "stdout",
          "text": [
            "Intercept (w_0) :  2.0703489205426377\n",
            "\n",
            "Weight vector (w_1,w_2....,w_m) : \n",
            " [ 0.85210815  0.12065533 -0.30210555  0.34860575 -0.00164465 -0.04116356\n",
            " -0.89314697 -0.86784046]\n"
          ]
        }
      ]
    },
    {
      "cell_type": "code",
      "source": [
        "train_score = lin_reg_pipeline.score(train_features, train_labels)\n",
        "print('Model performance on train set :', train_score)\n",
        "\n",
        "test_score = lin_reg_pipeline.score(test_features, test_labels)\n",
        "print('Model performance on test set :', test_score)"
      ],
      "metadata": {
        "colab": {
          "base_uri": "https://localhost:8080/"
        },
        "id": "bhAfKti3FVFM",
        "outputId": "edcaa1fd-0abe-4cbd-ecbf-cab34274bd16"
      },
      "execution_count": 14,
      "outputs": [
        {
          "output_type": "stream",
          "name": "stdout",
          "text": [
            "Model performance on train set : 0.609873031052925\n",
            "Model performance on test set : 0.5910509795491352\n"
          ]
        }
      ]
    },
    {
      "cell_type": "code",
      "source": [
        "lin_reg_score = cross_val_score(lin_reg_pipeline, train_features, train_labels,scoring='neg_mean_squared_error' , cv=shuffle_split_cv)\n",
        "\n",
        "print('Model performance on cross validation set : \\n', lin_reg_score)"
      ],
      "metadata": {
        "colab": {
          "base_uri": "https://localhost:8080/"
        },
        "id": "6lLgXTAAFV1V",
        "outputId": "d8575191-1fdb-4226-d9d3-c32617f2b8f7"
      },
      "execution_count": 15,
      "outputs": [
        {
          "output_type": "stream",
          "name": "stdout",
          "text": [
            "Model performance on cross validation set : \n",
            " [-0.50009976 -0.52183352 -0.55931218 -0.52110499 -0.56059203 -0.50510767\n",
            " -0.52386194 -0.54775518 -0.5007161  -0.54713448]\n"
          ]
        }
      ]
    },
    {
      "cell_type": "code",
      "source": [
        "print(\n",
        "    f'Score of linear regression model on the test set : \\n'f\"{lin_reg_score.mean():.3f} +/- {lin_reg_score.std():.3f}\")"
      ],
      "metadata": {
        "id": "2HOKjYTzFYc6",
        "outputId": "87849149-a96e-48fd-fa5a-d5d66dc92782",
        "colab": {
          "base_uri": "https://localhost:8080/"
        }
      },
      "execution_count": 16,
      "outputs": [
        {
          "output_type": "stream",
          "name": "stdout",
          "text": [
            "Score of linear regression model on the test set : \n",
            "-0.529 +/- 0.022\n"
          ]
        }
      ]
    },
    {
      "cell_type": "code",
      "source": [
        "lin_reg_mse = - lin_reg_score\n",
        "\n",
        "print(\n",
        "    f'MSE of linear regression model on the test set :\\n' f'{lin_reg_mse.mean():.3f} +/- {lin_reg_mse.std():.3f}')"
      ],
      "metadata": {
        "id": "7QhAFl80FcPR",
        "colab": {
          "base_uri": "https://localhost:8080/"
        },
        "outputId": "0aec7245-5572-4ee6-9afa-92c7fa30d54e"
      },
      "execution_count": 17,
      "outputs": [
        {
          "output_type": "stream",
          "name": "stdout",
          "text": [
            "MSE of linear regression model on the test set :\n",
            "0.529 +/- 0.022\n"
          ]
        }
      ]
    },
    {
      "cell_type": "markdown",
      "source": [
        "#SGD REGRESSOR"
      ],
      "metadata": {
        "id": "RxNoD6XsqCos"
      }
    },
    {
      "cell_type": "code",
      "source": [
        "import numpy as np\n",
        "import pandas as pd\n",
        "import matplotlib.pyplot as plt\n",
        "import seaborn as sns\n",
        "\n",
        "from sklearn.datasets import fetch_california_housing\n",
        "from sklearn.linear_model import LinearRegression\n",
        "from sklearn.linear_model import SGDRegressor\n",
        "\n",
        "from sklearn.model_selection import train_test_split\n",
        "from sklearn.model_selection import cross_validate\n",
        "from sklearn.model_selection import cross_val_score\n",
        "from sklearn.model_selection import learning_curve\n",
        "from sklearn.model_selection import validation_curve\n",
        "from sklearn.model_selection import ShuffleSplit\n",
        "from sklearn.model_selection import permutation_test_score\n",
        "\n",
        "from sklearn.metrics import mean_squared_error\n",
        "from sklearn.metrics import mean_absolute_error\n",
        "from sklearn.metrics import mean_squared_error\n",
        "from sklearn.metrics import mean_absolute_percentage_error\n",
        "from sklearn.metrics import explained_variance_score\n",
        "from sklearn.metrics import max_error\n",
        "\n",
        "from sklearn.pipeline import Pipeline\n",
        "from sklearn.preprocessing import StandardScaler\n",
        "\n",
        "from sklearn.dummy import DummyRegressor"
      ],
      "metadata": {
        "id": "jNtI3HPWnevI"
      },
      "execution_count": 18,
      "outputs": []
    },
    {
      "cell_type": "code",
      "source": [
        "np.random.seed(306)\n",
        "plt.style.use('seaborn')"
      ],
      "metadata": {
        "id": "ph4pXMO8qLH9"
      },
      "execution_count": 19,
      "outputs": []
    },
    {
      "cell_type": "code",
      "source": [
        "shuffle_split_cv = ShuffleSplit(n_splits=10, test_size=0.2, random_state=0)"
      ],
      "metadata": {
        "id": "p-qTTzO7qM2y"
      },
      "execution_count": 20,
      "outputs": []
    },
    {
      "cell_type": "code",
      "source": [
        "features ,labels = fetch_california_housing(as_frame=True, return_X_y=True)\n"
      ],
      "metadata": {
        "id": "Vv0KuWKjqPdM"
      },
      "execution_count": 21,
      "outputs": []
    },
    {
      "cell_type": "code",
      "source": [
        "com_train_features, test_features, com_train_labels, test_labels = train_test_split(features, labels, random_state=42)\n"
      ],
      "metadata": {
        "id": "T1FlNhqBqTIr"
      },
      "execution_count": 22,
      "outputs": []
    },
    {
      "cell_type": "code",
      "source": [
        "train_features ,dev_features, train_labels, dev_labels = train_test_split(\n",
        "    com_train_features, com_train_labels, random_state=42)"
      ],
      "metadata": {
        "id": "QoV9W9oPqV_U"
      },
      "execution_count": 23,
      "outputs": []
    },
    {
      "cell_type": "code",
      "source": [
        "sgd = SGDRegressor(random_state=42)\n",
        "sgd.fit(train_features, train_labels) \n",
        "\n",
        "train_mae = mean_absolute_error(train_labels, sgd.predict(train_features)) \n",
        "dev_mae = mean_absolute_error(dev_labels, sgd.predict(dev_features)) \n",
        "\n",
        "print('Train MAE: ', train_mae)\n",
        "print('Dev MAE: ', dev_mae)"
      ],
      "metadata": {
        "colab": {
          "base_uri": "https://localhost:8080/"
        },
        "id": "M1WNCQgMqYyf",
        "outputId": "8273160b-c9b3-4eb7-a35b-273a1dedbadb"
      },
      "execution_count": 24,
      "outputs": [
        {
          "output_type": "stream",
          "name": "stdout",
          "text": [
            "Train MAE:  312995824045833.75\n",
            "Dev MAE:  315394681503071.94\n"
          ]
        }
      ]
    },
    {
      "cell_type": "code",
      "source": [
        "sgd_pipeline = Pipeline([\n",
        "    ('scaler' , StandardScaler()),\n",
        "    ('sgd' , SGDRegressor())\n",
        "])\n",
        "\n",
        "sgd_pipeline.fit(train_features, train_labels) \n",
        "\n",
        "train_mae = mean_absolute_error(train_labels, sgd.predict(train_features))\n",
        "dev_mae = mean_absolute_error(dev_labels, sgd.predict(dev_features))\n",
        "\n",
        "print('Train MAE: ', train_mae)\n",
        "print('Dev MAE: ', dev_mae)"
      ],
      "metadata": {
        "colab": {
          "base_uri": "https://localhost:8080/"
        },
        "id": "ZlkZyJzfqbkC",
        "outputId": "0598108e-9f6b-4d3c-84cf-68bc416e5c16"
      },
      "execution_count": 25,
      "outputs": [
        {
          "output_type": "stream",
          "name": "stdout",
          "text": [
            "Train MAE:  312995824045833.75\n",
            "Dev MAE:  315394681503071.94\n"
          ]
        }
      ]
    },
    {
      "cell_type": "code",
      "source": [
        "eta0 = 1e-2 \n",
        "sgd_pipeline = Pipeline([\n",
        "                        ('scaler', StandardScaler()),\n",
        "                        ('sgd',SGDRegressor(max_iter=1, tol = -np.infty, warm_start=True, random_state=42))\n",
        "])\n",
        "\n",
        "loss = [] \n",
        "\n",
        "for epoch in range(100):\n",
        "    sgd_pipeline.fit(train_features, train_labels) #continues where it left off \n",
        "    loss.append(mean_squared_error(train_labels, sgd_pipeline.predict(train_features))) \n",
        "\n",
        "plt.plot(np.arange(len(loss)), loss, 'g-')\n",
        "\n",
        "plt.xlabel('Number of iterations ')\n",
        "plt.ylabel('MSE')\n",
        "plt.title(f'Learning curve: eta0={eta0:.3f}')\n",
        "plt.show()\n"
      ],
      "metadata": {
        "colab": {
          "base_uri": "https://localhost:8080/",
          "height": 376
        },
        "id": "cUobSvRWqeUC",
        "outputId": "968c3b5e-d3a8-4957-ea51-54c2cb542839"
      },
      "execution_count": 26,
      "outputs": [
        {
          "output_type": "display_data",
          "data": {
            "text/plain": [
              "<Figure size 576x396 with 1 Axes>"
            ],
            "image/png": "[encoded data removed]"
          },
          "metadata": {}
        }
      ]
    },
    {
      "cell_type": "code",
      "source": [
        "eta0 = 1e-3\n",
        "sgd_pipeline = Pipeline([\n",
        "                        ('feature_scaling', StandardScaler()),\n",
        "                        ('sgd',SGDRegressor(max_iter=1, tol = -np.infty, warm_start=True, eta0=eta0,random_state=42))\n",
        "])\n",
        "\n",
        "loss = [] \n",
        "\n",
        "for epoch in range(100):\n",
        "    sgd_pipeline.fit(train_features, train_labels) \n",
        "    loss.append(mean_squared_error(train_labels, sgd_pipeline.predict(train_features))) \n",
        "\n",
        "plt.plot(np.arange(len(loss)), loss, 'g-')\n",
        "\n",
        "plt.xlabel('Number of iterations ')\n",
        "plt.ylabel('MSE')\n",
        "plt.title(f'Learning curve: eta0={eta0:.3f}')\n",
        "plt.show()"
      ],
      "metadata": {
        "colab": {
          "base_uri": "https://localhost:8080/",
          "height": 376
        },
        "id": "sJ0QPGo2qhP2",
        "outputId": "896527d4-410c-4566-b2ff-eaa7bb50856f"
      },
      "execution_count": 27,
      "outputs": [
        {
          "output_type": "display_data",
          "data": {
            "text/plain": [
              "<Figure size 576x396 with 1 Axes>"
            ],
            "image/png": "[encoded data removed]"
          },
          "metadata": {}
        }
      ]
    },
    {
      "cell_type": "code",
      "source": [
        "print(\"Number of iteration before reaching convergence criteria :\",sgd_pipeline[-1].n_iter_)\n",
        "\n",
        "print(\"Number of weight updates : \", sgd_pipeline[-1].t_)"
      ],
      "metadata": {
        "colab": {
          "base_uri": "https://localhost:8080/"
        },
        "id": "sukf2c3gqlHG",
        "outputId": "9e2d73da-208d-4346-f1e6-f6dac3702eec"
      },
      "execution_count": 28,
      "outputs": [
        {
          "output_type": "stream",
          "name": "stdout",
          "text": [
            "Number of iteration before reaching convergence criteria : 1\n",
            "Number of weight updates :  11611.0\n"
          ]
        }
      ]
    },
    {
      "cell_type": "code",
      "source": [
        "%%time\n",
        "eta0 = [1e-5, 1e-4, 1e-3, 1e-2]\n",
        "\n",
        "train_scores, test_scores = validation_curve(\n",
        "    sgd_pipeline, com_train_features, com_train_labels, param_name=\"sgd__eta0\", param_range=eta0, cv=shuffle_split_cv, scoring='neg_mean_squared_error', n_jobs=2\n",
        ")"
      ],
      "metadata": {
        "colab": {
          "base_uri": "https://localhost:8080/"
        },
        "id": "XzDzts5vGdmS",
        "outputId": "e6cdee0a-7d32-4c13-8fe7-af866eb25609"
      },
      "execution_count": 29,
      "outputs": [
        {
          "output_type": "stream",
          "name": "stdout",
          "text": [
            "CPU times: user 363 ms, sys: 84.3 ms, total: 447 ms\n",
            "Wall time: 4.49 s\n"
          ]
        }
      ]
    },
    {
      "cell_type": "code",
      "source": [
        "train_errors, test_errors = -train_scores, -test_scores\n",
        "\n",
        "plt.plot(eta0, train_errors.mean(axis=1),'g-x',label='Training error')\n",
        "plt.plot(eta0, test_errors.mean(axis=1),'r--x', label='Test error')\n",
        "\n",
        "plt.legend() \n",
        "plt.xlabel('eta0')\n",
        "plt.ylabel('Mean absolute error')\n",
        "plt.title('Validation curve for SGD')\n",
        "plt.show()"
      ],
      "metadata": {
        "colab": {
          "base_uri": "https://localhost:8080/",
          "height": 376
        },
        "id": "wYP1sO_xGePI",
        "outputId": "0a5b633d-d03f-436f-f40e-551ecacae1ea"
      },
      "execution_count": 30,
      "outputs": [
        {
          "output_type": "display_data",
          "data": {
            "text/plain": [
              "<Figure size 576x396 with 1 Axes>"
            ],
            "image/png": "[encoded data removed]"
          },
          "metadata": {}
        }
      ]
    },
    {
      "cell_type": "code",
      "source": [
        "plt.errorbar(eta0, train_errors.mean(axis=1), yerr=train_errors.std(axis=1), label='Training error')\n",
        "\n",
        "plt.errorbar(eta0, test_errors.mean(axis=1),yerr=test_errors.std(axis=1), label='Testing error')\n",
        "\n",
        "plt.legend(loc='best') \n",
        "plt.xlabel('eta0')\n",
        "plt.ylabel('Mean absolute error')\n",
        "plt.title('Validation curve for SGD')\n",
        "plt.show()"
      ],
      "metadata": {
        "colab": {
          "base_uri": "https://localhost:8080/",
          "height": 376
        },
        "id": "P5nlx7J9GqDu",
        "outputId": "2628a1bd-1bca-4507-e0ad-41d329d5863c"
      },
      "execution_count": 31,
      "outputs": [
        {
          "output_type": "display_data",
          "data": {
            "text/plain": [
              "<Figure size 576x396 with 1 Axes>"
            ],
            "image/png": "[encoded data removed]"
          },
          "metadata": {}
        }
      ]
    },
    {
      "cell_type": "code",
      "source": [
        "sgd_pipeline = Pipeline([\n",
        "    (\"scaler\", StandardScaler()),\n",
        "    (\"sgd\", SGDRegressor(max_iter=500,\n",
        "                        early_stopping=True,\n",
        "                        eta0=1e-3,\n",
        "                        tol=1e-3,\n",
        "                        validation_fraction=0.2,\n",
        "                        n_iter_no_change=5,\n",
        "                        average=10,\n",
        "                        random_state=42))\n",
        "])\n",
        "\n",
        "sgd_pipeline.fit(train_features, train_labels)\n",
        "\n",
        "train_mae = mean_absolute_error(train_labels, sgd_pipeline.predict(train_features))\n",
        "\n",
        "dev_mae = mean_absolute_error(dev_labels, sgd_pipeline.predict(dev_features))\n",
        "\n",
        "print('Train MAE: ', train_mae)\n",
        "print('Dev MAE: ', dev_mae)\n",
        "print()\n",
        "\n",
        "# development set dev set\n",
        "print('Number of SGD iterations :', sgd_pipeline[-1].n_iter_)\n",
        "print('Number of weight updates : ', sgd_pipeline[-1].t_)"
      ],
      "metadata": {
        "colab": {
          "base_uri": "https://localhost:8080/"
        },
        "id": "sgFxuT8gGq7z",
        "outputId": "0f8df08b-f5ae-4e2c-a3ca-b7bb8e1e5723"
      },
      "execution_count": 32,
      "outputs": [
        {
          "output_type": "stream",
          "name": "stdout",
          "text": [
            "Train MAE:  0.579376454514559\n",
            "Dev MAE:  0.5689180241137523\n",
            "\n",
            "Number of SGD iterations : 7\n",
            "Number of weight updates :  81271.0\n"
          ]
        }
      ]
    },
    {
      "cell_type": "code",
      "source": [
        "sgd_pipeline = Pipeline([\n",
        "    (\"scaler\", StandardScaler()),\n",
        "    (\"sgd\", SGDRegressor(max_iter=500,\n",
        "                         early_stopping=True,\n",
        "                         eta0=1e-3,\n",
        "                         tol=1e-3,\n",
        "                         learning_rate= 'constant',\n",
        "                         validation_fraction=0.2,\n",
        "                         n_iter_no_change=5,\n",
        "                         average=10,\n",
        "                         random_state=42))\n",
        "])\n",
        "\n",
        "sgd_pipeline.fit(train_features, train_labels)\n",
        "\n",
        "train_mae = mean_absolute_error(\n",
        "    train_labels, sgd_pipeline.predict(train_features))\n",
        "\n",
        "dev_mae = mean_absolute_error(dev_labels, sgd_pipeline.predict(dev_features))\n",
        "\n",
        "print('Train MAE: ', train_mae)\n",
        "print('Dev MAE: ', dev_mae)\n",
        "print()\n",
        "\n",
        "# development set dev set\n",
        "print('Number of SGD iterations :', sgd_pipeline[-1].n_iter_)\n",
        "print('Number of weight updates : ', sgd_pipeline[-1].t_)"
      ],
      "metadata": {
        "colab": {
          "base_uri": "https://localhost:8080/"
        },
        "id": "I3e1KjBZGxHn",
        "outputId": "e536e13e-10a6-4712-f245-6c0d01bba4c7"
      },
      "execution_count": 33,
      "outputs": [
        {
          "output_type": "stream",
          "name": "stdout",
          "text": [
            "Train MAE:  0.5359339681114987\n",
            "Dev MAE:  0.5151099728924144\n",
            "\n",
            "Number of SGD iterations : 8\n",
            "Number of weight updates :  92881.0\n"
          ]
        }
      ]
    },
    {
      "cell_type": "code",
      "source": [
        "sgd_pipeline = Pipeline([\n",
        "    (\"scaler\", StandardScaler()),\n",
        "    (\"sgd\", SGDRegressor(max_iter=500,\n",
        "                         early_stopping=True,\n",
        "                         eta0=1e-3,\n",
        "                         tol=1e-3,\n",
        "                         learning_rate='adaptive',\n",
        "                         validation_fraction=0.2,\n",
        "                         n_iter_no_change=5,\n",
        "                         average=10,\n",
        "                         random_state=42))\n",
        "])\n",
        "\n",
        "sgd_pipeline.fit(train_features, train_labels)\n",
        "\n",
        "train_mae = mean_absolute_error(\n",
        "    train_labels, sgd_pipeline.predict(train_features))\n",
        "\n",
        "dev_mae = mean_absolute_error(dev_labels, sgd_pipeline.predict(dev_features))\n",
        "\n",
        "print('Train MAE: ', train_mae)\n",
        "print('Dev MAE: ', dev_mae)\n",
        "print()\n",
        "\n",
        "# development set dev set\n",
        "print('Number of SGD iterations :', sgd_pipeline[-1].n_iter_)\n",
        "print('Number of weight updates : ', sgd_pipeline[-1].t_)"
      ],
      "metadata": {
        "colab": {
          "base_uri": "https://localhost:8080/"
        },
        "id": "tevuRX2nG2Lp",
        "outputId": "b0b9c274-3ec2-4245-f4eb-567ae2e41570"
      },
      "execution_count": 34,
      "outputs": [
        {
          "output_type": "stream",
          "name": "stdout",
          "text": [
            "Train MAE:  0.5340193046836148\n",
            "Dev MAE:  0.5198356196858102\n",
            "\n",
            "Number of SGD iterations : 33\n",
            "Number of weight updates :  383131.0\n"
          ]
        }
      ]
    }
  ]
}