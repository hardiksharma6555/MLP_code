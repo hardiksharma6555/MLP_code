{
  "nbformat": 4,
  "nbformat_minor": 0,
  "metadata": {
    "colab": {
      "provenance": [],
      "collapsed_sections": [],
      "authorship_tag": "ABX9TyNNSQvmFMwOVAFvW0Iwy2Bc",
      "include_colab_link": true
    },
    "kernelspec": {
      "name": "python3",
      "display_name": "Python 3"
    },
    "language_info": {
      "name": "python"
    }
  },
  "cells": [
    {
      "cell_type": "markdown",
      "metadata": {
        "id": "view-in-github",
        "colab_type": "text"
      },
      "source": [
        "<a href=\"https://colab.research.google.com/github/hardiksharma6555/MLP_code/blob/main/Week3_MLP.ipynb\" target=\"_parent\"><img src=\"https://colab.research.google.com/assets/colab-badge.svg\" alt=\"Open In Colab\"/></a>"
      ]
    },
    {
      "cell_type": "code",
      "execution_count": 2,
      "metadata": {
        "id": "QDr424usQFAS"
      },
      "outputs": [],
      "source": [
        "import numpy as np\n",
        "import pandas as pd\n",
        "import matplotlib.pyplot as plt\n",
        "import seaborn as sns\n",
        "\n",
        "from sklearn.datasets import fetch_california_housing\n",
        "from sklearn.linear_model import LinearRegression\n",
        "from sklearn.model_selection import cross_validate\n",
        "from sklearn.model_selection import cross_val_score\n",
        "from sklearn.model_selection import learning_curve\n",
        "from sklearn.model_selection import ShuffleSplit\n",
        "from sklearn.model_selection import permutation_test_score\n",
        "\n",
        "from sklearn.metrics import mean_squared_error\n",
        "from sklearn.metrics import mean_absolute_error\n",
        "from sklearn.metrics import mean_squared_error\n",
        "from sklearn.metrics import mean_absolute_percentage_error\n",
        "from sklearn.metrics import explained_variance_score\n",
        "from sklearn.metrics import max_error\n",
        "\n",
        "from sklearn.pipeline import Pipeline\n",
        "from sklearn.preprocessing import StandardScaler\n",
        "\n",
        "from sklearn.dummy import DummyRegressor"
      ]
    },
    {
      "cell_type": "code",
      "source": [
        "np.random.seed(42)\n",
        "plt.style.use('seaborn')"
      ],
      "metadata": {
        "id": "EnjyrQCjQgWc"
      },
      "execution_count": 3,
      "outputs": []
    },
    {
      "cell_type": "code",
      "source": [
        "shuffle_split_cv = ShuffleSplit(n_splits=10, test_size=0.2, random_state=0)"
      ],
      "metadata": {
        "id": "91AReysIQkNE"
      },
      "execution_count": 4,
      "outputs": []
    },
    {
      "cell_type": "code",
      "source": [
        "features, labels = fetch_california_housing(as_frame=True, return_X_y=True)"
      ],
      "metadata": {
        "id": "RVcctwGcQm7d"
      },
      "execution_count": 5,
      "outputs": []
    },
    {
      "cell_type": "code",
      "source": [
        "print('Shape of feature matrix : ', features.shape)\n",
        "print('Shape of labels matrix : ', labels.shape)"
      ],
      "metadata": {
        "colab": {
          "base_uri": "https://localhost:8080/"
        },
        "id": "6xpJxOxk8T3x",
        "outputId": "428754ac-d73f-450f-d083-77f01edae304"
      },
      "execution_count": 6,
      "outputs": [
        {
          "output_type": "stream",
          "name": "stdout",
          "text": [
            "Shape of feature matrix :  (20640, 8)\n",
            "Shape of labels matrix :  (20640,)\n"
          ]
        }
      ]
    },
    {
      "cell_type": "code",
      "source": [
        "assert (features.shape[0]==labels.shape[0])"
      ],
      "metadata": {
        "id": "8ImIXRaG8WaH"
      },
      "execution_count": 7,
      "outputs": []
    },
    {
      "cell_type": "code",
      "source": [
        "from sklearn.model_selection import train_test_split\n",
        "\n",
        "train_features, test_features, train_labels, test_labels = train_test_split(\n",
        "    features, labels, random_state=42)\n",
        "\n",
        "train_features.info()"
      ],
      "metadata": {
        "colab": {
          "base_uri": "https://localhost:8080/"
        },
        "id": "K2vm2wS88Yq4",
        "outputId": "c53fa014-78bb-4a7f-f8d7-1e7e9b96cdcb"
      },
      "execution_count": 8,
      "outputs": [
        {
          "output_type": "stream",
          "name": "stdout",
          "text": [
            "<class 'pandas.core.frame.DataFrame'>\n",
            "Int64Index: 15480 entries, 8158 to 15795\n",
            "Data columns (total 8 columns):\n",
            " #   Column      Non-Null Count  Dtype  \n",
            "---  ------      --------------  -----  \n",
            " 0   MedInc      15480 non-null  float64\n",
            " 1   HouseAge    15480 non-null  float64\n",
            " 2   AveRooms    15480 non-null  float64\n",
            " 3   AveBedrms   15480 non-null  float64\n",
            " 4   Population  15480 non-null  float64\n",
            " 5   AveOccup    15480 non-null  float64\n",
            " 6   Latitude    15480 non-null  float64\n",
            " 7   Longitude   15480 non-null  float64\n",
            "dtypes: float64(8)\n",
            "memory usage: 1.1 MB\n"
          ]
        }
      ]
    },
    {
      "cell_type": "code",
      "source": [
        "print('Number of training samples : ', train_features.shape[0])\n",
        "print('Number of test samples : ', test_features.shape[0])"
      ],
      "metadata": {
        "colab": {
          "base_uri": "https://localhost:8080/"
        },
        "id": "wL8ynBIC8bPl",
        "outputId": "0d27a88f-6712-4368-a4eb-b94de0ae6857"
      },
      "execution_count": 9,
      "outputs": [
        {
          "output_type": "stream",
          "name": "stdout",
          "text": [
            "Number of training samples :  15480\n",
            "Number of test samples :  5160\n"
          ]
        }
      ]
    },
    {
      "cell_type": "code",
      "source": [
        "assert (train_features.shape[0] == train_labels.shape[0])\n",
        "assert (test_features.shape[0] == test_labels.shape[0])"
      ],
      "metadata": {
        "id": "SF6TV3KG8etD"
      },
      "execution_count": 10,
      "outputs": []
    },
    {
      "cell_type": "code",
      "source": [
        "lin_reg_pipeline = Pipeline([\n",
        "    ('feature_scaling', StandardScaler()),\n",
        "    ('lin_reg', LinearRegression())\n",
        "])\n",
        "\n",
        "lin_reg_pipeline.fit(train_features, train_labels)"
      ],
      "metadata": {
        "colab": {
          "base_uri": "https://localhost:8080/"
        },
        "id": "6SCjwYZX8hEM",
        "outputId": "3447e89c-06a1-4669-8683-af08840ef98a"
      },
      "execution_count": 11,
      "outputs": [
        {
          "output_type": "execute_result",
          "data": {
            "text/plain": [
              "Pipeline(steps=[('feature_scaling', StandardScaler()),\n",
              "                ('lin_reg', LinearRegression())])"
            ]
          },
          "metadata": {},
          "execution_count": 11
        }
      ]
    },
    {
      "cell_type": "code",
      "source": [
        "print('Intercept (w_0) : ',lin_reg_pipeline[-1].intercept_)\n",
        "print()\n",
        "print('Weight vector (w_1,w_2....,w_m) : \\n' ,lin_reg_pipeline[-1].coef_)"
      ],
      "metadata": {
        "colab": {
          "base_uri": "https://localhost:8080/"
        },
        "id": "SRI2CIW4FIWz",
        "outputId": "4db041f6-1bd1-48e8-f12e-b3d45290492a"
      },
      "execution_count": 12,
      "outputs": [
        {
          "output_type": "stream",
          "name": "stdout",
          "text": [
            "Intercept (w_0) :  2.0703489205426377\n",
            "\n",
            "Weight vector (w_1,w_2....,w_m) : \n",
            " [ 0.85210815  0.12065533 -0.30210555  0.34860575 -0.00164465 -0.04116356\n",
            " -0.89314697 -0.86784046]\n"
          ]
        }
      ]
    },
    {
      "cell_type": "code",
      "source": [
        "train_score = lin_reg_pipeline.score(train_features, train_labels)\n",
        "print('Model performance on train set :', train_score)\n",
        "\n",
        "test_score = lin_reg_pipeline.score(test_features, test_labels)\n",
        "print('Model performance on test set :', test_score)"
      ],
      "metadata": {
        "colab": {
          "base_uri": "https://localhost:8080/"
        },
        "id": "bhAfKti3FVFM",
        "outputId": "8f20fd18-804a-4a6f-ffb4-eb87b41e49f7"
      },
      "execution_count": 13,
      "outputs": [
        {
          "output_type": "stream",
          "name": "stdout",
          "text": [
            "Model performance on train set : 0.609873031052925\n",
            "Model performance on test set : 0.5910509795491352\n"
          ]
        }
      ]
    },
    {
      "cell_type": "code",
      "source": [
        "lin_reg_score = cross_val_score(lin_reg_pipeline, train_features, train_labels,scoring='neg_mean_squared_error' , cv=shuffle_split_cv)\n",
        "\n",
        "print('Model performance on cross validation set : \\n', lin_reg_score)"
      ],
      "metadata": {
        "colab": {
          "base_uri": "https://localhost:8080/"
        },
        "id": "6lLgXTAAFV1V",
        "outputId": "e2d1f736-783d-4231-d959-b7bd238fcd1b"
      },
      "execution_count": 14,
      "outputs": [
        {
          "output_type": "stream",
          "name": "stdout",
          "text": [
            "Model performance on cross validation set : \n",
            " [-0.50009976 -0.52183352 -0.55931218 -0.52110499 -0.56059203 -0.50510767\n",
            " -0.52386194 -0.54775518 -0.5007161  -0.54713448]\n"
          ]
        }
      ]
    },
    {
      "cell_type": "code",
      "source": [
        "print(\n",
        "    f'Score of linear regression model on the test set : \\n'f\"{lin_reg_score.mean():.3f} +/- {lin_reg_score.std():.3f}\")"
      ],
      "metadata": {
        "colab": {
          "base_uri": "https://localhost:8080/"
        },
        "id": "2HOKjYTzFYc6",
        "outputId": "39e7b153-d16a-4f28-e4ef-8b44c8939148"
      },
      "execution_count": 15,
      "outputs": [
        {
          "output_type": "stream",
          "name": "stdout",
          "text": [
            "Score of linear regression model on the test set : \n",
            "-0.529 +/- 0.022\n"
          ]
        }
      ]
    },
    {
      "cell_type": "code",
      "source": [
        "lin_reg_mse = - lin_reg_score\n",
        "\n",
        "print(\n",
        "    f'MSE of linear regression model on the test set :\\n' f'{lin_reg_mse.mean():.3f} +/- {lin_reg_mse.std():.3f}')"
      ],
      "metadata": {
        "colab": {
          "base_uri": "https://localhost:8080/"
        },
        "id": "7QhAFl80FcPR",
        "outputId": "4a788546-e1ea-406f-bb4f-27ccdfbbf475"
      },
      "execution_count": 16,
      "outputs": [
        {
          "output_type": "stream",
          "name": "stdout",
          "text": [
            "MSE of linear regression model on the test set :\n",
            "0.529 +/- 0.022\n"
          ]
        }
      ]
    }
  ]
}