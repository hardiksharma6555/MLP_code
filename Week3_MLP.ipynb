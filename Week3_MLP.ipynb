{
  "nbformat": 4,
  "nbformat_minor": 0,
  "metadata": {
    "colab": {
      "provenance": [],
      "collapsed_sections": [],
      "authorship_tag": "ABX9TyMsE4PDheWAqyA47siBoAP6",
      "include_colab_link": true
    },
    "kernelspec": {
      "name": "python3",
      "display_name": "Python 3"
    },
    "language_info": {
      "name": "python"
    }
  },
  "cells": [
    {
      "cell_type": "markdown",
      "metadata": {
        "id": "view-in-github",
        "colab_type": "text"
      },
      "source": [
        "<a href=\"https://colab.research.google.com/github/hardiksharma6555/MLP_code/blob/main/Week3_MLP.ipynb\" target=\"_parent\"><img src=\"https://colab.research.google.com/assets/colab-badge.svg\" alt=\"Open In Colab\"/></a>"
      ]
    },
    {
      "cell_type": "code",
      "execution_count": 1,
      "metadata": {
        "id": "QDr424usQFAS"
      },
      "outputs": [],
      "source": [
        "import numpy as np\n",
        "import pandas as pd\n",
        "import matplotlib.pyplot as plt\n",
        "import seaborn as sns\n",
        "\n",
        "from sklearn.datasets import fetch_california_housing\n",
        "from sklearn.linear_model import LinearRegression\n",
        "from sklearn.model_selection import cross_validate\n",
        "from sklearn.model_selection import cross_val_score\n",
        "from sklearn.model_selection import learning_curve\n",
        "from sklearn.model_selection import ShuffleSplit\n",
        "from sklearn.model_selection import permutation_test_score\n",
        "\n",
        "from sklearn.metrics import mean_squared_error\n",
        "from sklearn.metrics import mean_absolute_error\n",
        "from sklearn.metrics import mean_squared_error\n",
        "from sklearn.metrics import mean_absolute_percentage_error\n",
        "from sklearn.metrics import explained_variance_score\n",
        "from sklearn.metrics import max_error\n",
        "\n",
        "from sklearn.pipeline import Pipeline\n",
        "from sklearn.preprocessing import StandardScaler\n",
        "\n",
        "from sklearn.dummy import DummyRegressor"
      ]
    },
    {
      "cell_type": "code",
      "source": [
        "np.random.seed(42)\n",
        "plt.style.use('seaborn')"
      ],
      "metadata": {
        "id": "EnjyrQCjQgWc"
      },
      "execution_count": 2,
      "outputs": []
    },
    {
      "cell_type": "code",
      "source": [
        "shuffle_split_cv = ShuffleSplit(n_splits=10, test_size=0.2, random_state=0)"
      ],
      "metadata": {
        "id": "91AReysIQkNE"
      },
      "execution_count": 3,
      "outputs": []
    },
    {
      "cell_type": "code",
      "source": [
        "features, labels = fetch_california_housing(as_frame=True, return_X_y=True)"
      ],
      "metadata": {
        "id": "RVcctwGcQm7d"
      },
      "execution_count": 4,
      "outputs": []
    },
    {
      "cell_type": "code",
      "source": [
        "print('Shape of feature matrix : ', features.shape)\n",
        "print('Shape of labels matrix : ', labels.shape)"
      ],
      "metadata": {
        "colab": {
          "base_uri": "https://localhost:8080/"
        },
        "id": "6xpJxOxk8T3x",
        "outputId": "fdd5673d-5265-4257-e002-f18ff591f4ad"
      },
      "execution_count": 5,
      "outputs": [
        {
          "output_type": "stream",
          "name": "stdout",
          "text": [
            "Shape of feature matrix :  (20640, 8)\n",
            "Shape of labels matrix :  (20640,)\n"
          ]
        }
      ]
    },
    {
      "cell_type": "code",
      "source": [
        "assert (features.shape[0]==labels.shape[0])"
      ],
      "metadata": {
        "id": "8ImIXRaG8WaH"
      },
      "execution_count": 6,
      "outputs": []
    },
    {
      "cell_type": "code",
      "source": [
        "from sklearn.model_selection import train_test_split\n",
        "\n",
        "train_features, test_features, train_labels, test_labels = train_test_split(\n",
        "    features, labels, random_state=42)\n",
        "\n",
        "train_features.info()"
      ],
      "metadata": {
        "colab": {
          "base_uri": "https://localhost:8080/"
        },
        "id": "K2vm2wS88Yq4",
        "outputId": "c05b7f24-a6a8-4ecc-ccd1-7a4144d23c37"
      },
      "execution_count": 7,
      "outputs": [
        {
          "output_type": "stream",
          "name": "stdout",
          "text": [
            "<class 'pandas.core.frame.DataFrame'>\n",
            "Int64Index: 15480 entries, 8158 to 15795\n",
            "Data columns (total 8 columns):\n",
            " #   Column      Non-Null Count  Dtype  \n",
            "---  ------      --------------  -----  \n",
            " 0   MedInc      15480 non-null  float64\n",
            " 1   HouseAge    15480 non-null  float64\n",
            " 2   AveRooms    15480 non-null  float64\n",
            " 3   AveBedrms   15480 non-null  float64\n",
            " 4   Population  15480 non-null  float64\n",
            " 5   AveOccup    15480 non-null  float64\n",
            " 6   Latitude    15480 non-null  float64\n",
            " 7   Longitude   15480 non-null  float64\n",
            "dtypes: float64(8)\n",
            "memory usage: 1.1 MB\n"
          ]
        }
      ]
    },
    {
      "cell_type": "code",
      "source": [
        "print('Number of training samples : ', train_features.shape[0])\n",
        "print('Number of test samples : ', test_features.shape[0])"
      ],
      "metadata": {
        "colab": {
          "base_uri": "https://localhost:8080/"
        },
        "id": "wL8ynBIC8bPl",
        "outputId": "d93fdb7b-0e35-4fbb-cb85-ba9a1a8e59c1"
      },
      "execution_count": 8,
      "outputs": [
        {
          "output_type": "stream",
          "name": "stdout",
          "text": [
            "Number of training samples :  15480\n",
            "Number of test samples :  5160\n"
          ]
        }
      ]
    },
    {
      "cell_type": "code",
      "source": [
        "assert (train_features.shape[0] == train_labels.shape[0])\n",
        "assert (test_features.shape[0] == test_labels.shape[0])"
      ],
      "metadata": {
        "id": "SF6TV3KG8etD"
      },
      "execution_count": 9,
      "outputs": []
    },
    {
      "cell_type": "code",
      "source": [
        "lin_reg_pipeline = Pipeline([\n",
        "    ('feature_scaling', StandardScaler()),\n",
        "    ('lin_reg', LinearRegression())\n",
        "])\n",
        "\n",
        "lin_reg_pipeline.fit(train_features, train_labels)"
      ],
      "metadata": {
        "colab": {
          "base_uri": "https://localhost:8080/"
        },
        "id": "6SCjwYZX8hEM",
        "outputId": "6d004163-27dc-452f-b7c4-f6eede2d5b25"
      },
      "execution_count": 10,
      "outputs": [
        {
          "output_type": "execute_result",
          "data": {
            "text/plain": [
              "Pipeline(steps=[('feature_scaling', StandardScaler()),\n",
              "                ('lin_reg', LinearRegression())])"
            ]
          },
          "metadata": {},
          "execution_count": 10
        }
      ]
    }
  ]
}