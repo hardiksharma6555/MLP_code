{
  "nbformat": 4,
  "nbformat_minor": 0,
  "metadata": {
    "colab": {
      "provenance": [],
      "authorship_tag": "ABX9TyNL8k66zWOMm76NfcXfELjL",
      "include_colab_link": true
    },
    "kernelspec": {
      "name": "python3",
      "display_name": "Python 3"
    },
    "language_info": {
      "name": "python"
    }
  },
  "cells": [
    {
      "cell_type": "markdown",
      "metadata": {
        "id": "view-in-github",
        "colab_type": "text"
      },
      "source": [
        "<a href=\"https://colab.research.google.com/github/hardiksharma6555/MLP_code/blob/main/15_18.ipynb\" target=\"_parent\"><img src=\"https://colab.research.google.com/assets/colab-badge.svg\" alt=\"Open In Colab\"/></a>"
      ]
    },
    {
      "cell_type": "code",
      "execution_count": 29,
      "metadata": {
        "id": "qPO7ahbGj-_S"
      },
      "outputs": [],
      "source": [
        "import numpy as np\n",
        "from sklearn.datasets import load_diabetes\n",
        "X,y = load_diabetes(as_frame = True, return_X_y = True)"
      ]
    },
    {
      "cell_type": "code",
      "source": [
        "X.shape"
      ],
      "metadata": {
        "id": "oEDxqAs3zFju",
        "outputId": "404c23c5-9c59-4d54-cab7-9614e6b95d1c",
        "colab": {
          "base_uri": "https://localhost:8080/"
        }
      },
      "execution_count": 4,
      "outputs": [
        {
          "output_type": "execute_result",
          "data": {
            "text/plain": [
              "(442, 10)"
            ]
          },
          "metadata": {},
          "execution_count": 4
        }
      ]
    },
    {
      "cell_type": "code",
      "source": [
        "from sklearn.model_selection import train_test_split\n",
        "from sklearn.preprocessing import StandardScaler\n",
        "from sklearn.linear_model import LinearRegression\n",
        "X_train,X_test,y_train,y_test = train_test_split(X,y,test_size = 0.20, random_state = 10)"
      ],
      "metadata": {
        "id": "jxQQ6K_bzNwP"
      },
      "execution_count": 11,
      "outputs": []
    },
    {
      "cell_type": "code",
      "source": [
        "scaler = StandardScaler().fit(X_train)"
      ],
      "metadata": {
        "id": "HQ8ZX6OYz-aq"
      },
      "execution_count": 9,
      "outputs": []
    },
    {
      "cell_type": "code",
      "source": [
        "X_train=scaler.transform(X_train)\n",
        "X_test=scaler.transform(X_test)"
      ],
      "metadata": {
        "id": "M5GCq75z03Oc"
      },
      "execution_count": 10,
      "outputs": []
    },
    {
      "cell_type": "code",
      "source": [
        "reg=LinearRegression()"
      ],
      "metadata": {
        "id": "pBgdHsE70_Li"
      },
      "execution_count": 12,
      "outputs": []
    },
    {
      "cell_type": "code",
      "source": [
        "reg.fit(X_train,y_train)"
      ],
      "metadata": {
        "id": "CKDH4-Oy1g0z",
        "outputId": "3ceed246-2e4b-4900-aa91-b0c1f30e38b0",
        "colab": {
          "base_uri": "https://localhost:8080/"
        }
      },
      "execution_count": 13,
      "outputs": [
        {
          "output_type": "execute_result",
          "data": {
            "text/plain": [
              "LinearRegression()"
            ]
          },
          "metadata": {},
          "execution_count": 13
        }
      ]
    },
    {
      "cell_type": "code",
      "source": [
        "reg.score(X_train,y_train)"
      ],
      "metadata": {
        "id": "sv7fmiT41pYJ",
        "outputId": "9caff9c8-f388-4ce5-ef09-87250468248d",
        "colab": {
          "base_uri": "https://localhost:8080/"
        }
      },
      "execution_count": 14,
      "outputs": [
        {
          "output_type": "execute_result",
          "data": {
            "text/plain": [
              "0.5122968220801789"
            ]
          },
          "metadata": {},
          "execution_count": 14
        }
      ]
    },
    {
      "cell_type": "code",
      "source": [
        "reg.score(X_test,y_test)"
      ],
      "metadata": {
        "id": "aR9WUvX91uAt",
        "outputId": "ad7a9e1d-dd09-4e1b-8f5e-e451e6f511a9",
        "colab": {
          "base_uri": "https://localhost:8080/"
        }
      },
      "execution_count": 15,
      "outputs": [
        {
          "output_type": "execute_result",
          "data": {
            "text/plain": [
              "0.5341962544929233"
            ]
          },
          "metadata": {},
          "execution_count": 15
        }
      ]
    },
    {
      "cell_type": "code",
      "source": [
        "from sklearn.metrics import r2_score\n",
        "r2_score(y_test,reg.predict(X_test))"
      ],
      "metadata": {
        "id": "okvRv0921wox",
        "outputId": "a40d4d3e-a88b-439c-8f7e-df1042dfc452",
        "colab": {
          "base_uri": "https://localhost:8080/"
        }
      },
      "execution_count": 17,
      "outputs": [
        {
          "output_type": "execute_result",
          "data": {
            "text/plain": [
              "0.5341962544929233"
            ]
          },
          "metadata": {},
          "execution_count": 17
        }
      ]
    },
    {
      "cell_type": "code",
      "source": [
        "for x,y in zip(X.columns,reg.coef_):\n",
        "  print(x,'\\t',y)"
      ],
      "metadata": {
        "id": "MrzrlCKH2Ief",
        "outputId": "4de55fb9-125c-4b9f-e1e7-e1d16d13abde",
        "colab": {
          "base_uri": "https://localhost:8080/"
        }
      },
      "execution_count": 18,
      "outputs": [
        {
          "output_type": "stream",
          "name": "stdout",
          "text": [
            "age \t -3.8915518751990583\n",
            "sex \t -225.6288002668943\n",
            "bmi \t 517.8952535452487\n",
            "bp \t 328.3213218331001\n",
            "s1 \t -727.2334556320293\n",
            "s2 \t 410.9679939229471\n",
            "s3 \t 80.26601136502406\n",
            "s4 \t 218.1873835517526\n",
            "s5 \t 704.2805540977653\n",
            "s6 \t 40.02247237846459\n"
          ]
        }
      ]
    },
    {
      "cell_type": "code",
      "source": [
        "from sklearn.linear_model import RidgeCV\n",
        "from sklearn.model_selection import cross_val_score\n",
        "from sklearn.preprocessing import StandardScaler"
      ],
      "metadata": {
        "id": "X7xOodEq2WIo"
      },
      "execution_count": 27,
      "outputs": []
    },
    {
      "cell_type": "code",
      "source": [
        "X,y=load_diabetes(as_frame = True,return_X_y=True)\n",
        "X_train, X_test,y_train,y_test = train_test_split(X,y,random_state = 0, train_size = 0.20)"
      ],
      "metadata": {
        "id": "4iTLpVi42zOq"
      },
      "execution_count": 22,
      "outputs": []
    },
    {
      "cell_type": "code",
      "source": [
        "scaler = StandardScaler().fit(X_train)"
      ],
      "metadata": {
        "id": "5M760KIX3MEX"
      },
      "execution_count": 24,
      "outputs": []
    },
    {
      "cell_type": "code",
      "source": [
        "X_train=scaler.transform(X_train)\n",
        "X_test=scaler.transform(X_test)"
      ],
      "metadata": {
        "id": "GEFxKlva3WrA"
      },
      "execution_count": 25,
      "outputs": []
    },
    {
      "cell_type": "code",
      "source": [
        "a = np.logspace(-4,0,num=20)\n",
        "a = tuple(a)"
      ],
      "metadata": {
        "id": "HAigjlRR8IDR"
      },
      "execution_count": 30,
      "outputs": []
    },
    {
      "cell_type": "code",
      "source": [
        "ridge=RidgeCV(alphas=a,cv=5,scoring='neg_mean_absolute_error')"
      ],
      "metadata": {
        "id": "7kdNkfpS8Ua7"
      },
      "execution_count": 31,
      "outputs": []
    },
    {
      "cell_type": "code",
      "source": [
        "ridge.fit(X_train,y_train)"
      ],
      "metadata": {
        "id": "8oNJDFEZ9Yxw",
        "outputId": "cca3b513-20b8-4d9a-f877-1db0ef6af2ba",
        "colab": {
          "base_uri": "https://localhost:8080/"
        }
      },
      "execution_count": 32,
      "outputs": [
        {
          "output_type": "execute_result",
          "data": {
            "text/plain": [
              "RidgeCV(alphas=array([1.00000000e-04, 1.62377674e-04, 2.63665090e-04, 4.28133240e-04,\n",
              "       6.95192796e-04, 1.12883789e-03, 1.83298071e-03, 2.97635144e-03,\n",
              "       4.83293024e-03, 7.84759970e-03, 1.27427499e-02, 2.06913808e-02,\n",
              "       3.35981829e-02, 5.45559478e-02, 8.85866790e-02, 1.43844989e-01,\n",
              "       2.33572147e-01, 3.79269019e-01, 6.15848211e-01, 1.00000000e+00]),\n",
              "        cv=5, scoring='neg_mean_absolute_error')"
            ]
          },
          "metadata": {},
          "execution_count": 32
        }
      ]
    },
    {
      "cell_type": "code",
      "source": [
        "ridge.best_score_"
      ],
      "metadata": {
        "id": "snhn3DCy9fiz",
        "outputId": "ccbe4c24-a089-4b10-dc44-09beec0d6f64",
        "colab": {
          "base_uri": "https://localhost:8080/"
        }
      },
      "execution_count": 33,
      "outputs": [
        {
          "output_type": "execute_result",
          "data": {
            "text/plain": [
              "-44.81624967487378"
            ]
          },
          "metadata": {},
          "execution_count": 33
        }
      ]
    },
    {
      "cell_type": "code",
      "source": [
        "ridge.score(X_train,y_train)"
      ],
      "metadata": {
        "id": "QJVSeoBr9meD",
        "outputId": "b9f2c373-7b9a-47b8-dd20-f5f70a9e5a05",
        "colab": {
          "base_uri": "https://localhost:8080/"
        }
      },
      "execution_count": 34,
      "outputs": [
        {
          "output_type": "execute_result",
          "data": {
            "text/plain": [
              "0.6453722402470166"
            ]
          },
          "metadata": {},
          "execution_count": 34
        }
      ]
    },
    {
      "cell_type": "code",
      "source": [
        "scores = cross_val_score(estimator=ridge,X=X_train,y=y_train,scoring='neg_mean_absolute_error',cv = 5)"
      ],
      "metadata": {
        "id": "XEhaZnSh9wQg"
      },
      "execution_count": 35,
      "outputs": []
    },
    {
      "cell_type": "code",
      "source": [],
      "metadata": {
        "id": "RQpIHuix9_qH"
      },
      "execution_count": null,
      "outputs": []
    }
  ]
}