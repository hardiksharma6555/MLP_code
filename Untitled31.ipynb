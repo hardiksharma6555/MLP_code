{
  "nbformat": 4,
  "nbformat_minor": 0,
  "metadata": {
    "colab": {
      "provenance": [],
      "authorship_tag": "ABX9TyOwTSiW0ErqKWuYCE/Ib5TX",
      "include_colab_link": true
    },
    "kernelspec": {
      "name": "python3",
      "display_name": "Python 3"
    },
    "language_info": {
      "name": "python"
    }
  },
  "cells": [
    {
      "cell_type": "markdown",
      "metadata": {
        "id": "view-in-github",
        "colab_type": "text"
      },
      "source": [
        "<a href=\"https://colab.research.google.com/github/hardiksharma6555/MLP_code/blob/main/Untitled31.ipynb\" target=\"_parent\"><img src=\"https://colab.research.google.com/assets/colab-badge.svg\" alt=\"Open In Colab\"/></a>"
      ]
    },
    {
      "cell_type": "code",
      "execution_count": 1,
      "metadata": {
        "id": "pQbTyhO7_zL5"
      },
      "outputs": [],
      "source": [
        "import pandas as pd\n",
        "import numpy as np\n",
        "import seaborn as sns\n",
        "import matplotlib.pyplot as plt"
      ]
    },
    {
      "cell_type": "code",
      "source": [
        "from sklearn.datasets import fetch_california_housing\n",
        "from sklearn.metrics import mean_squared_error\n",
        "from sklearn.metrics import mean_absolute_error\n",
        "from sklearn.metrics import mean_absolute_percentage_error\n",
        "from sklearn.metrics import r2_score\n",
        "from sklearn.model_selection import cross_validate\n",
        "from sklearn.model_selection import cross_val_score\n",
        "from sklearn.model_selection import train_test_split\n",
        "from sklearn.model_selection import ShuffleSplit\n",
        "from sklearn.model_selection import validation_curve\n",
        "from sklearn.model_selection import GridSearchCV\n",
        "from sklearn.model_selection import RandomizedSearchCV\n",
        "from sklearn.preprocessing import PolynomialFeatures\n",
        "from sklearn.preprocessing import StandardScaler\n",
        "from sklearn.pipeline import Pipeline\n",
        "from sklearn.tree import DecisionTreeRegressor\n",
        "from sklearn import tree\n",
        "from sklearn.tree import export_text"
      ],
      "metadata": {
        "id": "lQoC6eSi_6hc"
      },
      "execution_count": 7,
      "outputs": []
    },
    {
      "cell_type": "code",
      "source": [
        "np.random.seed(306)"
      ],
      "metadata": {
        "id": "7KehhO5nBe6R"
      },
      "execution_count": null,
      "outputs": []
    },
    {
      "cell_type": "markdown",
      "source": [
        "##Doing train-test split"
      ],
      "metadata": {
        "id": "6usZoA1bCYoB"
      }
    },
    {
      "cell_type": "code",
      "source": [
        "cv = ShuffleSplit(n_splits=10, test_size=0.2, random_state=42)"
      ],
      "metadata": {
        "id": "B1ZE0riqCUjm"
      },
      "execution_count": 3,
      "outputs": []
    },
    {
      "cell_type": "code",
      "source": [
        "#fetch dataset\n",
        "features, labels = fetch_california_housing(as_frame=True, return_X_y=True)\n",
        "\n",
        "#train-test split\n",
        "com_train_features, test_features, com_train_labels, test_labels = train_test_split(\n",
        "    features, labels, random_state=42\n",
        ")"
      ],
      "metadata": {
        "id": "dAtT4Eg-DCbK"
      },
      "execution_count": 4,
      "outputs": []
    },
    {
      "cell_type": "markdown",
      "source": [
        "###Model Setup"
      ],
      "metadata": {
        "id": "__i30Uy1D7eI"
      }
    },
    {
      "cell_type": "code",
      "source": [
        "dt_reg_pipeline = Pipeline([(\"feature_scaling\", StandardScaler()),\n",
        "                            (\"dt_reg\", DecisionTreeRegressor(max_depth = 3,random_state = 42))])\n",
        "dt_reg_cv_results = cross_validate(dt_reg_pipeline, \n",
        "                           com_train_features,\n",
        "                           com_train_labels,\n",
        "                           cv=cv, \n",
        "                           scoring = \"neg_mean_absolute_error\",\n",
        "                           return_train_score = True, \n",
        "                           return_estimator=True)\n",
        "\n",
        "dt_reg_train_error = -1 * dt_reg_cv_results['train_score']\n",
        "dt_reg_test_error = -1 * dt_reg_cv_results['test_score']\n",
        "print(f\"Mean absolute error of linear regression model on the train set:\\n\"\n",
        "      f\"dt_reg_train_error.mean():\"\n",
        "\n",
        "\n",
        "\n",
        ")"
      ],
      "metadata": {
        "id": "4y9OTs2jD1pU"
      },
      "execution_count": 9,
      "outputs": []
    },
    {
      "cell_type": "code",
      "source": [],
      "metadata": {
        "id": "tmNJPCc1qnns"
      },
      "execution_count": null,
      "outputs": []
    }
  ]
}